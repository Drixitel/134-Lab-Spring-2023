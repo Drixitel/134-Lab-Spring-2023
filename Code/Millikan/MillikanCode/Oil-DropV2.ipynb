{
 "cells": [
  {
   "cell_type": "code",
   "execution_count": 1,
   "metadata": {},
   "outputs": [],
   "source": [
    "import numpy as np\n",
    "import pandas as pd\n",
    "import matplotlib.pyplot as plt\n",
    "import scipy as sc\n",
    "from scipy import stats \n",
    "import scipy.stats as stat"
   ]
  },
  {
   "cell_type": "code",
   "execution_count": 2,
   "metadata": {},
   "outputs": [],
   "source": [
    "# Constants \n",
    "\n",
    "b   = 8.20E-3         # Viscostiy Correction Factor (given)\n",
    "g   = 9.80            # Gravity (given)\n",
    "p   = 1.013E5         # Atmospheric Pressure (at room temp? - given in docs)\n",
    "n_o = 1.824E-5        # Tabulated Viscosity/ Viscocity of air (given)\n",
    "rho1 = 8.86E2         # Density of oil droplet (given)\n",
    "rho2 = 0              # To be determined for accuracy   \n",
    "\n",
    "#Stored List \n",
    "Constants = [b, g, p, n_o,rho1 ,rho2]"
   ]
  },
  {
   "cell_type": "code",
   "execution_count": 3,
   "metadata": {},
   "outputs": [
    {
     "name": "stdout",
     "output_type": "stream",
     "text": [
      "GIVEN CONSTANTS:\n",
      "Viscostiy Correction Factor:\t\t\t b \t= 8.20e-03 N/m\n",
      "Gravity:\t\t\t\t\t g \t= 9.80e+00 m/s^2\n",
      "Atmospheric Pressure:\t\t\t\t p \t= 1.013e+05 N/m^2\n",
      "Viscocity of air(ucorrected for radius):\t n_o \t= 1.824e-05 N-s/m^2\n",
      "Densidty of Oil Droplet:\t\t\t rho \t= 8.86e+02 kg/m^3\n"
     ]
    }
   ],
   "source": [
    "print(\"Given Constants:\".upper())\n",
    "print(f\"Viscostiy Correction Factor:\\t\\t\\t b \\t= {b:.2e} N/m\")\n",
    "print(f\"Gravity:\\t\\t\\t\\t\\t g \\t= {g:.2e} m/s^2\")\n",
    "print(f\"Atmospheric Pressure:\\t\\t\\t\\t p \\t= {p:.3e} N/m^2\")\n",
    "print(f\"Viscocity of air(ucorrected for radius):\\t n_o \\t= {n_o:.3e} N-s/m^2\")\n",
    "print(f\"Densidty of Oil Droplet:\\t\\t\\t rho \\t= {rho1:.2e} kg/m^3\")"
   ]
  },
  {
   "cell_type": "code",
   "execution_count": 4,
   "metadata": {},
   "outputs": [],
   "source": [
    "# Separation of plates (d) \n",
    "d   = 7.752E-3      # meters\n",
    "\n",
    "# Error in Separation (?)"
   ]
  },
  {
   "cell_type": "code",
   "execution_count": 5,
   "metadata": {},
   "outputs": [],
   "source": [
    "# Plate Separation \n",
    "sigd = 0.0127E-3    # meters\n",
    "sigx = 0.01E-3      # meters\n",
    "sigt = 0.1          # fractional seconds"
   ]
  },
  {
   "cell_type": "markdown",
   "metadata": {},
   "source": [
    "## Functions for radius $a$ \n",
    "\n",
    "> $$a = \\sqrt{\\left(\\frac{b}{2p}\\right)^2 + \\frac{9v_{y0}\\eta_0}{2 \\rho g}} -\\left(\\frac{b}{2p}\\right)$$\n",
    "> > $$a = \\sqrt{\\left(\\alpha\\right)^2 + \\beta} -\\left(\\alpha\\right)$$"
   ]
  },
  {
   "cell_type": "code",
   "execution_count": 6,
   "metadata": {},
   "outputs": [],
   "source": [
    "# Fuction for radius a \n",
    "# assuming b, p, n_o, g are all set \n",
    "# inputs (x,t) for E = 0 \n",
    "\n",
    "def radius(v_y0):     \n",
    "    # Function: Takes (positive) velocity returns radius\n",
    "    # Components of a \n",
    "    # terminal velocity with E = 0 \n",
    "    \n",
    "    # convert mm to m \n",
    "    v_y0 = v_y0\n",
    "    \n",
    "    # alpha \n",
    "    alpha = b/(2*p)\n",
    "\n",
    "    #beta\n",
    "    beta = (9*v_y0*n_o)/(2*rho1*g)\n",
    "    \n",
    "    #radius a \n",
    "    a = np.sqrt((alpha**2)+beta) - alpha\n",
    "   \n",
    "    return a"
   ]
  },
  {
   "cell_type": "markdown",
   "metadata": {},
   "source": [
    "## Function for charge $q$\n",
    "\n",
    "- $q_1 = q_2=  q$ They are just expressed differently \n",
    "\n",
    "> $$ q = \\frac{4}{3}\\pi \\rho g \\frac{d}{V}\\left(\n",
    "\\sqrt{\\left(\\frac{b}{2p}\\right)^2 + \\frac{9v_{y0}\\eta_0}{2 \\rho g}} -\\left(\\frac{b}{2p}\\right)\n",
    "\\right)^3 \\cdot \\frac{v_{yE}-v_{y0}}{v_{y0}}$$\n",
    "> > $$ q_1 = \\frac{4}{3}\\pi \\rho g \\frac{d}{V}a^3 \\cdot \\frac{v_{yE}-v_{y0}}{v_{y0}}$$\n",
    "\n",
    ">>$$ q_2 = 18 \\pi d \\left( \\frac{\\eta_0^3}{2g\\rho}\\right)^{\\frac{1}{2}}\\cdot \n",
    "\\left( \\frac{1}{(1+\\frac{b}{pa})}\\right)^{\\frac{3}{2}} \\sqrt{v_{y0}}\\cdot\n",
    "\\frac{(v_{yE}-v_{y0})}{V}\n",
    "$$"
   ]
  },
  {
   "cell_type": "code",
   "execution_count": 7,
   "metadata": {},
   "outputs": [],
   "source": [
    "# q1 - opting to just use one equation\n",
    "\n",
    "def q1(a,v_y0,v_yE,V):\n",
    "    # Funtion: Takes radius,Velocity E=0 and Velocity E != 0 \n",
    "    #velocity: v_y0 E=0 \n",
    "    #velocity: v_yE E != 0\n",
    "\n",
    "    # convert mm to m \n",
    "    v_y0 = (v_y0)\n",
    "    v_yE = -(v_yE) \n",
    "\n",
    "\n",
    "    #left term (lt) \n",
    "    lt = (4/3)*np.pi*rho1*g*(d/V)*(a**3)\n",
    "\n",
    "    #right term (rt)\n",
    "    rt = (v_yE - v_y0)/ v_y0\n",
    "\n",
    "    q1 = lt*rt\n",
    "    \n",
    "    return q1"
   ]
  },
  {
   "cell_type": "markdown",
   "metadata": {},
   "source": [
    "## Function for Effective Viscosity $\\eta_{eff}(a)$ - if needed for paper\n",
    "\n",
    "$$\\eta_{eff}(a) = \\frac{\\eta_0}{1 + \\frac{b}{pa}}\n",
    "$$"
   ]
  },
  {
   "cell_type": "code",
   "execution_count": 8,
   "metadata": {},
   "outputs": [],
   "source": [
    "# effective viscosity \n",
    "\n",
    "def neff(a): \n",
    "    n_effa = n_o/(1 + (b/(p*a)))\n",
    "\n",
    "    return n_effa"
   ]
  },
  {
   "cell_type": "markdown",
   "metadata": {},
   "source": [
    "# Function to pull data and create a list - per droplet\n",
    "\n",
    "> Droplet_Values(Vf1,Vr1, Vf2,Vr2,Vf3,Vr3,vf av, vr av, Volts V)\n",
    ">> RETURN: list of selected drop"
   ]
  },
  {
   "cell_type": "code",
   "execution_count": 9,
   "metadata": {},
   "outputs": [],
   "source": [
    "def Droplet_Values(n_drop, n_ionized, csv_name_as_string):\n",
    "    # Funtion: Choose Droplet, Choose ionization, Call \"file.csv\"\n",
    "    # Return a list of paramerters per droplet selected \n",
    "    # E.g.: droplet1_ionization2 = [velocities, Voltage]\n",
    "\n",
    "\n",
    "    # Call the CSV file\n",
    "    droplet = pd.read_csv(csv_name_as_string)\n",
    "\n",
    "    # Select the specified droplet by droplet # and Ionization (rows)\n",
    "    d1 = droplet[droplet['Droplet'].isin([n_drop]) & droplet['Ionized'].isin([n_ionized])]\n",
    "\n",
    "    # Select the specified parameters (Velocities and Volts) (columns)\n",
    "    d1 = d1[[\"Vf1\",\"Vr1\",\"Vf2\",\"Vr2\",\"Vf3\",\"Vr3\",\"vf av\",\"vr av\",\"Volts V\",\"varVf1\", \"varVr1\",\"varVf2\",\"varVr2\",\"varVf3\",\"varVr3\"]]\n",
    "\n",
    "    # Convert to array, already is a float\n",
    "    d1 = d1.to_numpy()\n",
    "\n",
    "    # Assign a list \n",
    "    d1_values = []\n",
    "\n",
    "    # use a for loop to unpack the 0th element into our desired list\n",
    "\n",
    "    for value in d1[0]:\n",
    "        d1_values.append(value)\n",
    "\n",
    "    return d1_values\n"
   ]
  },
  {
   "cell_type": "markdown",
   "metadata": {},
   "source": [
    "# Function to pull ALL droplets and place them in a list of lists \n",
    "> Important, Each Droplet and Ionizatoin requires an input no empty rows"
   ]
  },
  {
   "cell_type": "code",
   "execution_count": 10,
   "metadata": {},
   "outputs": [],
   "source": [
    "def CreateDropsDatabase(csv_file_name_as_string): # \"filename.csv\"\n",
    "    # Function: Takes \"file.csv\" Returns list of lists for our drops\n",
    "    # dependent on the function Droplet_Values()\n",
    "    # E.g.: Drops = [d1[velocities,Voltage],...dn[velocities,Voltage]]\n",
    "    # Full detial of function found in Oil-Drop.ipynb\n",
    "\n",
    "    drops = []\n",
    "   \n",
    "    droplet_number = 1 \n",
    "   \n",
    "    while droplet_number is not None: \n",
    "\n",
    "        ionization_number = 0\n",
    "\n",
    "       \n",
    "        while ionization_number is not None: \n",
    "         \n",
    "\n",
    "            try:\n",
    "                d = Droplet_Values(droplet_number, ionization_number, csv_file_name_as_string)\n",
    "        \n",
    "                drops.append(d)\n",
    "                ionization_number += 1\n",
    "\n",
    "            except IndexError:\n",
    "               \n",
    "                if ionization_number == 0: \n",
    "                   \n",
    "                    droplet_number = None\n",
    "                    break\n",
    "                else:\n",
    "                    \n",
    "                    ionization_number = None\n",
    "        \n",
    "        if droplet_number is not None:\n",
    "            droplet_number += 1\n",
    "    return drops "
   ]
  },
  {
   "cell_type": "markdown",
   "metadata": {},
   "source": [
    "# Use Functions and Pull Drops\n",
    ">Droplet_Values(Vf1,Vr1, Vf2,Vr2,Vf3,Vr3,vf av, vr av, Volts V, (all variance values count 6))"
   ]
  },
  {
   "cell_type": "code",
   "execution_count": 11,
   "metadata": {},
   "outputs": [
    {
     "name": "stdout",
     "output_type": "stream",
     "text": [
      "\n",
      "We have 40 drops to examine.\n",
      "Some have multiple ionizations, we will only examine 1 per set of ionizations.\n",
      "Each drop has 15 parameters.\n",
      "\n",
      "[3.65e-05, 0.00025, 4.72e-05, 0.000263, 3.7e-05, 0.000132, 4.02e-05, 0.000215, 501.0, 6.04e-13, 1.81e-10, 1.09e-12, 2.2e-10, 6.24e-13, 1.89e-11]\n",
      "[0.000119, 4.31e-05, 0.000116, 4.39e-05, 0.000114, 0.0002, 0.000116, 9.57e-05, 501.0, 1.37e-11, 8.81e-13, 1.27e-11, 9.17e-13, 1.18e-11, 8e-11]\n",
      "[0.000125, 0.000179, 0.000114, 0.000208, 0.000125, 0.0002, 0.000121, 0.000196, 501.0, 1.6e-11, 5.34e-11, 1.18e-11, 9.27e-11, 1.6e-11, 8e-11]\n",
      "[8.77e-05, 0.000556, 0.000125, 0.000625, 0.000114, 0.000556, 0.000109, 0.000579, 501.0, 5.45e-12, 3.93e-09, 1.6e-11, 6.26e-09, 1.18e-11, 3.93e-09]\n",
      "[0.000111, 0.000714, 0.000119, 0.000833, 0.000122, 0.000833, 0.000117, 0.000794, 501.0, 1.1e-11, 1.06e-08, 1.37e-11, 1.96e-08, 1.48e-11, 1.96e-08]\n",
      "[3.76e-05, 0.000185, 3.23e-05, 0.000217, 4.24e-05, 0.000172, 3.74e-05, 0.000192, 501.0, 6.45e-13, 6.08e-11, 4.6e-13, 1.08e-10, 8.47e-13, 4.72e-11]\n",
      "[3.01e-05, 0.000417, 2.7e-05, 0.000333, 2.44e-05, 0.000357, 2.72e-05, 0.000369, 501.0, 3.96e-13, 1.28e-09, 3.14e-13, 5.38e-10, 2.52e-13, 7.02e-10]\n",
      "[2.79e-05, 0.000357, 3.31e-05, 0.000263, 2.92e-05, 0.000313, 3.01e-05, 0.000311, 501.0, 3.36e-13, 7.02e-10, 4.87e-13, 2.2e-10, 3.71e-13, 4.21e-10]\n",
      "[4.55e-05, 0.000417, 2.98e-05, 0.000179, 2.53e-05, 0.000185, 3.35e-05, 0.00026, 501.0, 9.97e-13, 1.28e-09, 3.86e-13, 5.34e-11, 2.71e-13, 6.08e-11]\n",
      "[4.55e-05, 0.000263, 3.62e-05, 0.00025, 2.33e-05, 0.00025, 3.5e-05, 0.000254, 501.0, 9.97e-13, 2.2e-10, 5.94e-13, 1.81e-10, 2.28e-13, 1.81e-10]\n",
      "[2.58e-05, 0.00025, 2.36e-05, 0.000227, 3.03e-05, 0.000313, 2.66e-05, 0.000263, 501.0, 2.83e-13, 1.81e-10, 2.35e-13, 1.27e-10, 4.01e-13, 4.21e-10]\n",
      "[5.56e-05, 0.000166, 5.58e-05, 0.000126, 5.57e-05, 0.000143, 5.57e-05, 0.000145, 501.0, 1.62e-12, 4.1e-11, 1.63e-12, 1.63e-11, 1.62e-12, 2.48e-11]\n",
      "[4.31e-05, 0.000313, 4.72e-05, 0.000313, 4.03e-05, 0.000294, 4.35e-05, 0.000306, 501.0, 8.81e-13, 4.21e-10, 1.09e-12, 4.21e-10, 7.56e-13, 3.34e-10]\n",
      "[4.65e-05, 0.000179, 5.32e-05, 0.000167, 4.85e-05, 0.000294, 4.94e-05, 0.000213, 501.0, 1.64e-12, 5.34e-11, 1.45e-12, 1.17e-10, 1.16e-12, 3.34e-10]\n",
      "[3.95e-05, 0.00128, 4.09e-05, 0.000459, 3.91e-05, 0.000273, 3.98e-05, 0.000671, 501.0, 7.23e-13, 1.09e-07, 7.82e-13, 1.86e-09, 7.03e-13, 2.53e-10]\n",
      "[3.36e-05, 9.58e-05, 3.57e-05, 0.000155, 3.68e-05, 0.000155, 3.54e-05, 0.000135, 501.0, 5.04e-13, 7.04e-12, 5.75e-13, 3.29e-11, 6.14e-13, 3.29e-11]\n",
      "[3.67e-05, 0.000177, 3.76e-05, 0.000162, 2.85e-05, 6.97e-05, 3.43e-05, 0.000136, 501.0, 6.13e-13, 5.15e-11, 6.45e-13, 3.79e-11, 3.52e-13, 2.89e-12]\n",
      "[6.93e-05, 6.89e-05, 6.61e-05, 7.18e-05, 5.81e-05, 6.49e-05, 6.45e-05, 6.85e-05, 501.0, 2.84e-12, 2.8e-12, 2.51e-12, 3.13e-12, 1.8e-12, 2.4e-12]\n",
      "[6.54e-05, 3.08e-05, 6.25e-05, 2.91e-05, 5.25e-05, 0.000146, 6.01e-05, 6.86e-05, 501.0, 2.44e-12, 4.16e-13, 2.17e-12, 3.68e-13, 1.41e-12, 2.66e-11]\n",
      "[6.68e-05, 3.47e-05, 5.78e-05, 3.31e-05, 5.86e-05, 2.8e-05, 6.11e-05, 3.2e-05, 501.0, 2.59e-12, 5.41e-13, 1.78e-12, 4.87e-13, 2.88e-12, 3.39e-13]\n",
      "[5.11e-05, 4.55e-05, 6.02e-05, 3.99e-05, 5e-05, 5.02e-05, 5.38e-05, 4.52e-05, 501.0, 1.32e-12, 9.97e-13, 1.98e-12, 7.4e-13, 1.25e-12, 1.26e-12]\n",
      "[2.6e-05, 0.000209, 2.48e-05, 0.000221, 2.57e-05, 0.00041, 2.55e-05, 0.00028, 501.0, 2.88e-13, 9.41e-11, 2.61e-13, 1.15e-10, 2.82e-13, 1.2e-09]\n",
      "[3.1e-05, 0.000101, 2.55e-05, 0.000769, 3.36e-05, 0.000769, 3e-05, 0.000547, 501.0, 4.21e-13, 6.87e-12, 2.77e-13, 1.42e-08, 5.03e-13, 1.42e-08]\n",
      "[4.7e-05, 9.19e-05, 4.65e-05, 0.000227, 4.55e-05, 0.000208, 4.63e-05, 0.000176, 501.0, 1.08e-12, 6.23e-12, 1.05e-12, 1.27e-10, 9.97e-13, 9.27e-11]\n",
      "[4.55e-05, 0.000313, 3.99e-05, 0.000326, 4.17e-05, 0.000313, 4.24e-05, 0.000317, 501.0, 9.97e-13, 4.21e-10, 7.4e-13, 3.44e-10, 8.15e-13, 4.21e-10]\n",
      "[2.98e-05, 7.1e-05, 3.85e-05, 8.06e-05, 3.18e-05, 0.000103, 3.33e-05, 8.5e-05, 501.0, 6.03e-13, 3.04e-12, 6.79e-13, 4.29e-12, 4.46e-13, 8.82e-12]\n",
      "[5.75e-05, 0.000313, 5.81e-05, 0.000312, 5.81e-05, 0.000263, 5.79e-05, 0.000296, 501.0, 1.76e-12, 4.21e-10, 1.81e-12, 4.21e-10, 1.81e-12, 2.2e-10]\n",
      "[0.000185, 0.000185, 0.000172, 0.000172, 0.000179, 0.000172, 0.000179, 0.000177, 501.0, 6.08e-11, 6.08e-11, 4.72e-11, 4.72e-11, 5.34e-11, 4.72e-11]\n",
      "[0.000179, 0.000357, 0.000192, 0.000312, 0.000179, 0.000313, 0.000183, 0.000327, 501.0, 5.34e-11, 7.02e-10, 6.95e-11, 4.21e-10, 5.34e-11, 4.21e-10]\n",
      "[0.000167, 0.000333, 0.000172, 0.000313, 0.000172, 0.000312, 0.00017, 0.000319, 501.0, 4.2e-11, 5.38e-10, 4.72e-11, 4.21e-10, 4.72e-11, 4.21e-10]\n",
      "[0.000172, 0.000156, 0.000179, 0.000156, 0.000167, 0.000143, 0.000173, 0.000152, 501.0, 4.72e-11, 3.36e-11, 5.34e-11, 3.36e-11, 4.2e-11, 2.48e-11]\n",
      "[0.000172, 3.97e-05, 0.000172, 4.07e-05, 0.000172, 4.85e-05, 0.000172, 4.3e-05, 501.0, 4.72e-11, 7.29e-13, 4.72e-11, 7.7e-13, 4.72e-11, 1.16e-12]\n",
      "[4.76e-05, 6.49e-05, 5.1e-05, 5.75e-05, 5.1e-05, 6.58e-05, 4.99e-05, 6.27e-05, 501.0, 1.11e-12, 2.4e-12, 1.31e-12, 1.76e-12, 1.31e-12, 2.48e-12]\n",
      "[3.38e-05, 0.000312, 2.86e-05, 0.0005, 3.29e-05, 0.000625, 3.17e-05, 0.000479, 501.0, 5.09e-13, 4.21e-10, 3.53e-13, 2.6e-09, 4.8e-13, 6.26e-09]\n",
      "[3.79e-05, 0.000208, 3.85e-05, 0.00025, 3.82e-05, 0.000227, 3.82e-05, 0.000229, 501.0, 6.56e-13, 9.27e-11, 6.79e-13, 1.81e-10, 6.68e-13, 1.27e-10]\n",
      "[6.58e-05, 0.000313, 6.94e-05, 0.000357, 6.41e-05, 0.0005, 6.64e-05, 0.00039, 501.0, 2.48e-12, 4.21e-10, 2.86e-12, 7.02e-10, 2.32e-12, 2.6e-09]\n",
      "[7.46e-05, 0.000556, 7.94e-05, 0.000455, 7.58e-05, 0.0005, 7.66e-05, 0.000503, 501.0, 3.47e-12, 3.93e-09, 4.11e-12, 1.79e-09, 3.61e-12, 2.6e-09]\n",
      "[7.58e-05, 0.000278, 7.81e-05, 0.000278, 7.35e-05, 0.000294, 7.58e-05, 0.000283, 501.0, 3.61e-12, 2.69e-10, 3.93e-12, 2.69e-10, 3.33e-12, 3.34e-10]\n",
      "[6.76e-05, 0.00025, 6.58e-05, 0.000238, 6.85e-05, 0.000278, 6.73e-05, 0.000255, 501.0, 2.66e-12, 1.81e-10, 2.48e-12, 1.51e-10, 2.76e-12, 2.69e-10]\n",
      "[6.41e-05, 0.000238, 7.14e-05, 0.000227, 6.41e-05, 0.000238, 6.65e-05, 0.000234, 501.0, 2.32e-12, 1.51e-10, 3.08e-12, 1.27e-10, 2.32e-12, 1.51e-10]\n"
     ]
    }
   ],
   "source": [
    "all_drops = CreateDropsDatabase(\"Velocities.csv\")\n",
    "print(f\"\\nWe have {len(all_drops)} drops to examine.\")\n",
    "print(f\"Some have multiple ionizations, we will only examine 1 per set of ionizations.\")\n",
    "print(f\"Each drop has {len(all_drops[0])} parameters.\\n\")\n",
    "\n",
    "for x in all_drops: \n",
    "    print(x)"
   ]
  },
  {
   "cell_type": "code",
   "execution_count": 12,
   "metadata": {},
   "outputs": [
    {
     "name": "stdout",
     "output_type": "stream",
     "text": [
      "Test call to droplet index 6:\n",
      "[6.41e-05, 0.000238, 7.14e-05, 0.000227, 6.41e-05, 0.000238, 6.65e-05, 0.000234, 501.0, 2.32e-12, 1.51e-10, 3.08e-12, 1.27e-10, 2.32e-12, 1.51e-10]\n"
     ]
    }
   ],
   "source": [
    "# Test Call a droplet from list \n",
    "# print(all_drops[0])\n",
    "print('Test call to droplet index 6:')\n",
    "print(all_drops[-1])"
   ]
  },
  {
   "cell_type": "markdown",
   "metadata": {},
   "source": [
    "# Variance \n",
    "$$\n",
    "var(x) = \\sigma_x^2\n",
    "$$"
   ]
  },
  {
   "cell_type": "code",
   "execution_count": 13,
   "metadata": {},
   "outputs": [],
   "source": [
    "def varq(ri, v_y0, v_yE, sigvf, sigvr):\n",
    "    phi1 = ((18*np.pi)/501)\n",
    "    insqrt = (n_o**3)/(2*g*p)\n",
    "    phi2 = np.sqrt(insqrt)\n",
    "\n",
    "    #radius input\n",
    "    c = 1 + (b/(p*ri))\n",
    "    incubrt = 1/c\n",
    "    phi3 = incubrt**(3/2)\n",
    "\n",
    "    phi = phi1*phi2*phi3\n",
    "\n",
    "    #term1 sigma v_y0\n",
    "    t1 = phi*d*(v_yE-3*v_y0)\n",
    "    t2 = 2*np.sqrt(v_y0)\n",
    "\n",
    "    term1 = ((t1/t2)**2)*sigvf**2\n",
    "\n",
    "    #term2 sigma v_yE\n",
    "    t3 = phi*d*np.sqrt(v_y0)\n",
    "\n",
    "    term2 = (t3**2)*sigvr**2\n",
    "\n",
    "    #term3 sigma d\n",
    "    t4 = phi*np.sqrt(v_y0)*(v_yE-v_y0)\n",
    "\n",
    "    term3 = (t4**2)*sigd**2\n",
    "\n",
    "    #variance\n",
    "    varq = term1+term2+term3 \n",
    "\n",
    "    return varq"
   ]
  },
  {
   "cell_type": "markdown",
   "metadata": {},
   "source": [
    "# Exctract variance per velocity combination"
   ]
  },
  {
   "cell_type": "code",
   "execution_count": 14,
   "metadata": {},
   "outputs": [],
   "source": [
    "def sigmaCharge_NotAveragedVel(drops_list_of_lists): \n",
    "    # droplet = to loop through\n",
    "    # drops a list of lists previously created\n",
    "\n",
    "    # function takes list to loop through\n",
    "    # returns two lists one for radius and one for charge \n",
    "    list_of_varq_values = []\n",
    "\n",
    "\n",
    "    for droplet in drops_list_of_lists: \n",
    "        # n = index value of 1droplets parameters\n",
    "        # n = 0  \n",
    "        # print(droplet)\n",
    "        for i in range(3): \n",
    "            idx = i * 2\n",
    "\n",
    "            # if n > 4: \n",
    "            #     break\n",
    "            # else: \n",
    "            if droplet[idx] ==0 or droplet[idx+1] ==0: \n",
    "                print(\"no value vf.vr\")\n",
    "                continue\n",
    "            else:\n",
    "                # print(n)\n",
    "                # print('new drop vf.vr')\n",
    "                # print(droplet[n])\n",
    "                # print(droplet[n+1])\n",
    "\n",
    "                #calc radius\n",
    "                ri = radius(droplet[idx])\n",
    "                \n",
    "\n",
    "                #calculate charge \n",
    "                qi = q1(ri,droplet[idx],droplet[idx+1],droplet[8])\n",
    "\n",
    "                #calculate varq\n",
    "                varqi = varq(ri,droplet[idx],droplet[idx+1], droplet[idx+9], droplet[idx+10])\n",
    "                list_of_varq_values.append(varqi)\n",
    "                # n += 2\n",
    "    return list_of_varq_values"
   ]
  },
  {
   "cell_type": "markdown",
   "metadata": {},
   "source": [
    "# Function to extract parameters per drop and create list<br>\n",
    "# (Velocities are NOT Averaged)"
   ]
  },
  {
   "cell_type": "code",
   "execution_count": 15,
   "metadata": {},
   "outputs": [],
   "source": [
    "def Radii_Charge_NotAveragedVel(drops_list_of_lists): \n",
    "    # droplet = to loop through\n",
    "    # drops a list of lists previously created\n",
    "\n",
    "    # function takes list to loop through\n",
    "    # returns two lists one for radius and one for charge \n",
    "    list_of_radius_values = []\n",
    "    list_of_charge_values =[]\n",
    "\n",
    "\n",
    "    for droplet in drops_list_of_lists: \n",
    "        # n = index value of 1droplets parameters\n",
    "        # n = 0  \n",
    "        # print(droplet)\n",
    "        for i in range(3): \n",
    "            idx = i * 2\n",
    "\n",
    "            # if n > 4: \n",
    "            #     break\n",
    "            # else: \n",
    "            if droplet[idx] ==0 or droplet[idx+1] ==0: \n",
    "                list_of_radius_values.append(0)\n",
    "                list_of_charge_values.append(0)\n",
    "                print(\"no value vf.vr\")\n",
    "                continue\n",
    "            else:\n",
    "                # print(n)\n",
    "                # print('new drop vf.vr')\n",
    "                # print(droplet[n])\n",
    "                # print(droplet[n+1])\n",
    "\n",
    "                ri = radius(droplet[idx])\n",
    "                list_of_radius_values.append(ri)\n",
    "\n",
    "                #calculate charge \n",
    "                qi = q1(ri,droplet[idx],droplet[idx+1],droplet[8])\n",
    "                list_of_charge_values.append(qi)\n",
    "                # n += 2\n",
    "    return list_of_radius_values, list_of_charge_values"
   ]
  },
  {
   "cell_type": "code",
   "execution_count": 16,
   "metadata": {},
   "outputs": [],
   "source": [
    "#Assign lists \n",
    "r_vel_notav, q_vel_notav = Radii_Charge_NotAveragedVel(all_drops)\n",
    "varq_vel_notav = sigmaCharge_NotAveragedVel(all_drops)"
   ]
  },
  {
   "cell_type": "code",
   "execution_count": 17,
   "metadata": {},
   "outputs": [],
   "source": [
    "# reshape \n",
    "varq_vel_notav_arr = np.array(varq_vel_notav)\n",
    "varq_vel_notav_reshape = varq_vel_notav_arr.reshape(-1,3)\n",
    "# print(varq_vel_notav_reshape)\n",
    "\n",
    "\n",
    "q_vel_notav_arr = np.array(q_vel_notav)\n",
    "q_vel_notav_reshape = q_vel_notav_arr.reshape(-1,3)\n",
    "# print(q_vel_notav_reshape)\n"
   ]
  },
  {
   "cell_type": "markdown",
   "metadata": {},
   "source": [
    "# Compute new sigma per set of 3\n",
    "> $$\\sigma_q^2 = \\frac{1}{\\Sigma_i^3(\\frac{1}{\\sigma_{qi}^2})}$$"
   ]
  },
  {
   "cell_type": "code",
   "execution_count": 18,
   "metadata": {},
   "outputs": [],
   "source": [
    "varqi = varq_vel_notav_reshape\n",
    "varq_inverse = 1/varqi\n",
    "varq_sumin = varq_inverse.sum(axis=1)\n",
    "varq_40 = 1/varq_sumin\n",
    "# print(len(sigq_40))\n",
    "# print(sigq_40)"
   ]
  },
  {
   "cell_type": "markdown",
   "metadata": {},
   "source": [
    "# Compute new Charge per set of 3 \n",
    "> using weighted mean\n",
    ">> $$ \\bar{q} = \\frac{\\Sigma_i^3(\\frac{q_i}{\\sigma_i^2})}{\\Sigma_i^3(\\frac{1}{\\sigma_{qi}^2})}\n",
    "$$"
   ]
  },
  {
   "cell_type": "code",
   "execution_count": 19,
   "metadata": {},
   "outputs": [],
   "source": [
    "qi = q_vel_notav_reshape\n",
    "qi_over_vari = qi/varqi\n",
    "qisum = qi_over_vari.sum(axis = 1)\n",
    "theta = varq_sumin\n",
    "qi_40 = qisum/theta\n",
    "# print(len(qi_40))\n",
    "# print(qi_40)\n"
   ]
  },
  {
   "cell_type": "markdown",
   "metadata": {},
   "source": [
    "# Compute Standrad Div = $\\sigma =\\sqrt(var)$"
   ]
  },
  {
   "cell_type": "code",
   "execution_count": 20,
   "metadata": {},
   "outputs": [],
   "source": [
    "sigq_40 = np.sqrt(varq_40)\n",
    "# print(len(sigq_40))\n",
    "# print(sigq_40)"
   ]
  },
  {
   "cell_type": "code",
   "execution_count": 21,
   "metadata": {},
   "outputs": [],
   "source": [
    "# #code to find factors \n",
    "# q_list = sorted(qAV_vel_notav)\n",
    "# e_list = list.copy(q_list)\n",
    "# e_list = np.array(e_list)\n",
    "# # e_list = e_list/(1.60217*10**(-19))\n"
   ]
  },
  {
   "cell_type": "markdown",
   "metadata": {},
   "source": [
    "# do not run more than once\n",
    " \n",
    "# by hand adjust all values \n",
    "e_list[0] = e_list[0]/28\n",
    "e_list[1] = e_list[1]/20\n",
    "e_list[2] = e_list[2]/20\n",
    "e_list[3] = e_list[3]/18\n",
    "e_list[4] = e_list[4]/14\n",
    "e_list[5] = e_list[5]/13\n",
    "e_list[6] = e_list[6]/12\n",
    "e_list[7] = e_list[7]/11\n",
    "e_list[8] = e_list[8]/10\n",
    "e_list[9] = e_list[9]/10\n",
    "e_list[10] = e_list[10]/8\n",
    "e_list[11] = e_list[11]/8\n",
    "e_list[12] = e_list[12]/8\n",
    "e_list[13] = e_list[13]/7\n",
    "e_list[14] = e_list[14]/7\n",
    "e_list[15] = e_list[15]/7\n",
    "e_list[16] = e_list[16]/6\n",
    "e_list[17] = e_list[17]/6\n",
    "e_list[18] = e_list[18]/6\n",
    "e_list[19] = e_list[19]/6\n",
    "e_list[20] = e_list[20]/5\n",
    "e_list[21] = e_list[21]/4\n",
    "e_list[22] = e_list[22]/4\n",
    "e_list[23] = e_list[23]/4\n",
    "e_list[24] = e_list[24]/4\n",
    "e_list[25] = e_list[25]/4\n",
    "e_list[26] = e_list[26]/4\n",
    "e_list[27] = e_list[27]/4\n",
    "e_list[28] = e_list[28]/4\n",
    "e_list[29] = e_list[29]/3\n",
    "e_list[30] = e_list[30]/3\n",
    "e_list[31] = e_list[31]/3\n",
    "e_list[32] = e_list[32]/2\n",
    "e_list[33] = e_list[33]/2\n",
    "e_list[34] = e_list[34]/2\n",
    "e_list[35] = e_list[35]/2\n",
    "e_list[36] = e_list[36]/2\n",
    "e_list[37] = e_list[37]/2\n",
    "e_list[38] = e_list[38]/1\n",
    "e_list[39] = e_list[39]/1"
   ]
  },
  {
   "cell_type": "code",
   "execution_count": 22,
   "metadata": {},
   "outputs": [],
   "source": [
    "# # np.savetxt(\"e_list.txt\", e_list, delimiter =\", \")\n",
    "\n",
    "# # e_values = list.copy()\n",
    "# print(np.average(e_list))\n",
    "# print(np.std(e_list))\n",
    "# # print(e_list)"
   ]
  },
  {
   "cell_type": "code",
   "execution_count": 23,
   "metadata": {},
   "outputs": [],
   "source": [
    "# #same but now on the averaged values \n",
    "\n",
    "# q_list2 = sorted(q_velav)\n",
    "# e_list2 = list.copy(q_list2)\n",
    "# e_list2 = np.array(e_list2)\n",
    "# # e_list2 = e_list2/(1.60217*10**(-19))\n",
    "# # np.savetxt(\"qav2.txt\", e_list2, delimiter =\", \")\n",
    "# print(e_list2)"
   ]
  },
  {
   "cell_type": "markdown",
   "metadata": {},
   "source": [
    "#Do not run more than once \n",
    "e_list2[0] = e_list2[0]/28\n",
    "e_list2[1] = e_list2[1]/20\n",
    "e_list2[2] = e_list2[2]/20\n",
    "e_list2[3] = e_list2[3]/18\n",
    "e_list2[4] = e_list2[4]/14\n",
    "e_list2[5] = e_list2[5]/14\n",
    "e_list2[6] = e_list2[6]/12\n",
    "e_list2[7] = e_list2[7]/11\n",
    "e_list2[8] = e_list2[8]/10\n",
    "e_list2[9] = e_list2[9]/10\n",
    "e_list2[10] = e_list2[10]/8\n",
    "e_list2[11] = e_list2[11]/8\n",
    "e_list2[12] = e_list2[12]/8\n",
    "e_list2[13] = e_list2[13]/7\n",
    "e_list2[14] = e_list2[14]/7\n",
    "e_list2[15] = e_list2[15]/7\n",
    "e_list2[16] = e_list2[16]/6\n",
    "e_list2[17] = e_list2[17]/6\n",
    "e_list2[18] = e_list2[18]/6\n",
    "e_list2[19] = e_list2[19]/6\n",
    "e_list2[20] = e_list2[20]/5\n",
    "e_list2[21] = e_list2[21]/4\n",
    "e_list2[22] = e_list2[22]/4\n",
    "e_list2[23] = e_list2[23]/4\n",
    "e_list2[24] = e_list2[24]/4\n",
    "e_list2[25] = e_list2[25]/4\n",
    "e_list2[26] = e_list2[26]/4\n",
    "e_list2[27] = e_list2[27]/4\n",
    "e_list2[28] = e_list2[28]/4\n",
    "e_list2[29] = e_list2[29]/3\n",
    "e_list2[30] = e_list2[30]/3\n",
    "e_list2[31] = e_list2[31]/3\n",
    "e_list2[32] = e_list2[32]/2\n",
    "e_list2[33] = e_list2[33]/2\n",
    "e_list2[34] = e_list2[34]/2\n",
    "e_list2[35] = e_list2[35]/2\n",
    "e_list2[36] = e_list2[36]/2\n",
    "e_list2[37] = e_list2[37]/2\n",
    "e_list2[38] = e_list2[38]/1\n",
    "e_list2[39] = e_list2[39]/1\n",
    "\n",
    "print(e_list2)"
   ]
  },
  {
   "cell_type": "code",
   "execution_count": 24,
   "metadata": {},
   "outputs": [],
   "source": [
    "# e_val_velnotav = np.loadtxt('e_list.txt', delimiter=',', dtype=float)[:-2]\n",
    "# e_val_velav = np.loadtxt('e2_list.txt', delimiter=',', dtype=float)\n",
    "# print(e_val_velnotav)\n",
    "# print(len(e_val_velnotav))\n"
   ]
  },
  {
   "cell_type": "code",
   "execution_count": 25,
   "metadata": {},
   "outputs": [],
   "source": [
    "# # Take the 3 charges per droplet and take their STD and VAR\n",
    "\n",
    "# qSTD_vel_notav = q_vel_notav_reshape.std(axis =1)\n",
    "# qVAR_vel_notav = q_vel_notav_reshape.var(axis =1)\n"
   ]
  },
  {
   "cell_type": "markdown",
   "metadata": {},
   "source": [
    "# Assinged lists "
   ]
  },
  {
   "cell_type": "code",
   "execution_count": 26,
   "metadata": {},
   "outputs": [],
   "source": [
    "#       qAV_vel_notav  - Charges are averaged \n",
    "#       q_velav        - Velocities are averaged, some drops are questionable \n"
   ]
  },
  {
   "cell_type": "code",
   "execution_count": 27,
   "metadata": {},
   "outputs": [],
   "source": [
    "# # print(np.average(e_val_velav))\n",
    "# # print(np.std(e_val_velav))\n",
    "# sigma = np.std(e_val_velnotav)/(10**(-19))\n",
    "# mu = np.average(e_val_velnotav)/(10**(-19))\n",
    "# print(sigma)\n",
    "# print(mu)"
   ]
  },
  {
   "cell_type": "code",
   "execution_count": 28,
   "metadata": {},
   "outputs": [],
   "source": [
    "\n",
    "\n",
    "# plt.style.use('fivethirtyeight')\n",
    "# n_bins = []\n",
    "# e = e_val_velnotav/(10**(-19))\n",
    "# z_measured = (e + 1.602) / (sigma/100) \n",
    "# plt.hist(z_measured, 40, edgecolor ='black') # log =True give more but... not needed\n",
    "# plt.tight_layout()\n",
    "# plt.xlabel(\"Charge Value\")\n",
    "# plt.ylabel(\"Droplets\")\n",
    "# plt.show()\n",
    "\n",
    "# #25%errr"
   ]
  },
  {
   "cell_type": "code",
   "execution_count": 29,
   "metadata": {},
   "outputs": [],
   "source": [
    "# plt.style.use('fivethirtyeight')\n",
    "# n_bins = []\n",
    "# e2 = e_val_velav/(10**(-19))\n",
    "# plt.hist(e, 15, edgecolor ='black') # log =True give more but... not needed\n",
    "# plt.tight_layout()\n",
    "# plt.xlabel(\"Charge Value\")\n",
    "# plt.ylabel(\"Droplets\")\n",
    "# plt.show()"
   ]
  },
  {
   "cell_type": "code",
   "execution_count": 30,
   "metadata": {},
   "outputs": [],
   "source": [
    "# plt.style.use('fivethirtyeight')\n",
    "# # n_bins = [-4E-19,-3E-19,-2E-19,-1E-19]\n",
    "# n_bins = [-7.5,-6.5,-5.5,-4.5,-3.5,-2.5,-1.5,0]\n",
    "# # n_bins = [-9,-8,-7,-6,-5,-4,-3,-2,-1,0]\n",
    "# qup22 = np.array(qAV_vel_notav)\n",
    "# eup = qup22/(1.60217*10**(-19))\n",
    "# plt.hist(eup, n_bins, edgecolor ='black') # log =True give more but... not needed\n",
    "# plt.tight_layout()\n",
    "# plt.xlabel(\"Charge Value\")\n",
    "# plt.ylabel(\"Droplets\")\n",
    "# plt.show()"
   ]
  }
 ],
 "metadata": {
  "interpreter": {
   "hash": "7d3258cfacded4785c99b420370e2115023612e47f2b7fc1bb6ca140f7e09403"
  },
  "kernelspec": {
   "display_name": "Python 3.9.0 ('.venv': poetry)",
   "language": "python",
   "name": "python3"
  },
  "language_info": {
   "codemirror_mode": {
    "name": "ipython",
    "version": 3
   },
   "file_extension": ".py",
   "mimetype": "text/x-python",
   "name": "python",
   "nbconvert_exporter": "python",
   "pygments_lexer": "ipython3",
   "version": "3.9.0"
  },
  "orig_nbformat": 4
 },
 "nbformat": 4,
 "nbformat_minor": 2
}
