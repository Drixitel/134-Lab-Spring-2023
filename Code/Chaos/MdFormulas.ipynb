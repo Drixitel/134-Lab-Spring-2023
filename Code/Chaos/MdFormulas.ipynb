{
 "cells": [
  {
   "cell_type": "markdown",
   "metadata": {},
   "source": [
    "# <p style=\"text-align: center;\"> Error Propagation </p>"
   ]
  },
  {
   "cell_type": "markdown",
   "metadata": {},
   "source": [
    "# Calculate $R_T$ and its error prop\n",
    "- <span style=\"color:red\"> **Calculation in Excel**</span>\n",
    "\n",
    "\n",
    "$$\n",
    "R_T = R + R_L\n",
    "$$\n",
    "\n",
    "> $$\\sigma_{R_T}^2 = \\left(\\frac{\\partial R_T}{\\partial R} \\right)^2 \\cdot \\sigma_{R}^2 + \\left(\\frac{\\partial R_T}{\\partial R_L} \\right)^2 \\cdot \\sigma_{R_L}^2$$\n",
    "\n",
    "> $$\\sigma_{R_T}^2 = \\left( 1 \\right)^2 \\sigma_{R}^2 + \\left( 1 \\right)^2 \\sigma_{R_L}^2$$\n",
    "\n",
    "$$\n",
    "\\sigma_{R_T}^2 = \\sigma_{R}^2 +  \\sigma_{R_L}^2\n",
    "$$"
   ]
  },
  {
   "cell_type": "markdown",
   "metadata": {},
   "source": [
    "# Calculate the period $P$ and its error \n",
    "- <span style=\"color:red\">**Calculation in Excel**</span>\n",
    "\n",
    "$$\n",
    "P = t_1-t_2\n",
    "$$\n",
    "\n",
    "> $$\\sigma_P^2 = \\left(\\frac{\\partial P}{\\partial t_1} \\right)^2 \\cdot \\sigma_{t_1}^2 + \\left(\\frac{\\partial P}{\\partial t_2} \\right)^2 \\cdot \\sigma_{t_2}^2$$\n",
    "\n",
    "> $$\\sigma_P^2 = \\left( 1 \\right)^2 \\sigma_{t_1}^2 + \\left( -1 \\right)^2 \\sigma_{t_2}^2$$\n",
    "\n",
    "$$\n",
    "\\sigma_P^2 = \\sigma_{t_1}^2 +  \\sigma_{t_2}^2\n",
    "$$"
   ]
  },
  {
   "cell_type": "markdown",
   "metadata": {},
   "source": [
    "# Calculate the phase $\\phi$ and its error"
   ]
  },
  {
   "cell_type": "markdown",
   "metadata": {},
   "source": [
    "- td = Time difference measured by oscilloscope \n",
    "- <span style=\"color:red\">**Calculation in Excel**</span>\n",
    "\n",
    "\n",
    "$$\n",
    "\\phi = 360 \\cdot \\frac{td}{P} = deg\n",
    "$$\n",
    "\n",
    "$$\n",
    "\\phi = 2\\pi \\cdot \\frac{td}{P} = rad\n",
    "$$\n",
    "\n",
    "> $$\\sigma_\\phi^2 = \\left(\\frac{\\partial \\phi}{\\partial td} \\right)^2 \\cdot \\sigma_{td}^2 + \\left(\\frac{\\partial \\phi}{\\partial P} \\right)^2 \\cdot \\sigma_{P}^2$$"
   ]
  },
  {
   "cell_type": "markdown",
   "metadata": {},
   "source": [
    " $$ \n",
    " \\sigma_\\phi^2 = \\left(360 \\cdot \\frac{1}{P}\\right)^2 \\cdot \\sigma_{td}^2 + \\left(360 \\frac{td}{P^2} \\right)^2\\cdot \\sigma_{P}^2\n",
    " $$"
   ]
  },
  {
   "cell_type": "markdown",
   "metadata": {},
   "source": [
    "# Calculate resonant frequency $\\omega_0$ and its error prop\n",
    ">> This is from known characteristics (ideal)\n",
    "- <span style=\"color:red\"> **Requires code due to complextity** </span>\n",
    "\n",
    "$$\n",
    "w_0 = \\frac{1}{\\sqrt{LC}}\n",
    "$$\n",
    "\n",
    "> $$\\sigma_{\\omega_0}^2 = \\left(\\frac{\\partial \\omega_0}{\\partial L} \\right)^2 \\cdot \\sigma_{L}^2 + \\left(\\frac{\\partial \\omega_0}{\\partial C} \\right)^2 \\cdot \\sigma_{C}^2$$\n",
    "\n",
    "> $$\\sigma_{\\omega_0}^2 = \\left(\\frac{-1}{2\\cdot L^{\\frac{3}{2}}\\cdot C^{\\frac{1}{2}}} \\right)^2 \\cdot \\sigma_{L}^2 + \\left(\\frac{-1}{2\\cdot L^{\\frac{1}{2}}\\cdot C^{\\frac{3}{2}}}\\right)^2 \\cdot \\sigma_{C}^2$$\n",
    "\n",
    " $$\\sigma_{\\omega_0}^2 = \\left(\\frac{1}{2\\cdot L^{\\frac{3}{2}}\\cdot C^{\\frac{1}{2}}} \\right)^2 \\cdot \\sigma_{L}^2 + \\left(\\frac{1}{2\\cdot L^{\\frac{1}{2}}\\cdot C^{\\frac{3}{2}}}\\right)^2 \\cdot \\sigma_{C}^2$$"
   ]
  },
  {
   "cell_type": "markdown",
   "metadata": {},
   "source": [
    "# Calculate the resonant frequency $\\omega_0$ and its error \n",
    ">> This is from the PDE (real)\n",
    "- <span style=\"color:red\"> **Requires code due to complextity** </span>\n",
    "\n",
    "$$\n",
    "\\tan(\\phi) = \\frac{\\omega^2 - \\omega_0^2}{\\omega \\Gamma}\n",
    "$$\n",
    "\n",
    "$$\n",
    "\\omega_0 = \\sqrt{\\omega^2 -\\tan(\\phi)\\omega\\Gamma} \n",
    "$$"
   ]
  },
  {
   "cell_type": "markdown",
   "metadata": {},
   "source": [
    "$$\n",
    "\\omega_0 = \\sqrt{\\omega^2 -\\tan(\\phi)\\frac{R_T}{L}\\omega} \n",
    "$$"
   ]
  },
  {
   "cell_type": "markdown",
   "metadata": {},
   "source": [
    "> minimum\n",
    ">> $$\\omega^2 \\geq \\tan(\\phi)\\omega\\Gamma $$\n",
    "\n",
    ">> $$\\omega \\geq \\tan(\\phi)\\Gamma$$"
   ]
  },
  {
   "cell_type": "markdown",
   "metadata": {},
   "source": [
    "> $$\\sigma_{\\omega_0}^2 = \\left(\\frac{\\partial \\omega_0}{\\partial w} \\right)^2 \\cdot \\sigma_{w}^2 + \\left(\\frac{\\partial \\omega_0}{\\partial \\phi} \\right)^2 \\cdot \\sigma_{\\phi}^2 + \\left(\\frac{\\partial \\omega_0}{\\partial R_T} \\right)^2 \\cdot \\sigma_{R_T}^2 + \\left(\\frac{\\partial \\omega_0}{\\partial L} \\right)^2 \\cdot \\sigma_{L}^2$$"
   ]
  },
  {
   "cell_type": "markdown",
   "metadata": {},
   "source": [
    "> \\begin{align*}\n",
    "    \\sigma_{\\omega_0}^2 &= \\left(\\frac{-\\tan(\\phi)\\omega}{2\\sqrt{L}\\cdot \\sqrt{L\\omega^2 -\\tan(\\phi)R_T\\omega}}\\right)^2 \\cdot \\sigma_{w}^2\\\\\n",
    "    &+ \\left(\\frac{-\\sec^2(\\phi)R_T\\omega}{2\\sqrt{L}\\sqrt{L\\omega^2-\\tan(\\phi)R_T\\omega}}\\right)^2 \\cdot \\sigma_{\\phi}^2\\\\\n",
    "    &+ \\left(\\frac{-\\tan(\\phi)\\omega}{2\\sqrt{L}\\sqrt{L\\omega^2-\\tan(\\phi)R_T\\omega}}\\right)^2 \\cdot \\sigma_{R_T}^2 \\\\\n",
    "    &+ \\left(\\frac{\\tan(\\phi)R_T\\omega}{2L^{\\frac{3}{2}}\\sqrt{L\\omega^2 - \\tan(\\phi)R_T \\omega}} \\right)^2 \\cdot \\sigma_{L}^2\n",
    "\\end{align*}"
   ]
  },
  {
   "cell_type": "markdown",
   "metadata": {},
   "source": [
    "\\begin{align*}\n",
    "    \\sigma_{\\omega_0}^2 &= \\left(\\frac{\\tan(\\phi)\\omega}{2\\sqrt{L}\\cdot \\sqrt{L\\omega^2 -\\tan(\\phi)R_T\\omega}}\\right)^2 \\cdot \\sigma_{w}^2\\\\\n",
    "    &+ \\left(\\frac{\\sec^2(\\phi)R_T\\omega}{2\\sqrt{L}\\sqrt{L\\omega^2-\\tan(\\phi)R_T\\omega}}\\right)^2 \\cdot \\sigma_{\\phi}^2\\\\\n",
    "    &+ \\left(\\frac{\\tan(\\phi)\\omega}{2\\sqrt{L}\\sqrt{L\\omega^2-\\tan(\\phi)R_T\\omega}}\\right)^2 \\cdot \\sigma_{R_T}^2 \\\\\n",
    "    &+ \\left(\\frac{\\tan(\\phi)R_T\\omega}{2L^{\\frac{3}{2}}\\sqrt{L\\omega^2 - \\tan(\\phi)R_T \\omega}} \\right)^2 \\cdot \\sigma_{L}^2\n",
    "\\end{align*}"
   ]
  }
 ],
 "metadata": {
  "interpreter": {
   "hash": "42820a4b4986f6608db579be1c555b1f91a1d9160c7c42d0ba198c01529d282e"
  },
  "kernelspec": {
   "display_name": "Python 3.9.0 ('.venv': poetry)",
   "language": "python",
   "name": "python3"
  },
  "language_info": {
   "codemirror_mode": {
    "name": "ipython",
    "version": 3
   },
   "file_extension": ".py",
   "mimetype": "text/x-python",
   "name": "python",
   "nbconvert_exporter": "python",
   "pygments_lexer": "ipython3",
   "version": "3.9.0"
  },
  "orig_nbformat": 4
 },
 "nbformat": 4,
 "nbformat_minor": 2
}
