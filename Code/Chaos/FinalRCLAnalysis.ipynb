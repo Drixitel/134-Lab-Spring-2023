{
 "cells": [
  {
   "cell_type": "code",
   "execution_count": 1,
   "metadata": {},
   "outputs": [],
   "source": [
    "import numpy as np\n",
    "import matplotlib.pyplot as plt \n",
    "import pandas as pd \n",
    "from scipy.optimize import curve_fit\n",
    "import scipy.stats as stat"
   ]
  },
  {
   "cell_type": "markdown",
   "metadata": {},
   "source": [
    "# Functions \n",
    "> Current $i(t)$\n",
    "$$\n",
    "i(t) =  \\frac{V_0 \\omega \\cdot \\sin(\\omega t -\\phi)}{L \\sqrt{(\\omega_0^2 -\\omega^2)^2 +\\omega^2 \\Gamma^2}}\n",
    "$$\n",
    "\n",
    "> Voltage $v(t)$\n",
    "$$\n",
    "v_R(t) = R\\cdot i(t) = R\\cdot \\left( \\frac{V_0 \\omega \\cdot \\sin(\\omega t -\\phi) }{L\\sqrt{(\\omega_0^2-\\omega^2)^2 +\\omega^2\\Gamma^2}}\\right )\n",
    "$$"
   ]
  },
  {
   "cell_type": "code",
   "execution_count": 2,
   "metadata": {},
   "outputs": [],
   "source": [
    "# Constants and errors for RCL\n",
    "R = 99.8        #ohms \n",
    "Rsig = 0.2      #ohms\n",
    "\n",
    "Rl = 103.4      #ohms \n",
    "Rlsig = 0.2     #ohms\n",
    "\n",
    "L = 15E-3       #H \n",
    "Lsig = 1E-3     #H\n",
    "\n",
    "C = (10.08)*10**(-9)    #Farads \n",
    "Csig = .05E-9           #Farada"
   ]
  },
  {
   "cell_type": "markdown",
   "metadata": {},
   "source": [
    "# Calculate $R_T$ and its error prop\n",
    "- <span style=\"color:red\"> **Calculation in Excel**</span>\n",
    "\n",
    "\n",
    "$$\n",
    "R_T = R + R_L\n",
    "$$\n",
    "\n",
    "> $$\\sigma_{R_T}^2 = \\left(\\frac{\\partial R_T}{\\partial R} \\right)^2 \\cdot \\sigma_{R}^2 + \\left(\\frac{\\partial R_T}{\\partial R_L} \\right)^2 \\cdot \\sigma_{R_L}^2$$\n",
    "\n",
    "> $$\\sigma_{R_T}^2 = \\left( 1 \\right)^2 \\sigma_{R}^2 + \\left( 1 \\right)^2 \\sigma_{R_L}^2$$\n",
    "\n",
    "$$\n",
    "\\sigma_{R_T}^2 = \\sigma_{R}^2 +  \\sigma_{R_L}^2\n",
    "$$"
   ]
  },
  {
   "cell_type": "code",
   "execution_count": 3,
   "metadata": {},
   "outputs": [],
   "source": [
    "#for data manipulation -not curvefit\n",
    "def R_tVar(Rsig, RLsig):\n",
    "    RtVar = Rsig**2 + RLsig**2 \n",
    "    return RtVar\n",
    "\n",
    "Rt = R + Rl\n",
    "Rtvar = R_tVar(Rsig, Rlsig)\n",
    "Gamma = Rt/L"
   ]
  },
  {
   "cell_type": "markdown",
   "metadata": {},
   "source": [
    "# Calculate Theoretical resonant frequency $\\omega_0$ and its error prop\n",
    ">> This is from known characteristics (ideal)\n",
    "\n",
    "$$\n",
    "w_0 = \\frac{1}{\\sqrt{LC}}\n",
    "$$\n",
    "\n",
    "> $$\\sigma_{\\omega_0}^2 = \\left(\\frac{\\partial \\omega_0}{\\partial L} \\right)^2 \\cdot \\sigma_{L}^2 + \\left(\\frac{\\partial \\omega_0}{\\partial C} \\right)^2 \\cdot \\sigma_{C}^2$$\n",
    "\n",
    "> $$\\sigma_{\\omega_0}^2 = \\left(\\frac{-1}{2\\cdot L^{\\frac{3}{2}}\\cdot C^{\\frac{1}{2}}} \\right)^2 \\cdot \\sigma_{L}^2 + \\left(\\frac{-1}{2\\cdot L^{\\frac{1}{2}}\\cdot C^{\\frac{3}{2}}}\\right)^2 \\cdot \\sigma_{C}^2$$\n",
    "\n",
    " $$\\sigma_{\\omega_0}^2 = \\left(\\frac{1}{2\\cdot L^{\\frac{3}{2}}\\cdot C^{\\frac{1}{2}}} \\right)^2 \\cdot \\sigma_{L}^2 + \\left(\\frac{1}{2\\cdot L^{\\frac{1}{2}}\\cdot C^{\\frac{3}{2}}}\\right)^2 \\cdot \\sigma_{C}^2$$"
   ]
  },
  {
   "cell_type": "code",
   "execution_count": 4,
   "metadata": {},
   "outputs": [],
   "source": [
    "#for data manipulation -not curvefit\n",
    "def Omega0(L,C): \n",
    "    \"\"\" Input LC in standard units \n",
    "        Return resonant angular frequency\"\"\"\n",
    "    w0 = 1/np.sqrt(L*C)\n",
    "    return w0 \n",
    "\n",
    "def Freq0(w0): \n",
    "    \"\"\" Input omega0\n",
    "        Return frequecny0\"\"\"\n",
    "    f0 =w0/(2*np.pi)\n",
    "    return f0 \n",
    "\n",
    "def OmegaVar(L,Lsig, C, Csig): \n",
    "    \"\"\" Input L,Lsig,C,Csig in standard units \n",
    "        Return omega0 Variance\"\"\"\n",
    "    Lvar = Lsig**2\n",
    "    Cvar = Csig**2\n",
    "    \n",
    "    t1 = 2*(L**(3/2))*np.sqrt(C)\n",
    "    t2 = 1/t1\n",
    "    term1 = (t2**2)*Lvar\n",
    "    \n",
    "    t3 = 2*np.sqrt(L)*(C**(3/2))\n",
    "    t4 = 1/t3\n",
    "    term2 = (t4**2)*Cvar\n",
    "\n",
    "    w0var = term1 + term2\n",
    "\n",
    "    return w0var "
   ]
  },
  {
   "cell_type": "code",
   "execution_count": 5,
   "metadata": {},
   "outputs": [],
   "source": [
    "# Theoretical Values\n",
    "w0 = Omega0(L,C)\n",
    "w0var = OmegaVar(L, Lsig, C, Csig)\n",
    "w0sig = np.sqrt(w0var)\n",
    "f0 = Freq0(w0)\n",
    "f0sig = w0sig/(2*np.pi)"
   ]
  },
  {
   "cell_type": "markdown",
   "metadata": {},
   "source": [
    "# Calculate the phase $\\phi$ and its error\n",
    "\n",
    "- td = Time difference measured by oscilloscope \n",
    "- <span style=\"color:red\">**Calculation in Excel**</span>\n",
    "\n",
    "\n",
    "$$\n",
    "\\phi = 360 \\cdot \\frac{td}{P} = deg\n",
    "$$\n",
    "\n",
    "$$\n",
    "\\phi = 2\\pi \\cdot \\frac{td}{P} = rad\n",
    "$$\n",
    "\n",
    "> $$\\sigma_\\phi^2 = \\left(\\frac{\\partial \\phi}{\\partial td} \\right)^2 \\cdot \\sigma_{td}^2 + \\left(\\frac{\\partial \\phi}{\\partial P} \\right)^2 \\cdot \\sigma_{P}^2$$\n",
    "\n",
    " $$ \n",
    " \\sigma_\\phi^2 = \\left(360 \\cdot \\frac{1}{P}\\right)^2 \\cdot \\sigma_{td}^2 + \\left(360 \\frac{td}{P^2} \\right)^2\\cdot \\sigma_{P}^2\n",
    " $$"
   ]
  },
  {
   "cell_type": "code",
   "execution_count": 6,
   "metadata": {},
   "outputs": [],
   "source": [
    "#for data manipulation -not curvefit\n",
    "def Phasedeg(timediff, period): \n",
    "    \"\"\" Input time difference between waves & period of output wave\n",
    "        Return the phase angle in degrees\"\"\"\n",
    "    phi = 360*(timediff/period)\n",
    "    return phi\n",
    "\n",
    "\n",
    "def PhaseVardeg(timediff, tdsig, period, psig): \n",
    "    \"\"\" Input the time differnce, tdsig, period, psig \n",
    "        Returns the Variance of the phase angle in degress\"\"\"\n",
    "    tdvar = tdsig**2\n",
    "    pvar = psig**2\n",
    "\n",
    "    t1 = 360/period\n",
    "    term1 = (t1**2)*tdvar\n",
    "    \n",
    "    t2 = (360*timediff)/(period**2)\n",
    "    term2 = (t2**2)*pvar\n",
    "\n",
    "    phivar = term1 + term2\n",
    "    return phivar\n",
    "\n",
    "#General, used for easy calculation \n",
    "def IMax(V0,w,w0,Gamma,L):\n",
    "    \"\"\" Input Input Voltage, omega, omega0, L, Gamma\n",
    "        Return I max in Amps\"\"\"\n",
    "    t1 = V0*w\n",
    "\n",
    "    t2 = w0**2 - w**2\n",
    "    t3 = (w*Gamma)**2\n",
    "    t4 = L*np.sqrt(t2**2 +t3)\n",
    "\n",
    "    imax =t1/t4\n",
    "\n",
    "def vRMax(w, V0,w0,Gamma,L,R): \n",
    "    \"\"\" Input Input Voltage, omega, omega0, L, Gamma, R\n",
    "        Return v_R max in volts\"\"\"\n",
    "    t1 = V0*w*R\n",
    "\n",
    "    t2 = w0**2 - w**2\n",
    "    t3 = (w*Gamma)**2\n",
    "    t4 = L*np.sqrt(t2**2 +t3)\n",
    "\n",
    "    vRmax = t1/t4"
   ]
  },
  {
   "cell_type": "markdown",
   "metadata": {},
   "source": [
    "# Read in data"
   ]
  },
  {
   "cell_type": "code",
   "execution_count": 7,
   "metadata": {},
   "outputs": [],
   "source": [
    "RCLdata = pd.read_csv('dataRCL.csv')\n",
    "\n",
    "# Create some series \n",
    "# voltage\n",
    "Vin = RCLdata['VIn CH1']\n",
    "VinSig = RCLdata['VInSig']\n",
    "\n",
    "Vout = RCLdata['VOut CH2']\n",
    "VoutSig = RCLdata['VOutSig']\n",
    "\n",
    "#Frequency and Angular Freq\n",
    "Freq = RCLdata['Frequency Hz']\n",
    "FreqSig = RCLdata['FeqSig Hz']\n",
    "w = RCLdata['w']\n",
    "wSig =RCLdata['wSig']\n",
    "\n",
    "#Phase angle & parameters \n",
    "Phi = RCLdata['Phase Ch2Ch1 deg']\n",
    "Phivar = RCLdata['PhaseVar deg']\n",
    "\n",
    "Period = RCLdata['Period s']\n",
    "Periodsig = RCLdata['PeriodSig s']\n",
    "Timdiff = RCLdata['Timediff TD s']\n",
    "Timdiffsig = RCLdata['TDSig s']"
   ]
  },
  {
   "cell_type": "code",
   "execution_count": 8,
   "metadata": {},
   "outputs": [],
   "source": [
    "#check excel calculated correctly \n",
    "phi2 = Phasedeg(Timdiff,Period) # missing negastives \n",
    "phi2var = PhaseVardeg(Timdiff,Timdiffsig, Period, Periodsig)\n",
    "phistd = np.sqrt(phi2var)"
   ]
  },
  {
   "cell_type": "code",
   "execution_count": 9,
   "metadata": {},
   "outputs": [
    {
     "data": {
      "image/png": "[encoded data removed]",
      "text/plain": [
       "<Figure size 432x288 with 1 Axes>"
      ]
     },
     "metadata": {
      "needs_background": "light"
     },
     "output_type": "display_data"
    }
   ],
   "source": [
    "#style\n",
    "hfont = {'fontname':'Consolas'}\n",
    "plt.figure()\n",
    "plt.style.use('bmh')\n",
    "\n",
    "plt.plot(Freq,Vout, color= 'gray')\n",
    "plt.errorbar(Freq,Vout,xerr=FreqSig, yerr=VoutSig, label = 'Error points', fmt = '.', color= 'black')\n",
    "\n",
    "\n",
    "#Labels \n",
    "plt.title(\"Amplitude vs. Frequency (f) \", **hfont)\n",
    "plt.ylabel(\"Amplitude Vout (V)\", **hfont)\n",
    "plt.xlabel(\"Freqquency (Hz)\", **hfont)\n",
    "plt.axvline(f0, color ='gray', label =f'w0 Theoretical ={f0:.2f}')\n",
    "\n",
    "plt.legend(loc =2,fancybox=True, framealpha=0.5)\n",
    "\n",
    "plt.savefig(\"AmpVsfreq.png\", bbox_inches='tight')"
   ]
  },
  {
   "cell_type": "code",
   "execution_count": 10,
   "metadata": {},
   "outputs": [
    {
     "data": {
      "image/png": "[encoded data removed]",
      "text/plain": [
       "<Figure size 432x288 with 1 Axes>"
      ]
     },
     "metadata": {
      "needs_background": "light"
     },
     "output_type": "display_data"
    }
   ],
   "source": [
    "#style\n",
    "hfont = {'fontname':'Consolas'}\n",
    "plt.figure()\n",
    "plt.style.use('bmh')\n",
    "\n",
    "plt.plot(Freq,Phi, color= 'gray')\n",
    "plt.errorbar(Freq,Phi,xerr=FreqSig, yerr=phistd, label = 'Error points', fmt = '.', color= 'black')\n",
    "\n",
    "\n",
    "#Labels \n",
    "plt.title(\"Phase vs. Frequency (f) \", **hfont)\n",
    "plt.ylabel(\"Phase Angle (deg)\", **hfont)\n",
    "plt.xlabel(\"Freqquency (Hz)\", **hfont)\n",
    "\n",
    "plt.legend(loc =2,fancybox=True, framealpha=0.5)\n",
    "\n",
    "plt.savefig(\"PhiVsFreq.png\", bbox_inches='tight')"
   ]
  },
  {
   "cell_type": "markdown",
   "metadata": {},
   "source": [
    "# CurveFit Vout Vs. $\\omega$\n",
    "> Created different variations due to issues with Curvefit function \n",
    ">> issue: uncertainty is large and values are not very close to the ones measured \n",
    "\n",
    "- Function: \n",
    "$$\n",
    " v_R(t) = R\\cdot i(t) = R\\cdot \\left( \\frac{V_0 \\omega  }{L\\sqrt{(\\omega_0^2-\\omega^2)^2 +\\omega^2\\Gamma^2}}\\right )\\cdot  \\sin(\\omega t -\\phi)\n",
    "$$\n",
    "- 1. Magnitude, $\\Gamma = \\frac{R_T}{L} = \\frac{R + R_L}{L}$\n",
    ">$$\n",
    "v_R(t)_{Max} = R\\cdot \\left(\\frac{V_0 \\omega }{L\\sqrt{(\\omega_0^2-\\omega^2)^2 +\\omega^2\\Gamma^2}}\\right)\n",
    "$$\n",
    "\n",
    "- 2. Magnitude replacing $\\Gamma$\n",
    "$$\n",
    "v_R(t)_{Max} = R\\cdot \\left(\\frac{V_0 \\omega }{L\\sqrt{((\\frac{1}{\\sqrt{LC}})^2-\\omega^2)^2 +\\omega^2(\\frac{R_T}{L})^2}}\\right)\n",
    "$$\n",
    "- 3. Magnitude in base variables \n",
    "$$\n",
    "v_R(t)_{Max} = R\\cdot \\left(\\frac{V_0 \\omega }{L\\sqrt{((\\frac{1}{\\sqrt{LC}})^2-\\omega^2)^2 +\\omega^2(\\frac{R +R_L}{L})^2}}\\right)\n",
    "$$"
   ]
  },
  {
   "cell_type": "code",
   "execution_count": 11,
   "metadata": {},
   "outputs": [],
   "source": [
    "# Mag. 1 \n",
    "def VRMax2(w,R, w0, gamma):\n",
    "    V0 = 76\n",
    "    return ((R*V0*w)/L)*( (w0**2-w**2)**2 + w**2*(gamma)**2)**(-1/2)"
   ]
  },
  {
   "cell_type": "code",
   "execution_count": 12,
   "metadata": {},
   "outputs": [],
   "source": [
    "# LAST ATTEMPT\n",
    "def VRMax3(w, R, L, C):\n",
    "    V0 = 76\n",
    "    Rl = 103.4\n",
    "    return ((R*V0*w)/L)*( ((L*C)**(-1) - w**2)**2 + (w**2)*((R+Rl)/L)**2)**(-1/2)"
   ]
  },
  {
   "cell_type": "code",
   "execution_count": 13,
   "metadata": {},
   "outputs": [],
   "source": [
    "# fit\n",
    "p02 = [90,80000,12500]\n",
    "p04 = [95,0.015,1E-8]\n",
    "popt2 , pcov2 = curve_fit( VRMax2,w, Vout , sigma=VoutSig, p0 = p02, absolute_sigma=True)\n",
    "popt4 , pcov4 = curve_fit( VRMax3,w, Vout , sigma=VoutSig, p0= p04 , absolute_sigma=True)"
   ]
  },
  {
   "cell_type": "code",
   "execution_count": 14,
   "metadata": {},
   "outputs": [
    {
     "name": "stdout",
     "output_type": "stream",
     "text": [
      "\n",
      "Mag1 R, w0, gamma\n",
      "param  0  =  11.601560053455128 +/- 0.19200403299692945\n",
      "param  1  =  80539.1033874292 +/- 118.67393865097493\n",
      "param  2  =  19213.90983136608 +/- 391.1690636325972\n",
      "\n",
      "Mag R,L,C\n",
      "param  0  =  237.38648019704516 +/- 8540.54333983662\n",
      "param  1  =  1.4685751160346631e-09 +/- 0.0009393538654847848\n",
      "param  2  =  1.7355529659191734e-09 +/- 6.24813384371463e-08\n"
     ]
    }
   ],
   "source": [
    "# Check\n",
    "\n",
    "print('\\nMag1 R, w0, gamma')\n",
    "for i in range(0,len(popt2)):\n",
    "    print('param ',i,' = ',popt2[i], '+/-', np.sqrt(np.abs(pcov2[i,i])))\n",
    "\n",
    "print('\\nMag R,L,C')\n",
    "for i in range(0,len(popt4)):\n",
    "    print('param ',i,' = ',popt4[i], '+/-', np.sqrt(np.abs(pcov4[i,i])))"
   ]
  },
  {
   "cell_type": "code",
   "execution_count": 15,
   "metadata": {},
   "outputs": [
    {
     "name": "stdout",
     "output_type": "stream",
     "text": [
      "R = \t\t99.8\n",
      "RL = \t\t103.4\n",
      "RT = \t\t203.2\n",
      "L = \t\t0.015\n",
      "C = \t\t1.008e-08\n",
      "W0 = \t\t81325.00607904443\n",
      "Gamma = \t13546.666666666666\n"
     ]
    }
   ],
   "source": [
    "print(f'R = \\t\\t{R}')\n",
    "print(f'RL = \\t\\t{Rl}')\n",
    "print(f'RT = \\t\\t{Rt}')\n",
    "print(f'L = \\t\\t{L}')\n",
    "print(f'C = \\t\\t{C}')\n",
    "print(f'W0 = \\t\\t{w0}')\n",
    "print(f'Gamma = \\t{Gamma}')"
   ]
  },
  {
   "cell_type": "markdown",
   "metadata": {},
   "source": [
    "# Plot Vout Vs $\\omega$"
   ]
  },
  {
   "cell_type": "code",
   "execution_count": 16,
   "metadata": {},
   "outputs": [
    {
     "data": {
      "image/png": "[encoded data removed]",
      "text/plain": [
       "<Figure size 432x288 with 1 Axes>"
      ]
     },
     "metadata": {
      "needs_background": "light"
     },
     "output_type": "display_data"
    }
   ],
   "source": [
    "#style\n",
    "hfont = {'fontname':'Consolas'}\n",
    "plt.figure()\n",
    "plt.style.use('bmh')\n",
    "\n",
    "\n",
    "# Fit a line with paramaters given \n",
    "fitline = VRMax2(w, *popt2)\n",
    "# fitline2 = VRMax3(w, *popt4)\n",
    "\n",
    "\n",
    "def annot_max(x,y, ax=None):\n",
    "    xmax = x[np.argmax(y)]\n",
    "    ymax = y.max()\n",
    "    text= \"w0={:.2f}, V={:.2f}\".format(xmax, ymax)\n",
    "    if not ax:\n",
    "        ax=plt.gca()\n",
    "    bbox_props = dict(boxstyle=\"square,pad=0.3\", fc=\"w\", ec=\"k\", lw=0.72)\n",
    "    arrowprops=dict(arrowstyle=\"->\",connectionstyle=\"arc3,rad=.2\", color='black')\n",
    "    kw = dict(xycoords='data',textcoords=\"axes fraction\",\n",
    "              arrowprops=arrowprops, bbox=bbox_props, ha=\"right\", va=\"top\")\n",
    "    ax.annotate(text, xy=(xmax, ymax), xytext=(0.94,0.14), **kw)\n",
    "\n",
    "annot_max(w,fitline)\n",
    "\n",
    "\n",
    "\n",
    "# plot data\n",
    "plt.plot(w,fitline, 'm', label= 'Fit: R=%1.2f, w0=%1.4e, Gamma=%1.2e' % tuple(popt2))\n",
    "# plt.plot(w,fitline2, 'r', label= 'fit2')\n",
    "plt.errorbar(w,Vout,yerr=VoutSig, xerr=wSig, fmt= '.', ls = None, label= 'Error points', color = 'black', alpha =0.5)\n",
    "plt.yticks(np.linspace(1.5,3.7,12))\n",
    "\n",
    "\n",
    "\n",
    "#Labels \n",
    "plt.title(\"Amplitude vs. $\\omega$ (Underfit)\", **hfont)\n",
    "plt.ylabel(\"Amplitude Vout (V)\", **hfont)\n",
    "plt.xlabel(\"Angular Freq $\\omega$ (Hz)\", **hfont)\n",
    "plt.axvline(w0, color ='gray', label =f'w0 Theoretical ={w0:.2f}')\n",
    "\n",
    "plt.legend(loc =2,fancybox=True, framealpha=0.5)\n",
    "\n",
    "\n",
    "plt.savefig(\"AmpVsOmega.png\", bbox_inches='tight')"
   ]
  },
  {
   "cell_type": "markdown",
   "metadata": {},
   "source": [
    "# $Chi^2$"
   ]
  },
  {
   "cell_type": "code",
   "execution_count": 17,
   "metadata": {},
   "outputs": [
    {
     "name": "stdout",
     "output_type": "stream",
     "text": [
      "Chi-square:  36.98360129189868\n",
      "Degrees of freedom:  10\n",
      "Reduced chi-square:  3.698360129189868\n",
      "CDF:  0.9999430356936134\n",
      "p-test value:  5.696430638657546e-05\n"
     ]
    }
   ],
   "source": [
    "# By definition: \n",
    "chisq = sum( (Vout - fitline)**2 / VoutSig**2 )\n",
    "\n",
    "# ndf = number of degrees of freedom\n",
    "ndf = len(w)-len(popt2)\n",
    "\n",
    "# prof advised not to use this \n",
    "chisq_reduced = chisq/float(ndf)\n",
    "\n",
    "#   Note:\n",
    "#       The reduced Chi2 = (Chi2/ndf) is just a \"shortcut\" that allows us to quickly decide if \n",
    "#       the data agrees with the model.\n",
    "#     If reduced Chi2 is about equal to one: we are definitely good, because (Chi2/ndf)=1 corresponds to \n",
    "#     the p-value of 0.5\n",
    "\n",
    "cdf = stat.chi2.cdf(chisq, df = ndf)\n",
    "\n",
    "# For a Chisquare with a given number of degrees of freedom the p-test value: \n",
    "#       is just one minus the cummilative distribtion \n",
    "#       fucntion (CDF) of the chisquare probabilty distribution evaluated at the calculated value of ChiSq\n",
    "pvalue = 1-cdf\n",
    "\n",
    "print('Chi-square: ',chisq)\n",
    "print('Degrees of freedom: ',ndf)\n",
    "print('Reduced chi-square: ',chisq_reduced)\n",
    "print('CDF: ', cdf)\n",
    "print('p-test value: ',pvalue)\n"
   ]
  },
  {
   "cell_type": "markdown",
   "metadata": {},
   "source": [
    "# CurveFit Phi Vs. $\\omega$\n",
    "\n",
    "$$\n",
    "\\tan(\\phi) = \\frac{\\omega^2 - \\omega_0^2}{\\omega \\Gamma}\n",
    "$$\n",
    "\n",
    "$$\n",
    "\\phi = \\tan^{-1}\\left({\\frac{\\omega^2 - \\omega_0^2}{\\omega \\cdot \\Gamma}}\\right)\n",
    "$$\n",
    "\n",
    "$$\n",
    "\\phi = \\tan^{-1}\\left({\\frac{\\omega^2 - \\frac{1}{LC}}{\\omega \\cdot \\frac{R_T}{L}}}\\right)\n",
    "$$"
   ]
  },
  {
   "cell_type": "code",
   "execution_count": 18,
   "metadata": {},
   "outputs": [],
   "source": [
    "def Phifunc(w,w0,gamma):\n",
    "    return (180/np.pi)*np.arctan( (w**2-w0**2)/(w*gamma) )\n",
    "\n",
    "\n",
    "def Phifunc2(w,L,C,R):\n",
    "    Rt = R + 103.4\n",
    "    return (180/np.pi)*np.arctan( (w**2 -(L*C)**(-1) )/(w*Rt/L)  )"
   ]
  },
  {
   "cell_type": "code",
   "execution_count": 19,
   "metadata": {},
   "outputs": [],
   "source": [
    "p05 = [w0,13000]\n",
    "popt5 , pcov5 = curve_fit( Phifunc,w, Phi , sigma=phistd, p0 =p05, absolute_sigma=True)\n",
    "p06 = [L,C,100]\n",
    "popt6 , pcov6 = curve_fit( Phifunc2,w, Phi , sigma=phistd, p0 =p06 ,  absolute_sigma=True)"
   ]
  },
  {
   "cell_type": "code",
   "execution_count": 20,
   "metadata": {},
   "outputs": [
    {
     "name": "stdout",
     "output_type": "stream",
     "text": [
      "Phifunc - w0,gamma\n",
      "param  0  =  81386.83985391796 +/- 272.6937011861569\n",
      "param  1  =  17426.25394833938 +/- 999.9817495912511\n",
      "\n",
      "Phifunc2 - L, C, R\n",
      "param  0  =  0.013210975026483282 +/- 5099.443525062151\n",
      "param  1  =  1.1427644065364049e-08 +/- 0.0044083572633316056\n",
      "param  2  =  126.81764992780171 +/- 88863505.63810474\n"
     ]
    }
   ],
   "source": [
    "print('Phifunc - w0,gamma')\n",
    "for i in range(0,len(popt5)):\n",
    "    print('param ',i,' = ',popt5[i], '+/-', np.sqrt(np.abs(pcov5[i,i])))\n",
    "\n",
    "print('\\nPhifunc2 - L, C, R')\n",
    "for i in range(0,len(popt6)):\n",
    "    print('param ',i,' = ',popt6[i], '+/-', np.sqrt(np.abs(pcov6[i,i])))"
   ]
  },
  {
   "cell_type": "markdown",
   "metadata": {},
   "source": [
    "# Plot fit Phi Vs. $\\omega$"
   ]
  },
  {
   "cell_type": "code",
   "execution_count": 21,
   "metadata": {},
   "outputs": [
    {
     "data": {
      "image/png": "[encoded data removed]",
      "text/plain": [
       "<Figure size 432x288 with 1 Axes>"
      ]
     },
     "metadata": {
      "needs_background": "light"
     },
     "output_type": "display_data"
    }
   ],
   "source": [
    "#style\n",
    "hfont = {'fontname':'Consolas'}\n",
    "plt.figure()\n",
    "plt.style.use('bmh')\n",
    "\n",
    "\n",
    "\n",
    "phifitline = Phifunc(w,*popt5)\n",
    "phifitline2 = Phifunc2(w,*popt6)\n",
    "\n",
    "\n",
    "def annot_max(x,y, ax=None):\n",
    "    text= \"w0={:.2f}, phi={:.2f}\".format(x, y)\n",
    "    if not ax:\n",
    "        ax=plt.gca()\n",
    "    bbox_props = dict(boxstyle=\"square,pad=0.3\", fc=\"w\", ec=\"k\", lw=0.72)\n",
    "    arrowprops=dict(arrowstyle=\"->\",connectionstyle=\"arc3,rad=.2\", color='black')\n",
    "    kw = dict(xycoords='data',textcoords=\"axes fraction\",\n",
    "              arrowprops=arrowprops, bbox=bbox_props, ha=\"right\", va=\"top\")\n",
    "    ax.annotate(text, xy=(x, y), xytext=(0.96,0.14), **kw)\n",
    "\n",
    "annot_max(w[6],phifitline2[6])\n",
    "\n",
    "\n",
    "\n",
    "\n",
    "\n",
    "#plot data\n",
    "plt.plot(w,phifitline, label = 'Fit: w0=%1.2e, gamma=%1.2e' % tuple(popt5))\n",
    "plt.plot(w,phifitline2, label = 'Fit: L=%1.3f, C=%1.2e, R=%1.2f' % tuple(popt6), color='m')\n",
    "plt.errorbar(w,Phi,yerr=phistd, xerr=wSig, fmt= '.', ls = None, label= 'Error points', color = 'black', alpha =0.5)\n",
    "\n",
    "\n",
    "#Labels \n",
    "plt.title(\"Phase Angle vs. $\\omega$ (Overfit)\", **hfont)\n",
    "plt.ylabel(\"Phase angle (deg)\", **hfont)\n",
    "plt.xlabel(\"Angular Freq $\\omega$ (Hz)\", **hfont)\n",
    "plt.axvline(w0, color ='gray', label =f'w0 Theoretical={w0:.2f}')\n",
    "plt.axhline(0, color ='gray')\n",
    "\n",
    "plt.legend(fancybox=True, framealpha=0.5)\n",
    "\n",
    "\n",
    "plt.savefig(\"PhiVsOmega.png\", bbox_inches='tight')"
   ]
  },
  {
   "cell_type": "markdown",
   "metadata": {},
   "source": [
    "# $Chi^2$"
   ]
  },
  {
   "cell_type": "code",
   "execution_count": 22,
   "metadata": {},
   "outputs": [
    {
     "name": "stdout",
     "output_type": "stream",
     "text": [
      "Chi-square:  18.22967878612207\n",
      "Degrees of freedom:  10\n",
      "Reduced chi-square:  1.8229678786122068\n",
      "CDF:  0.9487893102942351\n",
      "p-test value:  0.05121068970576492\n"
     ]
    }
   ],
   "source": [
    "# By definition: \n",
    "chisq = sum( (Phi - phifitline2)**2 / phistd**2 )\n",
    "\n",
    "# ndf = number of degrees of freedom\n",
    "ndf = len(w)-len(popt6)\n",
    "\n",
    "# prof advised not to use this \n",
    "chisq_reduced = chisq/float(ndf)\n",
    "\n",
    "#   Note:\n",
    "#       The reduced Chi2 = (Chi2/ndf) is just a \"shortcut\" that allows us to quickly decide if \n",
    "#       the data agrees with the model.\n",
    "#     If reduced Chi2 is about equal to one: we are definitely good, because (Chi2/ndf)=1 corresponds to \n",
    "#     the p-value of 0.5\n",
    "\n",
    "cdf = stat.chi2.cdf(chisq, df = ndf)\n",
    "\n",
    "# For a Chisquare with a given number of degrees of freedom the p-test value: \n",
    "#       is just one minus the cummilative distribtion \n",
    "#       fucntion (CDF) of the chisquare probabilty distribution evaluated at the calculated value of ChiSq\n",
    "pvalue = 1-cdf\n",
    "\n",
    "print('Chi-square: ',chisq)\n",
    "print('Degrees of freedom: ',ndf)\n",
    "print('Reduced chi-square: ',chisq_reduced)\n",
    "print('CDF: ', cdf)\n",
    "print('p-test value: ',pvalue)"
   ]
  },
  {
   "cell_type": "markdown",
   "metadata": {},
   "source": [
    "# Try \n",
    "> using the values obtained form the phi vs omega graph\n",
    "$$\n",
    "v_R(t) = R\\cdot i(t) = R\\cdot\\frac{V_0}{R_T}\n",
    "$$\n",
    "\n",
    "$$\n",
    "v_R(t) = R\\cdot i(t) = R\\cdot\\frac{V_0}{R+R_L}\n",
    "$$"
   ]
  },
  {
   "cell_type": "code",
   "execution_count": 23,
   "metadata": {},
   "outputs": [
    {
     "name": "stdout",
     "output_type": "stream",
     "text": [
      "35.85334645669291\n"
     ]
    }
   ],
   "source": [
    "print((R*(146/2)/Rt)) # we are off by a fucking factor of 10 (measure the R's one more time)"
   ]
  },
  {
   "cell_type": "code",
   "execution_count": 24,
   "metadata": {},
   "outputs": [
    {
     "name": "stdout",
     "output_type": "stream",
     "text": [
      "50000.00000000001\n"
     ]
    }
   ],
   "source": [
    "print(0.025/.5E-6)"
   ]
  },
  {
   "cell_type": "markdown",
   "metadata": {},
   "source": [
    "# Error prop of freq  to $\\omega$ \n",
    "$$\n",
    "\\omega = 2\\cdot \\pi \\cdot f\n",
    "$$\n",
    "\n",
    "$$\n",
    "\\sigma_\\omega^2 = (2\\pi)^2\\cdot \\sigma_f^2\n",
    "$$"
   ]
  }
 ],
 "metadata": {
  "interpreter": {
   "hash": "42820a4b4986f6608db579be1c555b1f91a1d9160c7c42d0ba198c01529d282e"
  },
  "kernelspec": {
   "display_name": "Python 3.9.0 ('.venv': poetry)",
   "language": "python",
   "name": "python3"
  },
  "language_info": {
   "codemirror_mode": {
    "name": "ipython",
    "version": 3
   },
   "file_extension": ".py",
   "mimetype": "text/x-python",
   "name": "python",
   "nbconvert_exporter": "python",
   "pygments_lexer": "ipython3",
   "version": "3.9.0"
  },
  "orig_nbformat": 4
 },
 "nbformat": 4,
 "nbformat_minor": 2
}
