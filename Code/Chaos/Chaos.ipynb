{
 "cells": [
  {
   "cell_type": "code",
   "execution_count": 1,
   "metadata": {},
   "outputs": [],
   "source": [
    "import numpy as np\n",
    "import pandas as pd"
   ]
  },
  {
   "cell_type": "code",
   "execution_count": 20,
   "metadata": {},
   "outputs": [],
   "source": [
    "def VarIdealResFreq(L,varL, C, varC):\n",
    "    \"\"\"\n",
    "    Inputs require base unit values\n",
    "        Function takes Inductance, Capacitance & it's Variance for a simple calculation\n",
    "        Returns the Variance of the ideal resonance frequency\n",
    "    \"\"\"\n",
    "    t1 = 2*L**(3/2)*C**(1/2)\n",
    "    t2 = 1/t1\n",
    "    term1 = (t2**2)*varL\n",
    "\n",
    "    t3 = 2*L**(1/2)*C**(3/2)\n",
    "    t4 =1/t3\n",
    "    term2 = (t4**2)*varC\n",
    "\n",
    "    varidealresfreq = term1 + term2\n",
    "\n",
    "    return varidealresfreq"
   ]
  },
  {
   "cell_type": "code",
   "execution_count": 22,
   "metadata": {},
   "outputs": [
    {
     "name": "stdout",
     "output_type": "stream",
     "text": [
      "Help on function VarIdealResFreq in module __main__:\n",
      "\n",
      "VarIdealResFreq(L, varL, C, varC)\n",
      "    Inputs require base unit values\n",
      "        Function takes Inductance, Capacitance & it's Variance \n",
      "        Returns the Variance of the ideal resonance frequency\n",
      "\n"
     ]
    }
   ],
   "source": [
    "# use if need to recall the function & it's properties \n",
    "help(VarIdealResFreq)"
   ]
  },
  {
   "cell_type": "code",
   "execution_count": 31,
   "metadata": {},
   "outputs": [],
   "source": [
    "def VarRealResFreq(omega, ErrOmega, phi, varphi, RT, varRT, L, varL):\n",
    "    \"\"\"\n",
    "    Inputs require base unit values\n",
    "\n",
    "    Function takes: \n",
    "    -Freqency, error in freq ~ Std \n",
    "    -Phase angle, Variance\n",
    "    -R thevenin, Variance \n",
    "    -Inductance, Variance\n",
    "\n",
    "    Returns the Variance of the Real resonance frequency\n",
    "    \"\"\"    \n",
    "    # Convert phi to rad \n",
    "    phi = (phi*np.pi)/180\n",
    "        \n",
    "    t1 =2*L*omega - np.tan(phi)*RT\n",
    "    # denominator used several times = t2\n",
    "    t2 = 2*np.sqrt(L)*np.sqrt(L*omega**2-np.tan(phi)*RT*omega)\n",
    "    t3= t1/t2\n",
    "    term1 = (t3**2)*ErrOmega**2\n",
    "\n",
    "    t4 = 1/np.cos(phi) #secant\n",
    "    t5 = t4**2*RT*omega\n",
    "    t6 = t5/t2\n",
    "    term2 = (t6**2)*varphi\n",
    "\n",
    "    t7 = np.tan(phi)*omega\n",
    "    t8 = t7/t2\n",
    "    term3 = (t8**2)*varRT\n",
    "    \n",
    "    t9 = np.tan(phi)*RT*omega\n",
    "    t10 = 2*L**(3/2)*np.sqrt(L*omega**2-np.tan(phi)*RT*omega)\n",
    "    t11 = t9/t10\n",
    "    term4 = (t11**2)*varL\n",
    "\n",
    "    varrealresfreq = term1 + term2 + term3 + term4\n",
    "\n",
    "    return varrealresfreq  "
   ]
  }
 ],
 "metadata": {
  "interpreter": {
   "hash": "42820a4b4986f6608db579be1c555b1f91a1d9160c7c42d0ba198c01529d282e"
  },
  "kernelspec": {
   "display_name": "Python 3.9.0 ('.venv': poetry)",
   "language": "python",
   "name": "python3"
  },
  "language_info": {
   "codemirror_mode": {
    "name": "ipython",
    "version": 3
   },
   "file_extension": ".py",
   "mimetype": "text/x-python",
   "name": "python",
   "nbconvert_exporter": "python",
   "pygments_lexer": "ipython3",
   "version": "3.9.0"
  },
  "orig_nbformat": 4
 },
 "nbformat": 4,
 "nbformat_minor": 2
}
