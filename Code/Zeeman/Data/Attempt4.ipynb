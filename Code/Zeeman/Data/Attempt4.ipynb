{
 "cells": [
  {
   "cell_type": "code",
   "execution_count": null,
   "metadata": {},
   "outputs": [],
   "source": [
    "import numpy as np\n",
    "import matplotlib.pyplot as plt \n",
    "import matplotlib.colors as colors\n",
    "import pandas as pd \n",
    "\n",
    "from astropy.visualization import astropy_mpl_style\n",
    "from astropy.utils.data import get_pkg_data_filename\n",
    "from astropy.io import fits\n",
    "\n",
    "from scipy.optimize import curve_fit\n",
    "import scipy.stats as stat\n",
    "from scipy.signal import argrelextrema\n",
    "from scipy.signal import find_peaks\n",
    "from scipy.misc import electrocardiogram\n",
    "\n",
    "import helperfile as hf\n",
    "\n",
    "import os\n",
    "import os.path\n",
    "from pathlib import Path, PureWindowsPath\n"
   ]
  },
  {
   "cell_type": "code",
   "execution_count": null,
   "metadata": {},
   "outputs": [],
   "source": [
    "bins, intensities  = hf.CreateData('180NoBRun1.txt')\n",
    "bins, intensities =  np.array(bins), np.array(intensities)\n",
    "hf.Plots(bins, intensities, \"B=0.384 kG, Polarize = 180 deg, Intensity Plot - Full set\", 'Bins', 'Intensity [ADU] ', figsize0= 15, figsize1=4)\n"
   ]
  },
  {
   "cell_type": "code",
   "execution_count": null,
   "metadata": {},
   "outputs": [],
   "source": [
    "#Declare lists  \n",
    "bins = []\n",
    "intensities = []\n",
    "#read file\n",
    "\n",
    "d = Path(\"Data/AllDataFiles/Run8.txt\")\n",
    "p_on_windows = PureWindowsPath(d)\n",
    "f = open(p_on_windows, 'r')\n",
    "# file_content = f.read()\n",
    "\n",
    "\n",
    "#loop and campartmentaize \n",
    "for row in f: \n",
    "    row = row.split()\n",
    "    bins.append(int(row[0]))\n",
    "    intensities.append(int(row[1]))\n"
   ]
  },
  {
   "cell_type": "code",
   "execution_count": null,
   "metadata": {},
   "outputs": [],
   "source": [
    "print(len(bins))"
   ]
  },
  {
   "cell_type": "code",
   "execution_count": null,
   "metadata": {},
   "outputs": [],
   "source": [
    "# Isolate 1'st rings \n",
    "peaks, xnew, ynew = hf.LabelPeaks_ShrinkData(bins, intensities, 218,262,1350)\n",
    "hf.Plots(xnew, ynew, \"B=0.384 kG, Polarize = 180 deg, Intensity Plot - 1st Rings\", 'Bins', 'Intensity [ADU] ')\n",
    "plt.axvline(peakR[0]-0.25)\n",
    "plt.axvline(peakR[0]+0.25)\n",
    "plt.axvline(peakR[0]+0.75)"
   ]
  },
  {
   "cell_type": "code",
   "execution_count": null,
   "metadata": {},
   "outputs": [],
   "source": [
    "# Normalize \n",
    "\n",
    "# shrink data \n",
    "peakL, xL, yL = hf.LabelPeaks_ShrinkData(bins, intensities, 218,228,1500)\n",
    "hf.Plots(xL, yL/intensities[peakL], \"B=0.384 kG, Polarize = 180 deg, Intensity Plot -Left\", 'Bins', 'Intensity [ADU] ')\n",
    "hf.PlotNewPeaks(peakL, intensities)\n",
    "plt.axvline(peakL)\n",
    "\n",
    "peakR, xR, yR = hf.LabelPeaks_ShrinkData(bins, intensities, 248,262,1500)\n",
    "hf.Plots(xR, yR/intensities[peakR], \"B=0.384 kG, Polarize = 180 deg, Intensity Plot -Right\", 'Bins', 'Intensity [ADU] ')\n",
    "hf.PlotNewPeaks(peakR, intensities)\n",
    "plt.axvline(peakR)\n",
    "plt.axvline(peakR[0]-0.25)\n",
    "plt.axvline(peakR[0]+0.25)\n",
    "plt.axvline(peakR[0]+0.75)\n",
    "\n",
    "\n"
   ]
  },
  {
   "cell_type": "code",
   "execution_count": null,
   "metadata": {},
   "outputs": [],
   "source": []
  }
 ],
 "metadata": {
  "interpreter": {
   "hash": "15236136143f690ab629bc2239af74481c62e7c87c1783d150f8875ecab5fde5"
  },
  "kernelspec": {
   "display_name": "Python 3.9.0 ('.venv': poetry)",
   "language": "python",
   "name": "python3"
  },
  "language_info": {
   "codemirror_mode": {
    "name": "ipython",
    "version": 3
   },
   "file_extension": ".py",
   "mimetype": "text/x-python",
   "name": "python",
   "nbconvert_exporter": "python",
   "pygments_lexer": "ipython3",
   "version": "3.9.0"
  },
  "orig_nbformat": 4
 },
 "nbformat": 4,
 "nbformat_minor": 2
}
