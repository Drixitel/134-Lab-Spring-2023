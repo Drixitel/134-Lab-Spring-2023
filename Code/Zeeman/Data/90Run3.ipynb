{
 "cells": [
  {
   "cell_type": "code",
   "execution_count": 1,
   "metadata": {},
   "outputs": [],
   "source": [
    "import numpy as np\n",
    "import matplotlib.pyplot as plt \n",
    "import matplotlib.colors as colors\n",
    "\n",
    "from astropy.visualization import astropy_mpl_style\n",
    "from astropy.utils.data import get_pkg_data_filename\n",
    "from astropy.io import fits\n",
    "\n",
    "import scipy.stats as stat\n",
    "from scipy.optimize import curve_fit\n",
    "from scipy.signal import find_peaks, peak_prominences, peak_widths\n",
    "from scipy.stats import linregress\n",
    "\n",
    "import itertools\n",
    "\n",
    "import helperfile as hf\n"
   ]
  },
  {
   "cell_type": "code",
   "execution_count": 2,
   "metadata": {},
   "outputs": [],
   "source": [
    "# Block of Code to show FIT Image\n",
    "\n",
    "# bins, intensities  = hf.CreateData('180NoBRun1.txt')\n",
    "# bins, intensities =  np.array(bins), np.array(intensities)\n",
    "# hf.Plots(bins, intensities, \"B=0.384 kG, Polarize = 180 deg, Intensity Plot - Full set\", 'Bins', 'Intensity [ADU] ', figsize0= 15, figsize1=4)"
   ]
  },
  {
   "cell_type": "code",
   "execution_count": 3,
   "metadata": {},
   "outputs": [
    {
     "name": "stdout",
     "output_type": "stream",
     "text": [
      "<class 'numpy.ndarray'>\n"
     ]
    }
   ],
   "source": [
    "# STEP 1: Load Data \n",
    "xy2 = np.loadtxt('XYR3_90_Dic.txt', dtype=int, delimiter=',')\n",
    "print(type(xy2))"
   ]
  },
  {
   "cell_type": "code",
   "execution_count": 4,
   "metadata": {},
   "outputs": [],
   "source": [
    "# # STEP 2: Check all graphs  \n",
    "\n",
    "# hf.MakeManyPlots(xy2)"
   ]
  },
  {
   "cell_type": "code",
   "execution_count": 5,
   "metadata": {},
   "outputs": [],
   "source": [
    "# STEP 5: TRUNCATE TO THE FIRST ORDER\n",
    "peaks1, x_1, y_1 = hf.LabelPeaks_ShrinkData(xy2[0],xy2[1],262,490,4000)\n",
    "peaks2, x_2, y_2 = hf.LabelPeaks_ShrinkData(xy2[2],xy2[3],262,490,4300)\n",
    "peaks3, x_3, y_3 = hf.LabelPeaks_ShrinkData(xy2[4],xy2[5],262,490,4300)\n",
    "peaks4, x_4, y_4 = hf.LabelPeaks_ShrinkData(xy2[6],xy2[7],262,490,4300)\n",
    "peaks5, x_5, y_5 = hf.LabelPeaks_ShrinkData(xy2[8],xy2[9],262,490,4300)\n",
    "peaks6, x_6, y_6 = hf.LabelPeaks_ShrinkData(xy2[10],xy2[11],262,490,4300)\n",
    "peaks7, x_7, y_7 = hf.LabelPeaks_ShrinkData(xy2[12],xy2[13],262,490,4300)\n",
    "peaks8, x_8, y_8 = hf.LabelPeaks_ShrinkData(xy2[14],xy2[15],262,490,4300)\n",
    "peaks9, x_9, y_9 = hf.LabelPeaks_ShrinkData(xy2[16],xy2[17],262,490,4300)\n",
    "peaks10, x_10, y_10 = hf.LabelPeaks_ShrinkData(xy2[18],xy2[19],262,490,4300)\n",
    "peaks11, x_11, y_11 = hf.LabelPeaks_ShrinkData(xy2[20],xy2[21],262,490,4300)\n",
    "\n",
    "\n",
    "# hf.Plots(x_1,y_1, \n",
    "#     'B = 5.900kG, Intensity Plot [510x765][9um squares]', \n",
    "#     'Bins (pixels)', 'Intensity (ADU)', \n",
    "#     # figsize0=12, figsize1=8\n",
    "#     )\n",
    "# hf.PlotNewPeaks(peaks1,xy2[1])\n",
    "\n",
    "\n",
    "# hf.Plots(x_2,y_2, \n",
    "#     'B = 6.000kG, Intensity Plot [510x765][9um squares]', \n",
    "#     'Bins (pixels)', 'Intensity (ADU)', \n",
    "#     # figsize0=12, figsize1=6\n",
    "#     )\n",
    "# hf.PlotNewPeaks(peaks2,xy2[3])\n",
    "\n",
    "# hf.Plots(x_3,y_3, \n",
    "#     'B = 5.000kG, Intensity Plot [510x765][9um squares]', \n",
    "#     'Bins (pixels)', 'Intensity (ADU)', \n",
    "#     # figsize0=12, figsize1=6\n",
    "#     )\n",
    "# hf.PlotNewPeaks(peaks3,xy2[5])\n",
    "\n",
    "\n",
    "# hf.Plots(x_4,y_4, \n",
    "#     'B = 5.103kG, Intensity Plot [510x765][9um squares]', \n",
    "#     'Bins (pixels)', 'Intensity (ADU)', \n",
    "#     # figsize0=12, figsize1=6\n",
    "#     )\n",
    "# hf.PlotNewPeaks(peaks4,xy2[7])\n",
    "\n",
    "\n",
    "# hf.Plots(x_5,y_5, \n",
    "#     'B = 5.203kG, Intensity Plot [510x765][9um squares]', \n",
    "#     'Bins (pixels)', 'Intensity (ADU)', \n",
    "#     # figsize0=12, figsize1=6\n",
    "#     )\n",
    "# hf.PlotNewPeaks(peaks5,xy2[9])\n",
    "\n",
    "# hf.Plots(x_6,y_6, \n",
    "#     'B = 5.299kG, Intensity Plot [510x765][9um squares]', \n",
    "#     'Bins (pixels)', 'Intensity (ADU)', \n",
    "#     # figsize0=12, figsize1=6\n",
    "#     )\n",
    "# hf.PlotNewPeaks(peaks6,xy2[11])\n",
    "\n",
    "# hf.Plots(x_7,y_7, \n",
    "#     'B = 5.400kG, Intensity Plot [510x765][9um squares]', \n",
    "#     'Bins (pixels)', 'Intensity (ADU)', \n",
    "#     # figsize0=12, figsize1=6\n",
    "#     )\n",
    "# hf.PlotNewPeaks(peaks7,xy2[13])\n",
    "\n",
    "# hf.Plots(x_8,y_8, \n",
    "#     'B = 5.500kG, Intensity Plot [510x765][9um squares]', \n",
    "#     'Bins (pixels)', 'Intensity (ADU)', \n",
    "#     # figsize0=12, figsize1=6\n",
    "#     )\n",
    "# hf.PlotNewPeaks(peaks8,xy2[15])\n",
    "\n",
    "# hf.Plots(x_9,y_9, \n",
    "#     'B = 5.600kG, Intensity Plot [510x765][9um squares]', \n",
    "#     'Bins (pixels)', 'Intensity (ADU)', \n",
    "#     # figsize0=12, figsize1=6\n",
    "#     )\n",
    "# hf.PlotNewPeaks(peaks9,xy2[17])\n",
    "\n",
    "# hf.Plots(x_10,y_10, \n",
    "#     'B = 5.700kG, Intensity Plot [510x765][9um squares]', \n",
    "#     'Bins (pixels)', 'Intensity (ADU)', \n",
    "#     # figsize0=12, figsize1=6\n",
    "#     )\n",
    "# hf.PlotNewPeaks(peaks10,xy2[19])\n",
    "\n",
    "# hf.Plots(x_11,y_11, \n",
    "#     'B = 5.800kG, Intensity Plot [510x765][9um squares]', \n",
    "#     'Bins (pixels)', 'Intensity (ADU)', \n",
    "#     # figsize0=12, figsize1=6\n",
    "#     )\n",
    "# hf.PlotNewPeaks(peaks11,xy2[21])\n",
    "\n"
   ]
  },
  {
   "cell_type": "code",
   "execution_count": 6,
   "metadata": {},
   "outputs": [],
   "source": [
    "# STEP 6: CREATE RADIUS ARRAY \n",
    "B1 = 5.900E3 #Gauss\n",
    "R1_1 = hf.RadiusMeter(peaks1[0], peaks1[-1])\n",
    "R1_2 = hf.RadiusMeter(peaks1[1], peaks1[-2])\n",
    "R1_3 = hf.RadiusMeter(peaks1[2], peaks1[-4])\n",
    "\n",
    "B2 = 6.00E3\n",
    "R2_1 = hf.RadiusMeter(peaks2[0], peaks2[-1])\n",
    "R2_2 = hf.RadiusMeter(peaks2[1], peaks2[-2])\n",
    "R2_3 = hf.RadiusMeter(peaks2[2], peaks2[-3])\n",
    "\n",
    "B3 = 5.00E3\n",
    "R3_1 = hf.RadiusMeter(peaks3[0], peaks3[-1])\n",
    "R3_2 = hf.RadiusMeter(peaks3[1], peaks3[-2])\n",
    "R3_3 = hf.RadiusMeter(peaks3[3], peaks3[-4])\n",
    "\n",
    "B4 = 5.103E3\n",
    "R4_1 = hf.RadiusMeter(peaks4[0], peaks4[-1])\n",
    "R4_2 = hf.RadiusMeter(peaks4[1], peaks4[-2])\n",
    "R4_3 = hf.RadiusMeter(peaks4[3], peaks4[-4])\n",
    "\n",
    "B5 = 5.203E3\n",
    "R5_1 = hf.RadiusMeter(peaks5[0], peaks5[-1])\n",
    "R5_2 = hf.RadiusMeter(peaks5[1], peaks5[-2])\n",
    "R5_3 = hf.RadiusMeter(peaks5[3], peaks5[-4])\n",
    "\n",
    "B6 = 5.299E3\n",
    "R6_1 = hf.RadiusMeter(peaks6[0], peaks6[-1])\n",
    "R6_2 = hf.RadiusMeter(peaks6[1], peaks6[-2])\n",
    "R6_3 = hf.RadiusMeter(peaks6[3], peaks6[-4])\n",
    "\n",
    "B7 = 5.400E3\n",
    "R7_1 = hf.RadiusMeter(peaks7[0], peaks7[-1])\n",
    "R7_2 = hf.RadiusMeter(peaks7[1], peaks7[-2])\n",
    "R7_3 = hf.RadiusMeter(peaks7[3], peaks7[-4])\n",
    "\n",
    "B8 = 5.500E3\n",
    "R8_1 = hf.RadiusMeter(peaks8[0], peaks8[-1])\n",
    "R8_2 = hf.RadiusMeter(peaks8[1], peaks8[-2])\n",
    "R8_3 = hf.RadiusMeter(peaks8[3], peaks8[-4])\n",
    "\n",
    "B9 = 5.600E3\n",
    "R9_1 = hf.RadiusMeter(peaks9[0], peaks9[-1])\n",
    "R9_2 = hf.RadiusMeter(peaks9[1], peaks9[-2])\n",
    "R9_3 = hf.RadiusMeter(peaks9[3], peaks9[-4])\n",
    "\n",
    "B10 = 5.700E3\n",
    "R10_1 = hf.RadiusMeter(peaks10[0], peaks10[-1])\n",
    "R10_2 = hf.RadiusMeter(peaks10[1], peaks10[-2])\n",
    "R10_3 = hf.RadiusMeter(peaks10[3], peaks10[-4])\n",
    "\n",
    "B11 = 5.800E3\n",
    "R11_1 = hf.RadiusMeter(peaks11[0], peaks11[-1])\n",
    "R11_2 = hf.RadiusMeter(peaks11[1], peaks11[-2])\n",
    "R11_3 = hf.RadiusMeter(peaks11[2], peaks11[-4])\n",
    "\n",
    "radii = [\n",
    "    R1_1, R1_2, R1_3,\n",
    "    R2_1, R2_2, R2_3,\n",
    "    R3_1, R3_2, R3_3,\n",
    "    R4_1, R4_2, R4_3,\n",
    "    R5_1, R5_2, R5_3,\n",
    "    R6_1, R6_2, R6_3,\n",
    "    R7_1, R7_2, R7_3,\n",
    "    R8_1, R8_2, R8_3,\n",
    "    R9_1, R9_2, R9_3,\n",
    "    R10_1, R10_2, R10_3,\n",
    "    R11_1, R11_2, R11_3,\n",
    "]\n",
    "\n",
    "# EACH SET OF GRAPHS WILL CONTRIBUTE 2 DELTA E'S \n",
    "B = [\n",
    "    B1,B1,\n",
    "    B2,B2,\n",
    "    B3,B3,\n",
    "    B4,B4,\n",
    "    B5,B5,\n",
    "    B6,B6,\n",
    "    B7,B7,\n",
    "    B8,B8,\n",
    "    B9,B9,\n",
    "    B10,B10,\n",
    "    B11,B11,\n",
    "]\n",
    "\n",
    "B = np.array(B)"
   ]
  },
  {
   "cell_type": "code",
   "execution_count": 7,
   "metadata": {},
   "outputs": [],
   "source": [
    "# STEP 7: CREATE THETA ARRAYS \n",
    "thetas = hf.ThetasRadArray(radii)"
   ]
  },
  {
   "cell_type": "code",
   "execution_count": 8,
   "metadata": {},
   "outputs": [],
   "source": [
    "# STEP 8: CREATE DELTA E ARRAYS \n",
    "delE_90 = hf.DeltaEPrime90(thetas)"
   ]
  },
  {
   "cell_type": "code",
   "execution_count": 9,
   "metadata": {},
   "outputs": [],
   "source": [
    "# for i in delE_90: \n",
    "#     print(i)"
   ]
  },
  {
   "cell_type": "code",
   "execution_count": 10,
   "metadata": {},
   "outputs": [],
   "source": [
    "# for i in B: \n",
    "#     print(i)"
   ]
  },
  {
   "cell_type": "code",
   "execution_count": 11,
   "metadata": {},
   "outputs": [
    {
     "data": {
      "text/plain": [
       "<matplotlib.collections.PathCollection at 0x22cee6ac490>"
      ]
     },
     "execution_count": 11,
     "metadata": {},
     "output_type": "execute_result"
    },
    {
     "data": {
      "image/png": "[encoded data removed]",
      "text/plain": [
       "<Figure size 432x288 with 1 Axes>"
      ]
     },
     "metadata": {
      "needs_background": "light"
     },
     "output_type": "display_data"
    }
   ],
   "source": [
    "# STEP 9: PLOT \n",
    "# hf.Plots(B, delE_90,\n",
    "#  \"Delta E Vs B\", \n",
    "#  \"Magnetic Field (Gauss)\",\n",
    "#  \"Energy Shift (erg)\" )\n",
    "plt.scatter(np.sort(B),delE_90[np.argsort(B)])\n"
   ]
  },
  {
   "cell_type": "code",
   "execution_count": 28,
   "metadata": {},
   "outputs": [],
   "source": [
    "def DelE(B,mu_0,a):\n",
    "    mu = 9.2741E-21 # erg/G\n",
    "    A = 0.5\n",
    "    return a*mu_0*B\n",
    "p0 = [9.3E-21, 0.4]\n",
    "sigma = np.random.uniform(min(delE_90), max(delE_90), len(delE_90))"
   ]
  },
  {
   "cell_type": "code",
   "execution_count": 29,
   "metadata": {},
   "outputs": [],
   "source": [
    "params2, cov2 = curve_fit( DelE,\n",
    "                    B,\n",
    "                    delE_90,\n",
    "                    p0= p0, \n",
    "                    absolute_sigma=False,\n",
    "                    sigma=sigma\n",
    "                    )"
   ]
  },
  {
   "cell_type": "code",
   "execution_count": 30,
   "metadata": {},
   "outputs": [],
   "source": [
    "fit2 = DelE(B ,*params2)"
   ]
  },
  {
   "cell_type": "code",
   "execution_count": 35,
   "metadata": {},
   "outputs": [
    {
     "name": "stdout",
     "output_type": "stream",
     "text": [
      "[1.08442763e-20 3.99848970e-01]\n"
     ]
    },
    {
     "data": {
      "text/plain": [
       "<matplotlib.legend.Legend at 0x22cf2a0f190>"
      ]
     },
     "execution_count": 35,
     "metadata": {},
     "output_type": "execute_result"
    },
    {
     "data": {
      "image/png": "[encoded data removed]",
      "text/plain": [
       "<Figure size 432x288 with 1 Axes>"
      ]
     },
     "metadata": {
      "needs_background": "light"
     },
     "output_type": "display_data"
    }
   ],
   "source": [
    "plt.scatter(np.sort(B),delE_90[np.argsort(B)], label = 'data')\n",
    "plt.plot(B, fit2, label = 'fit', color = 'red')\n",
    "print(params2)\n",
    "plt.title(\"Delta E vs. Magnetic Field B\")\n",
    "plt.xlabel('Magnetic Field B (Gaus)')\n",
    "plt.ylabel('Energy Shift (erg)')\n",
    "plt.legend()\n",
    "\n"
   ]
  },
  {
   "cell_type": "code",
   "execution_count": 32,
   "metadata": {},
   "outputs": [],
   "source": [
    "# # lists = sorted(itertools.izip(*[B,delE_90]))\n",
    "# # x, y = list(itertools.izip(*lists))\n",
    "\n",
    "# x, y = zip(*sorted(zip(B,delE_90)))\n",
    "# plt.scatter(x,y)\n"
   ]
  },
  {
   "cell_type": "code",
   "execution_count": 33,
   "metadata": {},
   "outputs": [
    {
     "name": "stdout",
     "output_type": "stream",
     "text": [
      "Chi-square:  0.038781289829828994\n",
      "Degrees of freedom:  20\n",
      "Reduced chi-square:  0.0019390644914914496\n",
      "CDF:  2.034718732966985e-24\n",
      "p-test value:  1.0\n"
     ]
    }
   ],
   "source": [
    "hf.Chi2Values(DelE,B,delE_90,params2,sigma)"
   ]
  }
 ],
 "metadata": {
  "interpreter": {
   "hash": "15236136143f690ab629bc2239af74481c62e7c87c1783d150f8875ecab5fde5"
  },
  "kernelspec": {
   "display_name": "Python 3.9.0 ('.venv': poetry)",
   "language": "python",
   "name": "python3"
  },
  "language_info": {
   "codemirror_mode": {
    "name": "ipython",
    "version": 3
   },
   "file_extension": ".py",
   "mimetype": "text/x-python",
   "name": "python",
   "nbconvert_exporter": "python",
   "pygments_lexer": "ipython3",
   "version": "3.9.0"
  },
  "orig_nbformat": 4
 },
 "nbformat": 4,
 "nbformat_minor": 2
}
