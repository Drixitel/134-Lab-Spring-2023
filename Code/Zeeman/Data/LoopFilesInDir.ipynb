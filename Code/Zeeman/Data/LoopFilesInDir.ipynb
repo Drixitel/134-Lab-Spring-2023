{
 "cells": [
  {
   "cell_type": "code",
   "execution_count": 1,
   "metadata": {},
   "outputs": [],
   "source": [
    "import os \n",
    "import numpy as np \n",
    "import itertools\n",
    "import matplotlib.pyplot as plt\n",
    "import helperfile as hf"
   ]
  },
  {
   "cell_type": "code",
   "execution_count": 2,
   "metadata": {},
   "outputs": [],
   "source": [
    "#Must be in the directry that holds files in a subdirectory"
   ]
  },
  {
   "cell_type": "code",
   "execution_count": 3,
   "metadata": {},
   "outputs": [
    {
     "name": "stdout",
     "output_type": "stream",
     "text": [
      "24\n",
      "24\n"
     ]
    }
   ],
   "source": [
    "#Run1 Files \n",
    "# Order: \n",
    "# 10_0440_90.txt\n",
    "# 11_0414_90.txt\n",
    "# 12_0424_90.txt\n",
    "# 1_0075_90.txt\n",
    "# 2_0192_90.txt\n",
    "# 3_0330_90.txt\n",
    "# 4_0343_90.txt\n",
    "# 5_0.353_90.txt\n",
    "# 6_0362_90.txt\n",
    "# 7_0374_90.txt\n",
    "# 8_0384_90.txt\n",
    "# 9_0394_90.txt\n",
    "\n",
    "folder_to_view = 'AllDataFiles/Run1'\n",
    "# print(os.listdir(folder_to_view))\n",
    "\n",
    "xy_dirRun1_90 = []\n",
    "xy_dirRun1_180 = []\n",
    "\n",
    "\n",
    "\n",
    "for file in os.listdir(folder_to_view): \n",
    "    if file.endswith(\"90.txt\"): \n",
    "        # print(file)\n",
    "        x90 =[]\n",
    "        y90 = []\n",
    "        # print(file)\n",
    "        with open(f'{folder_to_view}/{file}') as f: \n",
    "            for line in itertools.islice(f,4,None):\n",
    "                line = line.split()\n",
    "                x90.append(int(line[0]))\n",
    "                y90.append(int(line[1]))\n",
    "\n",
    "        xy_dirRun1_90.append(x90)\n",
    "        xy_dirRun1_90.append(y90)\n",
    "\n",
    "    elif file.endswith(\"180.txt\"): \n",
    "        x180 =[]\n",
    "        y180 = []\n",
    "        with open(f'{folder_to_view}/{file}') as f: \n",
    "            for line in itertools.islice(f,4,None):\n",
    "                line = line.split()\n",
    "                x180.append(int(line[0]))\n",
    "                y180.append(int(line[1]))\n",
    "\n",
    "        xy_dirRun1_180.append(x180)\n",
    "        xy_dirRun1_180.append(y180)\n",
    "        continue\n",
    "\n",
    "print(len(xy_dirRun1_90))\n",
    "print(len(xy_dirRun1_180))\n",
    "\n",
    "np.savetxt(\"XYR1_90_Dic.txt\", xy_dirRun1_90, delimiter =\", \")\n",
    "np.savetxt(\"XYR1_180_Dic.txt\", xy_dirRun1_180, delimiter =\", \")\n"
   ]
  },
  {
   "cell_type": "code",
   "execution_count": 4,
   "metadata": {},
   "outputs": [
    {
     "name": "stdout",
     "output_type": "stream",
     "text": [
      "20\n",
      "20\n"
     ]
    }
   ],
   "source": [
    "#Run2 Files \n",
    "\n",
    "#Order: \n",
    "# 10_B1100.txt\n",
    "# 1_B0198.txt\n",
    "# 2_B0300.txt\n",
    "# 3_B0400.txt\n",
    "# 4_B0500.txt\n",
    "# 5_B0599.txt\n",
    "# 6_B0700.txt\n",
    "# 7_B0800.txt\n",
    "# 8_B0900.txt\n",
    "# 9_B1001.txt\n",
    "\n",
    "folder_to_view = 'AllDataFiles/Run2/90'\n",
    "# print(os.listdir(folder_to_view))\n",
    "\n",
    "xy_dirRun2_90 = []\n",
    "\n",
    "for file in os.listdir(folder_to_view): \n",
    "    if file.endswith(\".txt\"): \n",
    "        # print(file)\n",
    "        x90 =[]\n",
    "        y90 = []\n",
    "        with open(f'{folder_to_view}/{file}') as f: \n",
    "            for line in itertools.islice(f,4,None):\n",
    "                line = line.split()\n",
    "                x90.append(int(line[0]))\n",
    "                y90.append(int(line[1]))\n",
    "\n",
    "        xy_dirRun2_90.append(x90)\n",
    "        xy_dirRun2_90.append(y90)\n",
    "\n",
    "\n",
    "print(len(xy_dirRun2_90))\n",
    "\n",
    "#Run1 Files \n",
    "\n",
    "folder_to_view = 'AllDataFiles/Run2/180'\n",
    "# print(os.listdir(folder_to_view))\n",
    "\n",
    "xy_dirRun2_180 = []\n",
    "\n",
    "for file in os.listdir(folder_to_view): \n",
    "    if file.endswith(\".txt\"): \n",
    "        # print(file)\n",
    "        x90 =[]\n",
    "        y90 = []\n",
    "\n",
    "        with open(f'{folder_to_view}/{file}') as f: \n",
    "            for line in itertools.islice(f,4,None):\n",
    "                line = line.split()\n",
    "                x90.append(int(line[0]))\n",
    "                y90.append(int(line[1]))\n",
    "\n",
    "        xy_dirRun2_180.append(x90)\n",
    "        xy_dirRun2_180.append(y90)\n",
    "\n",
    "\n",
    "print(len(xy_dirRun2_180))\n",
    "\n",
    "np.savetxt(\"XYR2_90_Dic.txt\", xy_dirRun2_90, delimiter =\", \")\n",
    "np.savetxt(\"XYR2_180_Dic.txt\", xy_dirRun2_180, delimiter =\", \")"
   ]
  },
  {
   "cell_type": "code",
   "execution_count": 5,
   "metadata": {},
   "outputs": [
    {
     "name": "stdout",
     "output_type": "stream",
     "text": [
      "22\n",
      "20\n"
     ]
    }
   ],
   "source": [
    "#Run3 Files \n",
    "\n",
    "folder_to_view = 'AllDataFiles/Run3/90'\n",
    "# print(os.listdir(folder_to_view))\n",
    "\n",
    "xy_dirRun3_90 = []\n",
    "\n",
    "for file in os.listdir(folder_to_view): \n",
    "    if file.endswith(\".txt\"): \n",
    "        # print(file)\n",
    "        x90 =[]\n",
    "        y90 = []\n",
    "\n",
    "        with open(f'{folder_to_view}/{file}') as f: \n",
    "            for line in itertools.islice(f,4,None):\n",
    "                line = line.split()\n",
    "                x90.append(int(line[0]))\n",
    "                y90.append(int(line[1]))\n",
    "\n",
    "        xy_dirRun3_90.append(x90)\n",
    "        xy_dirRun3_90.append(y90)\n",
    "\n",
    "\n",
    "print(len(xy_dirRun3_90))\n",
    "\n",
    "#Run1 Files \n",
    "\n",
    "folder_to_view = 'AllDataFiles/Run3/180'\n",
    "# print(os.listdir(folder_to_view))\n",
    "\n",
    "xy_dirRun3_180 = []\n",
    "\n",
    "for file in os.listdir(folder_to_view): \n",
    "    if file.endswith(\".txt\"): \n",
    "        # print(file)\n",
    "        x90 =[]\n",
    "        y90 = []\n",
    "        # print(file)\n",
    "        with open(f'{folder_to_view}/{file}') as f: \n",
    "            for line in itertools.islice(f,4,None):\n",
    "                # print(line)\n",
    "                line = line.split()\n",
    "                x90.append(int(line[0]))\n",
    "                y90.append(int(line[1]))\n",
    "\n",
    "        xy_dirRun3_180.append(x90)\n",
    "        xy_dirRun3_180.append(y90)\n",
    "\n",
    "\n",
    "print(len(xy_dirRun3_180))\n",
    "\n",
    "np.savetxt(\"XYR3_90_Dic.txt\", xy_dirRun3_90, delimiter =\", \")\n",
    "np.savetxt(\"XYR3_180_Dic.txt\", xy_dirRun3_180, delimiter =\", \")\n"
   ]
  },
  {
   "cell_type": "code",
   "execution_count": 6,
   "metadata": {},
   "outputs": [],
   "source": [
    "# Test bock\n",
    "\n",
    "# x = np.loadtxt('XYR3_90_Dic.txt', dtype=int, delimiter= ',')\n",
    "# print(x[1][0])\n",
    "# print(xy_dirRun3_90[1][0])\n",
    "# hf.Plots(x[2],x[3], 'Johns ASS', 'balls', 'titties' , figsize0= 15,figsize1=6)"
   ]
  }
 ],
 "metadata": {
  "interpreter": {
   "hash": "15236136143f690ab629bc2239af74481c62e7c87c1783d150f8875ecab5fde5"
  },
  "kernelspec": {
   "display_name": "Python 3.9.0 ('.venv': poetry)",
   "language": "python",
   "name": "python3"
  },
  "language_info": {
   "codemirror_mode": {
    "name": "ipython",
    "version": 3
   },
   "file_extension": ".py",
   "mimetype": "text/x-python",
   "name": "python",
   "nbconvert_exporter": "python",
   "pygments_lexer": "ipython3",
   "version": "3.9.0"
  },
  "orig_nbformat": 4
 },
 "nbformat": 4,
 "nbformat_minor": 2
}
