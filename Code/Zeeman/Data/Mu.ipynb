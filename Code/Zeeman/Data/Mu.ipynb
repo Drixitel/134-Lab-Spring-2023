{
 "cells": [
  {
   "cell_type": "code",
   "execution_count": 18,
   "metadata": {},
   "outputs": [],
   "source": [
    "import numpy as np\n",
    "import matplotlib.pyplot as plt \n",
    "import matplotlib.colors as colors\n",
    "\n",
    "from astropy.visualization import astropy_mpl_style\n",
    "from astropy.utils.data import get_pkg_data_filename\n",
    "from astropy.io import fits\n",
    "\n",
    "from scipy import stats \n",
    "import scipy.stats as stat\n",
    "from scipy.optimize import curve_fit\n",
    "from scipy.signal import find_peaks, peak_prominences, peak_widths\n",
    "from scipy.stats import linregress\n",
    "\n",
    "import itertools\n",
    "\n",
    "import helperfile as hf"
   ]
  },
  {
   "cell_type": "code",
   "execution_count": 9,
   "metadata": {},
   "outputs": [],
   "source": [
    "mu1 = np.loadtxt('Mu1.txt', dtype=float, delimiter=',')\n",
    "mu2 = np.loadtxt('Mu2.txt', dtype=float, delimiter=',')\n",
    "var_mu1 = np.loadtxt('VarMu1.txt', dtype=float, delimiter=',')\n",
    "var_mu2 = np.loadtxt('VarMu2.txt', dtype=float, delimiter=',')\n",
    "\n"
   ]
  },
  {
   "cell_type": "code",
   "execution_count": 20,
   "metadata": {},
   "outputs": [],
   "source": [
    "mu = np.append(mu1,mu2)\n",
    "var_mu = np.append(var_mu1,var_mu2)\n",
    "sig_mu = np.sqrt(var_mu)"
   ]
  },
  {
   "cell_type": "code",
   "execution_count": 13,
   "metadata": {},
   "outputs": [],
   "source": [
    "def MuWeighAv_Varmu(mu_i, var_mu): \n",
    "    t1 = mu_i/var_mu\n",
    "    sum1 = np.sum(t1)\n",
    "\n",
    "    t2 = 1/var_mu\n",
    "    sum2 = np.sum(t2)\n",
    "    t3 = 1/sum2\n",
    "\n",
    "    mu_av = sum1*t3\n",
    "    return mu_av, t3"
   ]
  },
  {
   "cell_type": "code",
   "execution_count": 15,
   "metadata": {},
   "outputs": [
    {
     "name": "stdout",
     "output_type": "stream",
     "text": [
      "8.479344206124258e-21 +/- 7.479445727205596e-23\n"
     ]
    }
   ],
   "source": [
    "mu_av, var_mu_av = MuWeighAv_Varmu(mu, var_mu)\n",
    "\n",
    "sig_mu_av = np.sqrt(var_mu_av)\n",
    "print(f'{mu_av} +/- {sig_mu_av}')"
   ]
  },
  {
   "cell_type": "code",
   "execution_count": 22,
   "metadata": {},
   "outputs": [
    {
     "name": "stdout",
     "output_type": "stream",
     "text": [
      "True Value: \n",
      "9.2741e-21\n",
      "\n",
      "Percent error:\n",
      "8.569627175421246\n"
     ]
    }
   ],
   "source": [
    "print('True Value: ')\n",
    "print(9.2741E-21)\n",
    "tru = 9.2741E-21\n",
    "print('\\nPercent error:')\n",
    "percentage_error = (np.abs(9.2741E-21-mu_av)/9.2741E-21)*100\n",
    "print(percentage_error)"
   ]
  },
  {
   "cell_type": "markdown",
   "metadata": {},
   "source": [
    "$\\chi$"
   ]
  },
  {
   "cell_type": "code",
   "execution_count": 26,
   "metadata": {},
   "outputs": [
    {
     "data": {
      "text/plain": [
       "<matplotlib.collections.PathCollection at 0x1ec3d5b6b50>"
      ]
     },
     "execution_count": 26,
     "metadata": {},
     "output_type": "execute_result"
    },
    {
     "data": {
      "image/png": "[encoded data removed]",
      "text/plain": [
       "<Figure size 432x288 with 1 Axes>"
      ]
     },
     "metadata": {
      "needs_background": "light"
     },
     "output_type": "display_data"
    }
   ],
   "source": [
    "y_untransformed = stats.norm.pdf(mu, tru, sig_mu) \n",
    "plt.scatter(mu,y_untransformed,label =\"Nomalized Distribution\")\n"
   ]
  }
 ],
 "metadata": {
  "interpreter": {
   "hash": "15236136143f690ab629bc2239af74481c62e7c87c1783d150f8875ecab5fde5"
  },
  "kernelspec": {
   "display_name": "Python 3.9.0 ('.venv': poetry)",
   "language": "python",
   "name": "python3"
  },
  "language_info": {
   "codemirror_mode": {
    "name": "ipython",
    "version": 3
   },
   "file_extension": ".py",
   "mimetype": "text/x-python",
   "name": "python",
   "nbconvert_exporter": "python",
   "pygments_lexer": "ipython3",
   "version": "3.9.0"
  },
  "orig_nbformat": 4
 },
 "nbformat": 4,
 "nbformat_minor": 2
}
