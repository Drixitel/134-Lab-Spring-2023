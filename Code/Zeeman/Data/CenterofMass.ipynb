{
 "cells": [
  {
   "cell_type": "code",
   "execution_count": 1,
   "metadata": {},
   "outputs": [],
   "source": [
    "import numpy as np "
   ]
  },
  {
   "cell_type": "markdown",
   "metadata": {},
   "source": [
    "$$\n",
    "\\bar{x} = \\frac{\\sum (m_i\\cdot x_i)}{\\sum m_i} = \\frac{\\text{Moment of the system about origin}}{\\text{Total Mass}}\n",
    "$$\n",
    "\n",
    "$$\n",
    "\\bar{x} = \\frac{\\sum (m_i\\cdot x_i)}{\\sum m_i}\n",
    "$$\n",
    "$$\n",
    "\\bar{y} = \\frac{\\sum (m_i\\cdot y_i)}{\\sum m_i}\n",
    "$$\n",
    "\n",
    "$$\n",
    "\\bar{x} = \\frac{1}{A}\\int x f(x) dx\n",
    "$$\n",
    "$$\n",
    "\\bar{y} = \\frac{1}{A}\\int \\frac{1}{2}[x f(x)]^2 dx\n",
    "$$"
   ]
  },
  {
   "cell_type": "markdown",
   "metadata": {},
   "source": [
    "# Issue: \n",
    "  - we do not have a function to use unless again we assume it's gaussian \n",
    "  - (x,y) = (bin, intensity) \n",
    "    - What would be the mass of this? - if we consider descrite - which I don't think we do"
   ]
  },
  {
   "cell_type": "markdown",
   "metadata": {},
   "source": [
    "# Notes from today \n",
    "- Know each value of the transitions on a 1D line and thier center of mass should be the peak value of our seen peak "
   ]
  },
  {
   "cell_type": "markdown",
   "metadata": {},
   "source": []
  }
 ],
 "metadata": {
  "interpreter": {
   "hash": "a79c7f92f1293061bee23f12f7727862229709b16d86cf30a6afbbcf1f9b4c02"
  },
  "kernelspec": {
   "display_name": "Python 3.10.4 ('.venv': poetry)",
   "language": "python",
   "name": "python3"
  },
  "language_info": {
   "codemirror_mode": {
    "name": "ipython",
    "version": 3
   },
   "file_extension": ".py",
   "mimetype": "text/x-python",
   "name": "python",
   "nbconvert_exporter": "python",
   "pygments_lexer": "ipython3",
   "version": "3.10.4"
  },
  "orig_nbformat": 4
 },
 "nbformat": 4,
 "nbformat_minor": 2
}
