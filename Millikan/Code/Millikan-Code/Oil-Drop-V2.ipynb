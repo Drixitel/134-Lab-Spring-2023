{
 "cells": [
  {
   "cell_type": "code",
   "execution_count": 1,
   "metadata": {},
   "outputs": [],
   "source": [
    "import numpy as np\n",
    "import pandas as pd"
   ]
  },
  {
   "cell_type": "markdown",
   "metadata": {},
   "source": [
    "# Required Functions\n",
    "1. Need list or Database to take in Measured & Calculated values per droplet ionization\n",
    "> Droplet Database: \n",
    ">> Idetifier: Droplet(i) for $i \\in (1,2,3...)$ for a specific ionization<br>\n",
    "\n",
    ">> Set:<br>\n",
    ">> - V, b, g, p, $\\eta_0$, $\\rho$, d<br>\n",
    "\n",
    ">> Measured/Computed:<br>\n",
    ">> - $v_{y0i}$ = $\\frac{ x_{i0}}{ t_{i0}}$<br>\n",
    ">> - $a$<br>\n",
    ">> - $\\eta_{eff}$<br>\n",
    ">> - $v_{yEi}$= $\\frac{ x_{iE}}{ t_{iE}}$<br>\n",
    ">> - $q$<br>\n",
    "\n",
    "\n",
    "2. Need equation/function for radius (simplified for coding)\n",
    "> $$a = \\sqrt{\\left(\\frac{b}{2p}\\right)^2 + \\frac{9v_{y0}\\eta_0}{2 \\rho g}} -\\left(\\frac{b}{2p}\\right)$$\n",
    "> > $$a = \\sqrt{\\left(\\alpha\\right)^2 + \\beta} -\\left(\\alpha\\right)$$\n",
    "\n",
    "\n",
    "3. Need equation/function for charge (simplified for coding)\n",
    "> $$ q = \\frac{4}{3}\\pi \\rho g \\frac{d}{V}\\left(\n",
    "\\sqrt{\\left(\\frac{b}{2p}\\right)^2 + \\frac{9v_{y0}\\eta_0}{2 \\rho g}} -\\left(\\frac{b}{2p}\\right)\n",
    "\\right)^3 \\cdot \\frac{v_{yE}-v_{y0}}{v_{y0}}$$\n",
    "> > $$ q = \\frac{4}{3}\\pi \\rho g \\frac{d}{V}a^3 \\cdot \\frac{v_{yE}-v_{y0}}{v_{y0}}$$\n",
    "\n",
    "4. Need equations for Error propagation \n",
    "5. Need Graphs see images saved from speaking with the professor "
   ]
  },
  {
   "cell_type": "code",
   "execution_count": 2,
   "metadata": {},
   "outputs": [],
   "source": [
    "# Constants \n",
    "\n",
    "b   = 8.20E-3         # Viscostiy Correction Factor (given)\n",
    "g   = 9.80            # Gravity (given)\n",
    "p   = 1.013E5         # Atmospheric Pressure (at room temp? - given in docs)\n",
    "n_o = 1.824E-5        # Tabulated Viscosity/ Viscocity of air (given)\n",
    "rho1 = 8.86E2         # Density of oil droplet (given)\n",
    "rho2 = 0              # To be determined for accuracy   \n",
    "\n",
    "#Stored List \n",
    "Constants = [b, g, p, n_o,rho1 ,rho2]"
   ]
  },
  {
   "cell_type": "code",
   "execution_count": 3,
   "metadata": {},
   "outputs": [],
   "source": [
    "# Separation of plates (d) \n",
    "d   = 7.752E-3      # meters\n",
    "\n",
    "# Error in Separation (?)"
   ]
  },
  {
   "cell_type": "markdown",
   "metadata": {},
   "source": [
    "## Functions for $a$ \n",
    "\n",
    "> $$a = \\sqrt{\\left(\\frac{b}{2p}\\right)^2 + \\frac{9v_{y0}\\eta_0}{2 \\rho g}} -\\left(\\frac{b}{2p}\\right)$$\n",
    "> > $$a = \\sqrt{\\left(\\alpha\\right)^2 + \\beta} -\\left(\\alpha\\right)$$"
   ]
  },
  {
   "cell_type": "code",
   "execution_count": 4,
   "metadata": {},
   "outputs": [],
   "source": [
    "# Fuction for radius a \n",
    "# assuming b, p, n_o, g are all set \n",
    "# inputs (x,t) for E = 0 \n",
    "\n",
    "def radius(v_y0):     \n",
    "    # Function: Takes (positive) velocity returns radius\n",
    "    # Components of a \n",
    "    # terminal velocity with E = 0 \n",
    "    \n",
    "    # convert mm to m \n",
    "    v_y0 = v_y0*10**(-3)\n",
    "    \n",
    "    # alpha \n",
    "    alpha = b/(2*p)\n",
    "\n",
    "    #beta\n",
    "    beta = (9*v_y0*n_o)/(2*rho1*g)\n",
    "    \n",
    "    #radius a \n",
    "    a = np.sqrt((alpha**2)+beta) - alpha\n",
    "   \n",
    "    return a"
   ]
  },
  {
   "cell_type": "markdown",
   "metadata": {},
   "source": [
    "## Function for charge $q$\n",
    "\n",
    "- $q_1 = q_2=  q$ They are just expressed differently \n",
    "\n",
    "> $$ q = \\frac{4}{3}\\pi \\rho g \\frac{d}{V}\\left(\n",
    "\\sqrt{\\left(\\frac{b}{2p}\\right)^2 + \\frac{9v_{y0}\\eta_0}{2 \\rho g}} -\\left(\\frac{b}{2p}\\right)\n",
    "\\right)^3 \\cdot \\frac{v_{yE}-v_{y0}}{v_{y0}}$$\n",
    "> > $$ q_1 = \\frac{4}{3}\\pi \\rho g \\frac{d}{V}a^3 \\cdot \\frac{v_{yE}-v_{y0}}{v_{y0}}$$\n",
    "\n",
    ">>$$ q_2 = 18 \\pi d \\left( \\frac{\\eta_0^3}{2g\\rho}\\right)^{\\frac{1}{2}}\\cdot \n",
    "\\left( \\frac{1}{(1+\\frac{b}{pa})}\\right)^{\\frac{3}{2}} \\sqrt{v_{y0}}\\cdot\n",
    "\\frac{(v_{yE}-v_{y0})}{V}\n",
    "$$"
   ]
  },
  {
   "cell_type": "code",
   "execution_count": 5,
   "metadata": {},
   "outputs": [],
   "source": [
    "# q1 - opting to just use one equation\n",
    "\n",
    "def q1(a,v_y0,v_yE,V):\n",
    "     # Funtion: Takes radius,Velocity E=0 and Velocity E != 0 \n",
    "    #velocity: v_y0 E=0 \n",
    "    #velocity: v_yE E != 0\n",
    "\n",
    "    # convert mm to m \n",
    "    v_y0 = (v_y0)*10**(-3)\n",
    "    v_yE = -(v_yE)*10**(-3) \n",
    "\n",
    "\n",
    "    #left term (lt) \n",
    "    lt = (4/3)*np.pi*rho1*g*(d/V)*a**3\n",
    "\n",
    "    #right term (rt)\n",
    "    rt = (v_yE - v_y0)/ v_y0\n",
    "\n",
    "    q1 = lt*rt\n",
    "    \n",
    "    return q1"
   ]
  },
  {
   "cell_type": "markdown",
   "metadata": {},
   "source": [
    "## Function for Effective Viscosity $\\eta_{eff}(a)$ - if needed for paper\n",
    "\n",
    "$$\\eta_{eff}(a) = \\frac{\\eta_0}{1 + \\frac{b}{pa}}\n",
    "$$"
   ]
  },
  {
   "cell_type": "code",
   "execution_count": 6,
   "metadata": {},
   "outputs": [],
   "source": [
    "# effective viscosity \n",
    "\n",
    "def neff(a): \n",
    "    n_effa = n_o/(1 + (b/(p*a)))\n",
    "\n",
    "    return n_effa"
   ]
  },
  {
   "cell_type": "markdown",
   "metadata": {},
   "source": [
    "# Function to pull data and create a list - per droplet\n",
    "\n",
    "- Droplet_Values(Vf1,Vr1, Vf2,Vr2,Vf3,Vr3,vf av, vr av, Volts V)\n",
    "- RETURN: list of selected drop"
   ]
  },
  {
   "cell_type": "code",
   "execution_count": 7,
   "metadata": {},
   "outputs": [],
   "source": [
    "\n",
    "def Droplet_Values(n_drop, n_ionized, csv_name_as_string):\n",
    "    # Funtion: Choose Droplet, Choose ionization, Call \"file.csv\"\n",
    "    # Return a list of paramerters per droplet selected \n",
    "    # E.g.: droplet1_ionization2 = [velocities, Voltage]\n",
    "\n",
    "\n",
    "    # Call the CSV file\n",
    "    droplet = pd.read_csv(csv_name_as_string)\n",
    "\n",
    "    # Select the specified droplet by droplet # and Ionization (rows)\n",
    "    d1 = droplet[droplet['Droplet'].isin([n_drop]) & droplet['Ionized'].isin([n_ionized])]\n",
    "\n",
    "    # Select the specified parameters (Velocities and Volts) (columns)\n",
    "    d1 = d1[[\"Vf1\",\"Vr1\",\"Vf2\",\"Vr2\",\"Vf3\",\"Vr3\",\"vf av\",\"vr av\",\"Volts V\"]]\n",
    "\n",
    "    # Convert to array, already is a float\n",
    "    d1 = d1.to_numpy()\n",
    "\n",
    "    # Assign a list \n",
    "    d1_values = []\n",
    "\n",
    "    # use a for loop to unpack the 0th element into our desired list\n",
    "\n",
    "    for value in d1[0]:\n",
    "        d1_values.append(value)\n",
    "\n",
    "    return d1_values\n"
   ]
  },
  {
   "cell_type": "markdown",
   "metadata": {},
   "source": [
    "# Function to pull ALL droplets and place them in a list of lists \n",
    "> Important, Each Droplet and Ionizatoin requires an input no empty rows"
   ]
  },
  {
   "cell_type": "code",
   "execution_count": 8,
   "metadata": {},
   "outputs": [],
   "source": [
    "def CreateDropsDatabase(csv_file_name_as_string): # \"filename.csv\"\n",
    "    # Function: Takes \"file.csv\" Returns list of lists for our drops\n",
    "    # dependent on the function Droplet_Values()\n",
    "    # E.g.: Drops = [d1[velocities,Voltage],...dn[velocities,Voltage]]\n",
    "    # Full detial of function found in Oil-Drop.ipynb\n",
    "\n",
    "    drops = []\n",
    "   \n",
    "    droplet_number = 1 \n",
    "   \n",
    "    while droplet_number is not None: \n",
    "\n",
    "        ionization_number = 0\n",
    "\n",
    "       \n",
    "        while ionization_number is not None: \n",
    "         \n",
    "\n",
    "            try:\n",
    "                d = Droplet_Values(droplet_number, ionization_number, csv_file_name_as_string)\n",
    "        \n",
    "                drops.append(d)\n",
    "                ionization_number += 1\n",
    "\n",
    "            except IndexError:\n",
    "               \n",
    "                if ionization_number == 0: \n",
    "                   \n",
    "                    droplet_number = None\n",
    "                    break\n",
    "                else:\n",
    "                    \n",
    "                    ionization_number = None\n",
    "        \n",
    "        if droplet_number is not None:\n",
    "            droplet_number += 1\n",
    "    return drops "
   ]
  },
  {
   "cell_type": "code",
   "execution_count": 11,
   "metadata": {},
   "outputs": [
    {
     "name": "stdout",
     "output_type": "stream",
     "text": [
      "23\n",
      "[3.65e-05, 0.00025, 4.72e-05, 0.000263, 3.7e-05, 0.000132, 4.02e-05, 0.000215, 501.0]\n",
      "[0.000119, 4.31e-05, 0.000116, 4.39e-05, 0.000114, 0.0002, 0.000116, 9.57e-05, 501.0]\n",
      "[0.000125, 0.000179, 0.000114, 0.000208, 0.000125, 0.0002, 0.000121, 0.000196, 501.0]\n",
      "[8.77e-05, 0.000556, 0.000125, 0.000625, 0.000114, 0.000556, 0.000109, 0.000579, 501.0]\n",
      "[0.000111, 0.000714, 0.000119, 0.000833, 0.000122, 0.000833, 0.000117, 0.000794, 501.0]\n",
      "[3.76e-05, 0.000185, 3.23e-05, 0.000217, 4.24e-05, 0.000172, 3.74e-05, 0.000192, 501.0]\n",
      "[3.01e-05, 0.000417, 2.7e-05, 0.000333, 2.44e-05, 0.000357, 2.72e-05, 0.000369, 501.0]\n",
      "[2.79e-05, 0.000357, 3.31e-05, 0.000263, 2.92e-05, 0.000313, 3.01e-05, 0.000311, 501.0]\n",
      "[4.55e-05, 0.000417, 2.98e-05, 0.000179, 2.53e-05, 0.000185, 3.35e-05, 0.00026, 501.0]\n",
      "[4.55e-05, 0.000263, 3.62e-05, 0.00025, 2.33e-05, 0.00025, 3.5e-05, 0.000254, 501.0]\n",
      "[2.58e-05, 0.00025, 2.36e-05, 0.000227, 3.03e-05, 0.000313, 2.66e-05, 0.000263, 501.0]\n",
      "[5.56e-05, 0.000166, 5.58e-05, 0.000126, 5.57e-05, 0.000143, 5.57e-05, 0.000145, 501.0]\n",
      "[4.31e-05, 0.000313, 4.72e-05, 0.000313, 4.03e-05, 0.000294, 4.35e-05, 0.000306, 501.0]\n",
      "[4.65e-05, 0.000179, 5.32e-05, 0.000167, 4.85e-05, 0.000294, 4.94e-05, 0.000213, 501.0]\n",
      "[3.95e-05, 0.00128, 4.09e-05, 0.000459, 3.91e-05, 0.000273, 3.98e-05, 0.000671, 501.0]\n",
      "[3.36e-05, 9.58e-05, 3.57e-05, 0.000155, 3.68e-05, 0.000155, 3.54e-05, 0.000135, 501.0]\n",
      "[3.67e-05, 0.000177, 3.76e-05, 0.000162, 2.85e-05, 6.97e-05, 3.43e-05, 0.000136, 501.0]\n",
      "[6.93e-05, 6.89e-05, 6.61e-05, 7.18e-05, 5.81e-05, 6.49e-05, 6.45e-05, 6.85e-05, 501.0]\n",
      "[6.54e-05, 3.08e-05, 6.25e-05, 2.91e-05, 5.25e-05, 0.000146, 6.01e-05, 6.86e-05, 501.0]\n",
      "[6.68e-05, 3.47e-05, 5.78e-05, 3.31e-05, 5.86e-05, 2.8e-05, 6.11e-05, 3.2e-05, 501.0]\n",
      "[5.11e-05, 4.55e-05, 6.02e-05, 3.99e-05, 5e-05, 5.02e-05, 5.38e-05, 4.52e-05, 501.0]\n",
      "[2.6e-05, 0.000209, 2.48e-05, 0.000221, 2.57e-05, 0.00041, 2.55e-05, 0.00028, 501.0]\n",
      "[3.1e-05, 9.21e-05, 2.55e-05, 0.000769, 3.36e-05, 0.000769, 3e-05, 0.000544, 501.0]\n"
     ]
    }
   ],
   "source": [
    "all_drops = CreateDropsDatabase(\"Velocities.csv\")\n",
    "print(len(drops))\n",
    "for x in drops: \n",
    "    print(x)"
   ]
  },
  {
   "cell_type": "code",
   "execution_count": 15,
   "metadata": {},
   "outputs": [
    {
     "name": "stdout",
     "output_type": "stream",
     "text": [
      "15\n",
      "[3.65e-05, 0.00025, 4.72e-05, 0.000263, 3.7e-05, 0.000132, 4.02e-05, 0.000215, 501.0]\n",
      "[0.000119, 4.31e-05, 0.000116, 4.39e-05, 0.000114, 0.0002, 0.000116, 9.57e-05, 501.0]\n",
      "[3.76e-05, 0.000185, 3.23e-05, 0.000217, 4.24e-05, 0.000172, 3.74e-05, 0.000192, 501.0]\n",
      "[3.01e-05, 0.000417, 2.7e-05, 0.000333, 2.44e-05, 0.000357, 2.72e-05, 0.000369, 501.0]\n",
      "[2.79e-05, 0.000357, 3.31e-05, 0.000263, 2.92e-05, 0.000313, 3.01e-05, 0.000311, 501.0]\n",
      "[4.55e-05, 0.000417, 2.98e-05, 0.000179, 2.53e-05, 0.000185, 3.35e-05, 0.00026, 501.0]\n",
      "[4.55e-05, 0.000263, 3.62e-05, 0.00025, 2.33e-05, 0.00025, 3.5e-05, 0.000254, 501.0]\n",
      "[2.58e-05, 0.00025, 2.36e-05, 0.000227, 3.03e-05, 0.000313, 2.66e-05, 0.000263, 501.0]\n",
      "[5.56e-05, 0.000166, 5.58e-05, 0.000126, 5.57e-05, 0.000143, 5.57e-05, 0.000145, 501.0]\n",
      "[4.31e-05, 0.000313, 4.72e-05, 0.000313, 4.03e-05, 0.000294, 4.35e-05, 0.000306, 501.0]\n",
      "[4.65e-05, 0.000179, 5.32e-05, 0.000167, 4.85e-05, 0.000294, 4.94e-05, 0.000213, 501.0]\n",
      "[3.95e-05, 0.00128, 4.09e-05, 0.000459, 3.91e-05, 0.000273, 3.98e-05, 0.000671, 501.0]\n",
      "[6.93e-05, 6.89e-05, 6.61e-05, 7.18e-05, 5.81e-05, 6.49e-05, 6.45e-05, 6.85e-05, 501.0]\n",
      "[5.11e-05, 4.55e-05, 6.02e-05, 3.99e-05, 5e-05, 5.02e-05, 5.38e-05, 4.52e-05, 501.0]\n",
      "[2.6e-05, 0.000209, 2.48e-05, 0.000221, 2.57e-05, 0.00041, 2.55e-05, 0.00028, 501.0]\n"
     ]
    }
   ],
   "source": [
    "# just add as you go - requires looking at the csv file \n",
    "drops_no_ionization = [\n",
    "    all_drops[0],all_drops[1],all_drops[5],all_drops[6],all_drops[7],all_drops[8],\n",
    "    all_drops[9],all_drops[10],all_drops[11],all_drops[12],all_drops[13],\n",
    "    all_drops[14],all_drops[17],all_drops[20],all_drops[21]\n",
    "    ]\n",
    "\n",
    "print(len(drops_no_ionization))\n",
    "for x in drops_no_ionization: \n",
    "    print(x)"
   ]
  },
  {
   "cell_type": "code",
   "execution_count": null,
   "metadata": {},
   "outputs": [],
   "source": [
    "def Radii_Charge(drops): \n",
    "    # droplet = to loop through\n",
    "    # drops a list of lists previously created\n",
    "\n",
    "    # function takes list to loop through\n",
    "    # returns two lists one for radius and one for charge \n",
    "    list_of_radius_values = []\n",
    "    list_of_charge_values =[]\n",
    "\n",
    "\n",
    "    for droplet in drops: \n",
    "        n = 0\n",
    "        # print('new droplet')\n",
    "        for i in range(3): \n",
    "            if n > 4: \n",
    "                break\n",
    "            else: \n",
    "                if droplet[n] ==0 or droplet[n+1] ==0: \n",
    "                    list_of_radius_values.append(0)\n",
    "                    list_of_charge_values.append(0)\n",
    "                    # print(\"no value vf.vr\")\n",
    "                    continue\n",
    "                else:\n",
    "                    # print(n)\n",
    "                    # print('new drop vf.vr')\n",
    "                    # print(droplet[n])\n",
    "                    # print(droplet[n+1])\n",
    "\n",
    "                    ri = radius(droplet[n])\n",
    "                    list_of_radius_values.append(ri)\n",
    "\n",
    "                    #calculate charge \n",
    "                    qi = q1(ri,droplet[n],droplet[n+1],droplet[6])\n",
    "                    list_of_charge_values.append(qi)\n",
    "                    n += 2\n",
    "    return list_of_radius_values, list_of_charge_values"
   ]
  }
 ],
 "metadata": {
  "interpreter": {
   "hash": "7d3258cfacded4785c99b420370e2115023612e47f2b7fc1bb6ca140f7e09403"
  },
  "kernelspec": {
   "display_name": "Python 3.9.0 ('.venv': poetry)",
   "language": "python",
   "name": "python3"
  },
  "language_info": {
   "codemirror_mode": {
    "name": "ipython",
    "version": 3
   },
   "file_extension": ".py",
   "mimetype": "text/x-python",
   "name": "python",
   "nbconvert_exporter": "python",
   "pygments_lexer": "ipython3",
   "version": "3.9.0"
  },
  "orig_nbformat": 4
 },
 "nbformat": 4,
 "nbformat_minor": 2
}
