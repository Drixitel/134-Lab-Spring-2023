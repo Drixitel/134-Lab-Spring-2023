{
 "cells": [
  {
   "cell_type": "code",
   "execution_count": 1,
   "metadata": {},
   "outputs": [],
   "source": [
    "import numpy as np\n",
    "import pandas as pd\n",
    "import matplotlib.pyplot as plt"
   ]
  },
  {
   "cell_type": "markdown",
   "metadata": {},
   "source": [
    "# Required Functions\n",
    "1. Need list or Database to take in Measured & Calculated values per droplet ionization\n",
    "> Droplet Database: \n",
    ">> Idetifier: Droplet(i) for $i \\in (1,2,3...)$ for a specific ionization<br>\n",
    "\n",
    ">> Set:<br>\n",
    ">> - V, b, g, p, $\\eta_0$, $\\rho$, d<br>\n",
    "\n",
    ">> Measured/Computed:<br>\n",
    ">> - $v_{y0i}$ = $\\frac{ x_{i0}}{ t_{i0}}$<br>\n",
    ">> - $a$<br>\n",
    ">> - $\\eta_{eff}$<br>\n",
    ">> - $v_{yEi}$= $\\frac{ x_{iE}}{ t_{iE}}$<br>\n",
    ">> - $q$<br>\n",
    "\n",
    "\n",
    "2. Need equation/function for radius (simplified for coding)\n",
    "> $$a = \\sqrt{\\left(\\frac{b}{2p}\\right)^2 + \\frac{9v_{y0}\\eta_0}{2 \\rho g}} -\\left(\\frac{b}{2p}\\right)$$\n",
    "> > $$a = \\sqrt{\\left(\\alpha\\right)^2 + \\beta} -\\left(\\alpha\\right)$$\n",
    "\n",
    "\n",
    "3. Need equation/function for charge (simplified for coding)\n",
    "> $$ q = \\frac{4}{3}\\pi \\rho g \\frac{d}{V}\\left(\n",
    "\\sqrt{\\left(\\frac{b}{2p}\\right)^2 + \\frac{9v_{y0}\\eta_0}{2 \\rho g}} -\\left(\\frac{b}{2p}\\right)\n",
    "\\right)^3 \\cdot \\frac{v_{yE}-v_{y0}}{v_{y0}}$$\n",
    "> > $$ q = \\frac{4}{3}\\pi \\rho g \\frac{d}{V}a^3 \\cdot \\frac{v_{yE}-v_{y0}}{v_{y0}}$$\n",
    "\n",
    "4. Need equations for Error propagation \n",
    "5. Need Graphs see images saved from speaking with the professor "
   ]
  },
  {
   "cell_type": "code",
   "execution_count": 2,
   "metadata": {},
   "outputs": [],
   "source": [
    "# Constants \n",
    "\n",
    "b   = 8.20E-3         # Viscostiy Correction Factor (given)\n",
    "g   = 9.80            # Gravity (given)\n",
    "p   = 1.013E5         # Atmospheric Pressure (at room temp? - given in docs)\n",
    "n_o = 1.824E-5        # Tabulated Viscosity/ Viscocity of air (given)\n",
    "rho1 = 8.86E2         # Density of oil droplet (given)\n",
    "rho2 = 0              # To be determined for accuracy   \n",
    "\n",
    "#Stored List \n",
    "Constants = [b, g, p, n_o,rho1 ,rho2]"
   ]
  },
  {
   "cell_type": "code",
   "execution_count": 3,
   "metadata": {},
   "outputs": [
    {
     "name": "stdout",
     "output_type": "stream",
     "text": [
      "GIVEN CONSTANTS:\n",
      "Viscostiy Correction Factor:\t\t\t b \t= 8.20e-03 N/m\n",
      "Gravity:\t\t\t\t\t g \t= 9.80e+00 m/s^2\n",
      "Atmospheric Pressure:\t\t\t\t p \t= 1.013e+05 N/m^2\n",
      "Viscocity of air(ucorrected for radius):\t n_o \t= 1.824e-05 N-s/m^2\n",
      "Densidty of Oil Droplet:\t\t\t rho \t= 8.86e+02 kg/m^3\n"
     ]
    }
   ],
   "source": [
    "print(\"Given Constants:\".upper())\n",
    "print(f\"Viscostiy Correction Factor:\\t\\t\\t b \\t= {b:.2e} N/m\")\n",
    "print(f\"Gravity:\\t\\t\\t\\t\\t g \\t= {g:.2e} m/s^2\")\n",
    "print(f\"Atmospheric Pressure:\\t\\t\\t\\t p \\t= {p:.3e} N/m^2\")\n",
    "print(f\"Viscocity of air(ucorrected for radius):\\t n_o \\t= {n_o:.3e} N-s/m^2\")\n",
    "print(f\"Densidty of Oil Droplet:\\t\\t\\t rho \\t= {rho1:.2e} kg/m^3\")"
   ]
  },
  {
   "cell_type": "code",
   "execution_count": 4,
   "metadata": {},
   "outputs": [],
   "source": [
    "# Separation of plates (d) \n",
    "d   = 7.752E-3      # meters\n",
    "\n",
    "# Error in Separation (?)"
   ]
  },
  {
   "cell_type": "markdown",
   "metadata": {},
   "source": [
    "## Functions for radius $a$ \n",
    "\n",
    "> $$a = \\sqrt{\\left(\\frac{b}{2p}\\right)^2 + \\frac{9v_{y0}\\eta_0}{2 \\rho g}} -\\left(\\frac{b}{2p}\\right)$$\n",
    "> > $$a = \\sqrt{\\left(\\alpha\\right)^2 + \\beta} -\\left(\\alpha\\right)$$"
   ]
  },
  {
   "cell_type": "code",
   "execution_count": 5,
   "metadata": {},
   "outputs": [],
   "source": [
    "# Fuction for radius a \n",
    "# assuming b, p, n_o, g are all set \n",
    "# inputs (x,t) for E = 0 \n",
    "\n",
    "def radius(v_y0):     \n",
    "    # Function: Takes (positive) velocity returns radius\n",
    "    # Components of a \n",
    "    # terminal velocity with E = 0 \n",
    "    \n",
    "    # convert mm to m \n",
    "    v_y0 = v_y0\n",
    "    \n",
    "    # alpha \n",
    "    alpha = b/(2*p)\n",
    "\n",
    "    #beta\n",
    "    beta = (9*v_y0*n_o)/(2*rho1*g)\n",
    "    \n",
    "    #radius a \n",
    "    a = np.sqrt((alpha**2)+beta) - alpha\n",
    "   \n",
    "    return a"
   ]
  },
  {
   "cell_type": "markdown",
   "metadata": {},
   "source": [
    "## Function for charge $q$\n",
    "\n",
    "- $q_1 = q_2=  q$ They are just expressed differently \n",
    "\n",
    "> $$ q = \\frac{4}{3}\\pi \\rho g \\frac{d}{V}\\left(\n",
    "\\sqrt{\\left(\\frac{b}{2p}\\right)^2 + \\frac{9v_{y0}\\eta_0}{2 \\rho g}} -\\left(\\frac{b}{2p}\\right)\n",
    "\\right)^3 \\cdot \\frac{v_{yE}-v_{y0}}{v_{y0}}$$\n",
    "> > $$ q_1 = \\frac{4}{3}\\pi \\rho g \\frac{d}{V}a^3 \\cdot \\frac{v_{yE}-v_{y0}}{v_{y0}}$$\n",
    "\n",
    ">>$$ q_2 = 18 \\pi d \\left( \\frac{\\eta_0^3}{2g\\rho}\\right)^{\\frac{1}{2}}\\cdot \n",
    "\\left( \\frac{1}{(1+\\frac{b}{pa})}\\right)^{\\frac{3}{2}} \\sqrt{v_{y0}}\\cdot\n",
    "\\frac{(v_{yE}-v_{y0})}{V}\n",
    "$$"
   ]
  },
  {
   "cell_type": "code",
   "execution_count": 6,
   "metadata": {},
   "outputs": [],
   "source": [
    "# q1 - opting to just use one equation\n",
    "\n",
    "def q1(a,v_y0,v_yE,V):\n",
    "     # Funtion: Takes radius,Velocity E=0 and Velocity E != 0 \n",
    "    #velocity: v_y0 E=0 \n",
    "    #velocity: v_yE E != 0\n",
    "\n",
    "    # convert mm to m \n",
    "    v_y0 = (v_y0)\n",
    "    v_yE = -(v_yE) \n",
    "\n",
    "\n",
    "    #left term (lt) \n",
    "    lt = (4/3)*np.pi*rho1*g*(d/V)*(a**3)\n",
    "\n",
    "    #right term (rt)\n",
    "    rt = (v_yE - v_y0)/ v_y0\n",
    "\n",
    "    q1 = lt*rt\n",
    "    \n",
    "    return q1"
   ]
  },
  {
   "cell_type": "markdown",
   "metadata": {},
   "source": [
    "## Function for Effective Viscosity $\\eta_{eff}(a)$ - if needed for paper\n",
    "\n",
    "$$\\eta_{eff}(a) = \\frac{\\eta_0}{1 + \\frac{b}{pa}}\n",
    "$$"
   ]
  },
  {
   "cell_type": "code",
   "execution_count": 7,
   "metadata": {},
   "outputs": [],
   "source": [
    "# effective viscosity \n",
    "\n",
    "def neff(a): \n",
    "    n_effa = n_o/(1 + (b/(p*a)))\n",
    "\n",
    "    return n_effa"
   ]
  },
  {
   "cell_type": "markdown",
   "metadata": {},
   "source": [
    "# Function to pull data and create a list - per droplet\n",
    "\n",
    "> Droplet_Values(Vf1,Vr1, Vf2,Vr2,Vf3,Vr3,vf av, vr av, Volts V)\n",
    ">> RETURN: list of selected drop"
   ]
  },
  {
   "cell_type": "code",
   "execution_count": 8,
   "metadata": {},
   "outputs": [],
   "source": [
    "\n",
    "def Droplet_Values(n_drop, n_ionized, csv_name_as_string):\n",
    "    # Funtion: Choose Droplet, Choose ionization, Call \"file.csv\"\n",
    "    # Return a list of paramerters per droplet selected \n",
    "    # E.g.: droplet1_ionization2 = [velocities, Voltage]\n",
    "\n",
    "\n",
    "    # Call the CSV file\n",
    "    droplet = pd.read_csv(csv_name_as_string)\n",
    "\n",
    "    # Select the specified droplet by droplet # and Ionization (rows)\n",
    "    d1 = droplet[droplet['Droplet'].isin([n_drop]) & droplet['Ionized'].isin([n_ionized])]\n",
    "\n",
    "    # Select the specified parameters (Velocities and Volts) (columns)\n",
    "    d1 = d1[[\"Vf1\",\"Vr1\",\"Vf2\",\"Vr2\",\"Vf3\",\"Vr3\",\"vf av\",\"vr av\",\"Volts V\",\"vf stdev\", \"vr stdev\"]]\n",
    "\n",
    "    # Convert to array, already is a float\n",
    "    d1 = d1.to_numpy()\n",
    "\n",
    "    # Assign a list \n",
    "    d1_values = []\n",
    "\n",
    "    # use a for loop to unpack the 0th element into our desired list\n",
    "\n",
    "    for value in d1[0]:\n",
    "        d1_values.append(value)\n",
    "\n",
    "    return d1_values\n"
   ]
  },
  {
   "cell_type": "markdown",
   "metadata": {},
   "source": [
    "# Function to pull ALL droplets and place them in a list of lists \n",
    "> Important, Each Droplet and Ionizatoin requires an input no empty rows"
   ]
  },
  {
   "cell_type": "code",
   "execution_count": 9,
   "metadata": {},
   "outputs": [],
   "source": [
    "def CreateDropsDatabase(csv_file_name_as_string): # \"filename.csv\"\n",
    "    # Function: Takes \"file.csv\" Returns list of lists for our drops\n",
    "    # dependent on the function Droplet_Values()\n",
    "    # E.g.: Drops = [d1[velocities,Voltage],...dn[velocities,Voltage]]\n",
    "    # Full detial of function found in Oil-Drop.ipynb\n",
    "\n",
    "    drops = []\n",
    "   \n",
    "    droplet_number = 1 \n",
    "   \n",
    "    while droplet_number is not None: \n",
    "\n",
    "        ionization_number = 0\n",
    "\n",
    "       \n",
    "        while ionization_number is not None: \n",
    "         \n",
    "\n",
    "            try:\n",
    "                d = Droplet_Values(droplet_number, ionization_number, csv_file_name_as_string)\n",
    "        \n",
    "                drops.append(d)\n",
    "                ionization_number += 1\n",
    "\n",
    "            except IndexError:\n",
    "               \n",
    "                if ionization_number == 0: \n",
    "                   \n",
    "                    droplet_number = None\n",
    "                    break\n",
    "                else:\n",
    "                    \n",
    "                    ionization_number = None\n",
    "        \n",
    "        if droplet_number is not None:\n",
    "            droplet_number += 1\n",
    "    return drops "
   ]
  },
  {
   "cell_type": "markdown",
   "metadata": {},
   "source": [
    "# Use Functions and Pull Drops\n",
    ">Droplet_Values(Vf1,Vr1, Vf2,Vr2,Vf3,Vr3,vf av, vr av, Volts V)"
   ]
  },
  {
   "cell_type": "code",
   "execution_count": 10,
   "metadata": {},
   "outputs": [
    {
     "name": "stdout",
     "output_type": "stream",
     "text": [
      "\n",
      "We have 40 drops to examine.\n",
      "Some have multiple ionizations, we will only examine 1 per set of ionizations.\n",
      "Each drop has 11 parameters.\n",
      "\n",
      "[3.65e-05, 0.00025, 4.72e-05, 0.000263, 3.7e-05, 0.000132, 4.02e-05, 0.000215, 501.0, 6.01e-06, 7.25e-05]\n",
      "[0.000119, 4.31e-05, 0.000116, 4.39e-05, 0.000114, 0.0002, 0.000116, 9.57e-05, 501.0, 2.71e-06, 9.04e-05]\n",
      "[0.000125, 0.000179, 0.000114, 0.000208, 0.000125, 0.0002, 0.000121, 0.000196, 501.0, 6.56e-06, 1.54e-05]\n",
      "[8.77e-05, 0.000556, 0.000125, 0.000625, 0.000114, 0.000556, 0.000109, 0.000579, 501.0, 1.91e-05, 4.01e-05]\n",
      "[0.000111, 0.000714, 0.000119, 0.000833, 0.000122, 0.000833, 0.000117, 0.000794, 501.0, 5.61e-06, 6.87e-05]\n",
      "[3.76e-05, 0.000185, 3.23e-05, 0.000217, 4.24e-05, 0.000172, 3.74e-05, 0.000192, 501.0, 5.06e-06, 2.32e-05]\n",
      "[3.01e-05, 0.000417, 2.7e-05, 0.000333, 2.44e-05, 0.000357, 2.72e-05, 0.000369, 501.0, 2.87e-06, 4.29e-05]\n",
      "[2.79e-05, 0.000357, 3.31e-05, 0.000263, 2.92e-05, 0.000313, 3.01e-05, 0.000311, 501.0, 2.69e-06, 4.7e-05]\n",
      "[4.55e-05, 0.000417, 2.98e-05, 0.000179, 2.53e-05, 0.000185, 3.35e-05, 0.00026, 501.0, 1.06e-05, 0.000136]\n",
      "[4.55e-05, 0.000263, 3.62e-05, 0.00025, 2.33e-05, 0.00025, 3.5e-05, 0.000254, 501.0, 1.12e-05, 7.6e-06]\n",
      "[2.58e-05, 0.00025, 2.36e-05, 0.000227, 3.03e-05, 0.000313, 2.66e-05, 0.000263, 501.0, 3.43e-06, 4.41e-05]\n",
      "[5.56e-05, 0.000166, 5.58e-05, 0.000126, 5.57e-05, 0.000143, 5.57e-05, 0.000145, 501.0, 9.48e-08, 2e-05]\n",
      "[4.31e-05, 0.000313, 4.72e-05, 0.000313, 4.03e-05, 0.000294, 4.35e-05, 0.000306, 501.0, 3.44e-06, 1.06e-05]\n",
      "[4.65e-05, 0.000179, 5.32e-05, 0.000167, 4.85e-05, 0.000294, 4.94e-05, 0.000213, 501.0, 3.42e-06, 7.04e-05]\n",
      "[3.95e-05, 0.00128, 4.09e-05, 0.000459, 3.91e-05, 0.000273, 3.98e-05, 0.000671, 501.0, 9.65e-07, 0.000537]\n",
      "[3.36e-05, 9.58e-05, 3.57e-05, 0.000155, 3.68e-05, 0.000155, 3.54e-05, 0.000135, 501.0, 1.59e-06, 3.43e-05]\n",
      "[3.67e-05, 0.000177, 3.76e-05, 0.000162, 2.85e-05, 6.97e-05, 3.43e-05, 0.000136, 501.0, 5e-06, 5.79e-05]\n",
      "[6.93e-05, 6.89e-05, 6.61e-05, 7.18e-05, 5.81e-05, 6.49e-05, 6.45e-05, 6.85e-05, 501.0, 5.76e-06, 3.46e-06]\n",
      "[6.54e-05, 3.08e-05, 6.25e-05, 2.91e-05, 5.25e-05, 0.000146, 6.01e-05, 6.86e-05, 501.0, 6.74e-06, 6.69e-05]\n",
      "[6.68e-05, 3.47e-05, 5.78e-05, 3.31e-05, 5.86e-05, 2.8e-05, 6.11e-05, 3.2e-05, 501.0, 5.01e-06, 3.5e-06]\n",
      "[5.11e-05, 4.55e-05, 6.02e-05, 3.99e-05, 5e-05, 5.02e-05, 5.38e-05, 4.52e-05, 501.0, 5.62e-06, 5.14e-06]\n",
      "[2.6e-05, 0.000209, 2.48e-05, 0.000221, 2.57e-05, 0.00041, 2.55e-05, 0.00028, 501.0, 6.21e-07, 0.000113]\n",
      "[3.1e-05, 0.000101, 2.55e-05, 0.000769, 3.36e-05, 0.000769, 3e-05, 0.000547, 501.0, 4.15e-06, 0.000386]\n",
      "[4.7e-05, 9.19e-05, 4.65e-05, 0.000227, 4.55e-05, 0.000208, 4.63e-05, 0.000176, 501.0, 7.82e-07, 7.33e-05]\n",
      "[4.55e-05, 0.000313, 3.99e-05, 0.000326, 4.17e-05, 0.000313, 4.24e-05, 0.000317, 501.0, 2.82e-06, 7.84e-06]\n",
      "[2.98e-05, 7.1e-05, 3.85e-05, 8.06e-05, 3.18e-05, 0.000103, 3.33e-05, 8.5e-05, 501.0, 4.55e-06, 1.66e-05]\n",
      "[5.75e-05, 0.000313, 5.81e-05, 0.000312, 5.81e-05, 0.000263, 5.79e-05, 0.000296, 501.0, 3.86e-07, 2.85e-05]\n",
      "[0.000185, 0.000185, 0.000172, 0.000172, 0.000179, 0.000172, 0.000179, 0.000177, 501.0, 6.39e-06, 7.37e-06]\n",
      "[0.000179, 0.000357, 0.000192, 0.000312, 0.000179, 0.000313, 0.000183, 0.000327, 501.0, 7.93e-06, 2.58e-05]\n",
      "[0.000167, 0.000333, 0.000172, 0.000313, 0.000172, 0.000312, 0.00017, 0.000319, 501.0, 3.32e-06, 1.2e-05]\n",
      "[0.000172, 0.000156, 0.000179, 0.000156, 0.000167, 0.000143, 0.000173, 0.000152, 501.0, 5.95e-06, 7.73e-06]\n",
      "[0.000172, 3.97e-05, 0.000172, 4.07e-05, 0.000172, 4.85e-05, 0.000172, 4.3e-05, 501.0, 3.9e-18, 4.86e-06]\n",
      "[4.76e-05, 6.49e-05, 5.1e-05, 5.75e-05, 5.1e-05, 6.58e-05, 4.99e-05, 6.27e-05, 501.0, 1.96e-06, 4.58e-06]\n",
      "[3.38e-05, 0.000312, 2.86e-05, 0.0005, 3.29e-05, 0.000625, 3.17e-05, 0.000479, 501.0, 2.79e-06, 0.000157]\n",
      "[3.79e-05, 0.000208, 3.85e-05, 0.00025, 3.82e-05, 0.000227, 3.82e-05, 0.000229, 501.0, 2.91e-07, 2.09e-05]\n",
      "[6.58e-05, 0.000313, 6.94e-05, 0.000357, 6.41e-05, 0.0005, 6.64e-05, 0.00039, 501.0, 2.73e-06, 9.79e-05]\n",
      "[7.46e-05, 0.000556, 7.94e-05, 0.000455, 7.58e-05, 0.0005, 7.66e-05, 0.000503, 501.0, 2.47e-06, 5.06e-05]\n",
      "[7.58e-05, 0.000278, 7.81e-05, 0.000278, 7.35e-05, 0.000294, 7.58e-05, 0.000283, 501.0, 2.3e-06, 9.43e-06]\n",
      "[6.76e-05, 0.00025, 6.58e-05, 0.000238, 6.85e-05, 0.000278, 6.73e-05, 0.000255, 501.0, 1.37e-06, 2.04e-05]\n",
      "[6.41e-05, 0.000238, 7.14e-05, 0.000227, 6.41e-05, 0.000238, 6.65e-05, 0.000234, 501.0, 4.23e-06, 6.25e-06]\n"
     ]
    }
   ],
   "source": [
    "all_drops = CreateDropsDatabase(\"Velocities.csv\")\n",
    "print(f\"\\nWe have {len(all_drops)} drops to examine.\")\n",
    "print(f\"Some have multiple ionizations, we will only examine 1 per set of ionizations.\")\n",
    "print(f\"Each drop has {len(all_drops[0])} parameters.\\n\")\n",
    "\n",
    "for x in all_drops: \n",
    "    print(x)"
   ]
  },
  {
   "cell_type": "markdown",
   "metadata": {},
   "source": [
    "# Create a list of drops with 0 ionizations \n",
    "> manual inputs"
   ]
  },
  {
   "cell_type": "code",
   "execution_count": 11,
   "metadata": {},
   "outputs": [
    {
     "name": "stdout",
     "output_type": "stream",
     "text": [
      "Test call to droplet index 6:\n",
      "[3.01e-05, 0.000417, 2.7e-05, 0.000333, 2.44e-05, 0.000357, 2.72e-05, 0.000369, 501.0, 2.87e-06, 4.29e-05]\n"
     ]
    }
   ],
   "source": [
    "# Test Call a droplet from list \n",
    "# print(all_drops[0])\n",
    "print('Test call to droplet index 6:')\n",
    "print(all_drops[6])"
   ]
  },
  {
   "cell_type": "code",
   "execution_count": 12,
   "metadata": {},
   "outputs": [
    {
     "name": "stdout",
     "output_type": "stream",
     "text": [
      "\n",
      "From our list of  40 we will only examine 22.\n",
      "Each drop has 11 parameters.\n",
      "\n",
      "[3.65e-05, 0.00025, 4.72e-05, 0.000263, 3.7e-05, 0.000132, 4.02e-05, 0.000215, 501.0, 6.01e-06, 7.25e-05]\n",
      "[0.000119, 4.31e-05, 0.000116, 4.39e-05, 0.000114, 0.0002, 0.000116, 9.57e-05, 501.0, 2.71e-06, 9.04e-05]\n",
      "[3.76e-05, 0.000185, 3.23e-05, 0.000217, 4.24e-05, 0.000172, 3.74e-05, 0.000192, 501.0, 5.06e-06, 2.32e-05]\n",
      "[3.01e-05, 0.000417, 2.7e-05, 0.000333, 2.44e-05, 0.000357, 2.72e-05, 0.000369, 501.0, 2.87e-06, 4.29e-05]\n",
      "[2.79e-05, 0.000357, 3.31e-05, 0.000263, 2.92e-05, 0.000313, 3.01e-05, 0.000311, 501.0, 2.69e-06, 4.7e-05]\n",
      "[4.55e-05, 0.000417, 2.98e-05, 0.000179, 2.53e-05, 0.000185, 3.35e-05, 0.00026, 501.0, 1.06e-05, 0.000136]\n",
      "[4.55e-05, 0.000263, 3.62e-05, 0.00025, 2.33e-05, 0.00025, 3.5e-05, 0.000254, 501.0, 1.12e-05, 7.6e-06]\n",
      "[2.58e-05, 0.00025, 2.36e-05, 0.000227, 3.03e-05, 0.000313, 2.66e-05, 0.000263, 501.0, 3.43e-06, 4.41e-05]\n",
      "[5.56e-05, 0.000166, 5.58e-05, 0.000126, 5.57e-05, 0.000143, 5.57e-05, 0.000145, 501.0, 9.48e-08, 2e-05]\n",
      "[4.31e-05, 0.000313, 4.72e-05, 0.000313, 4.03e-05, 0.000294, 4.35e-05, 0.000306, 501.0, 3.44e-06, 1.06e-05]\n",
      "[4.65e-05, 0.000179, 5.32e-05, 0.000167, 4.85e-05, 0.000294, 4.94e-05, 0.000213, 501.0, 3.42e-06, 7.04e-05]\n",
      "[3.95e-05, 0.00128, 4.09e-05, 0.000459, 3.91e-05, 0.000273, 3.98e-05, 0.000671, 501.0, 9.65e-07, 0.000537]\n",
      "[6.93e-05, 6.89e-05, 6.61e-05, 7.18e-05, 5.81e-05, 6.49e-05, 6.45e-05, 6.85e-05, 501.0, 5.76e-06, 3.46e-06]\n",
      "[5.11e-05, 4.55e-05, 6.02e-05, 3.99e-05, 5e-05, 5.02e-05, 5.38e-05, 4.52e-05, 501.0, 5.62e-06, 5.14e-06]\n",
      "[2.6e-05, 0.000209, 2.48e-05, 0.000221, 2.57e-05, 0.00041, 2.55e-05, 0.00028, 501.0, 6.21e-07, 0.000113]\n",
      "[4.7e-05, 9.19e-05, 4.65e-05, 0.000227, 4.55e-05, 0.000208, 4.63e-05, 0.000176, 501.0, 7.82e-07, 7.33e-05]\n",
      "[5.75e-05, 0.000313, 5.81e-05, 0.000312, 5.81e-05, 0.000263, 5.79e-05, 0.000296, 501.0, 3.86e-07, 2.85e-05]\n",
      "[0.000185, 0.000185, 0.000172, 0.000172, 0.000179, 0.000172, 0.000179, 0.000177, 501.0, 6.39e-06, 7.37e-06]\n",
      "[4.76e-05, 6.49e-05, 5.1e-05, 5.75e-05, 5.1e-05, 6.58e-05, 4.99e-05, 6.27e-05, 501.0, 1.96e-06, 4.58e-06]\n",
      "[3.38e-05, 0.000312, 2.86e-05, 0.0005, 3.29e-05, 0.000625, 3.17e-05, 0.000479, 501.0, 2.79e-06, 0.000157]\n",
      "[3.79e-05, 0.000208, 3.85e-05, 0.00025, 3.82e-05, 0.000227, 3.82e-05, 0.000229, 501.0, 2.91e-07, 2.09e-05]\n",
      "[6.58e-05, 0.000313, 6.94e-05, 0.000357, 6.41e-05, 0.0005, 6.64e-05, 0.00039, 501.0, 2.73e-06, 9.79e-05]\n"
     ]
    }
   ],
   "source": [
    "# just add as you go - requires looking at the csv file \n",
    "drops_no_ionization = [\n",
    "    all_drops[0],all_drops[1],all_drops[5],\n",
    "    all_drops[6],all_drops[7],all_drops[8],\n",
    "    all_drops[9],all_drops[10],all_drops[11],\n",
    "    all_drops[12],all_drops[13],all_drops[14],\n",
    "    all_drops[17],all_drops[20],all_drops[21],\n",
    "    all_drops[23],all_drops[26],all_drops[27],\n",
    "    all_drops[32],all_drops[33],all_drops[34],\n",
    "    all_drops[35]\n",
    "    ]\n",
    "print(f\"\\nFrom our list of  {len(all_drops)} we will only examine {len(drops_no_ionization)}.\")\n",
    "print(f\"Each drop has {len(drops_no_ionization[0])} parameters.\\n\")\n",
    "\n",
    "for x in drops_no_ionization: \n",
    "    print(x)"
   ]
  },
  {
   "cell_type": "code",
   "execution_count": 13,
   "metadata": {},
   "outputs": [
    {
     "name": "stdout",
     "output_type": "stream",
     "text": [
      "Test call to droplet index 7:\n",
      "[2.58e-05, 0.00025, 2.36e-05, 0.000227, 3.03e-05, 0.000313, 2.66e-05, 0.000263, 501.0, 3.43e-06, 4.41e-05]\n"
     ]
    }
   ],
   "source": [
    "# Test call droplet in list \n",
    "print('Test call to droplet index 7:')\n",
    "print(drops_no_ionization[7])"
   ]
  },
  {
   "cell_type": "markdown",
   "metadata": {},
   "source": [
    "# Function to extract parameters per drop and create list<br>\n",
    "# (Velocities are NOT Averaged)"
   ]
  },
  {
   "cell_type": "code",
   "execution_count": 14,
   "metadata": {},
   "outputs": [],
   "source": [
    "def Radii_Charge_NotAveragedVel(drops_list_of_lists): \n",
    "    # droplet = to loop through\n",
    "    # drops a list of lists previously created\n",
    "\n",
    "    # function takes list to loop through\n",
    "    # returns two lists one for radius and one for charge \n",
    "    list_of_radius_values = []\n",
    "    list_of_charge_values =[]\n",
    "\n",
    "\n",
    "    for droplet in drops_list_of_lists: \n",
    "        # n = index value of 1droplets parameters\n",
    "        # n = 0  \n",
    "        # print(droplet)\n",
    "        for i in range(3): \n",
    "            idx = i * 2\n",
    "\n",
    "            # if n > 4: \n",
    "            #     break\n",
    "            # else: \n",
    "            if droplet[idx] ==0 or droplet[idx+1] ==0: \n",
    "                list_of_radius_values.append(0)\n",
    "                list_of_charge_values.append(0)\n",
    "                print(\"no value vf.vr\")\n",
    "                continue\n",
    "            else:\n",
    "                # print(n)\n",
    "                # print('new drop vf.vr')\n",
    "                # print(droplet[n])\n",
    "                # print(droplet[n+1])\n",
    "\n",
    "                ri = radius(droplet[idx])\n",
    "                list_of_radius_values.append(ri)\n",
    "\n",
    "                #calculate charge \n",
    "                qi = q1(ri,droplet[idx],droplet[idx+1],droplet[8])\n",
    "                list_of_charge_values.append(qi)\n",
    "                # n += 2\n",
    "    return list_of_radius_values, list_of_charge_values"
   ]
  },
  {
   "cell_type": "markdown",
   "metadata": {},
   "source": [
    "# Function to extract parameters per drop and create list<br>\n",
    "# (Velocities ARE Averaged)"
   ]
  },
  {
   "cell_type": "code",
   "execution_count": 15,
   "metadata": {},
   "outputs": [],
   "source": [
    "def Radii_Charge_VelAVERAGED(drops_list_of_lists):\n",
    "    #   Pulls the velocity that is already averaged \n",
    "    #   Returns two lists \n",
    "    list_of_radius_values_velAV = []\n",
    "    list_of_charge_values_velAV =[]\n",
    "\n",
    "    for droplet in drops_list_of_lists: \n",
    "    #Droplet should have 8 indecies we want index 6 & 7\n",
    "    #index 6 = vel E=0\n",
    "    #index 7 = vel E!=0\n",
    "\n",
    "        #Cal Radius and save\n",
    "        ri_velav = radius(droplet[6])\n",
    "        list_of_radius_values_velAV.append(ri_velav)\n",
    "\n",
    "        #Cal Charge and save \n",
    "        qi_velav = q1(ri_velav, droplet[6], droplet[7], droplet[8])\n",
    "        list_of_charge_values_velAV.append(qi_velav)\n",
    "    return list_of_radius_values_velAV, list_of_charge_values_velAV\n",
    "            "
   ]
  },
  {
   "cell_type": "code",
   "execution_count": 16,
   "metadata": {},
   "outputs": [],
   "source": [
    "#Assign lists \n",
    "r_vel_notav, q_vel_notav = Radii_Charge_NotAveragedVel(drops_no_ionization)\n",
    "r_velav, q_velav = Radii_Charge_VelAVERAGED(drops_no_ionization)"
   ]
  },
  {
   "cell_type": "code",
   "execution_count": 17,
   "metadata": {},
   "outputs": [
    {
     "name": "stdout",
     "output_type": "stream",
     "text": [
      "4.31e-05\n"
     ]
    }
   ],
   "source": [
    "#test pull paramater \n",
    "print(drops_no_ionization[9][0])"
   ]
  },
  {
   "cell_type": "code",
   "execution_count": 18,
   "metadata": {},
   "outputs": [],
   "source": [
    "# # Testing Cell- all functions work \n",
    "\n",
    "# # preform function by hand\n",
    "# r11= radius(drops_no_ionization[9][4]) \n",
    "# q11 = q1(r11,drops_no_ionization[9][4],drops_no_ionization[9][5],drops_no_ionization[9][8])\n",
    "# # print(q11)\n",
    "\n",
    "# # Reshape to view \n",
    "# q = q_vel_notav\n",
    "# q_arr = np.array(q)\n",
    "# q_reshap= q_arr.reshape(-1,3)\n",
    "# # print(q_reshap[9])\n",
    "# print(q_reshap)"
   ]
  },
  {
   "cell_type": "code",
   "execution_count": 19,
   "metadata": {},
   "outputs": [
    {
     "name": "stdout",
     "output_type": "stream",
     "text": [
      "Charges from velocites, not averaged velocites:\n",
      "Amount of charge's = 66\n",
      "[-7.282154900016322e-19, -9.191948739047075e-19, -4.330954557967318e-19, -8.1571952680255e-19, -7.932744829982196e-19, -1.5427253689718898e-18, -5.760070068261798e-19, -5.883941325284737e-19, -5.96159070745751e-19, -1.010685833293075e-18, -7.610416052454895e-19, -7.570027435041341e-19, -8.303592232111648e-19, -7.093399744662452e-19, -7.592628835144512e-19, -1.3410769663679097e-18, -4.691070500802344e-19, -4.2695801329095585e-19, -8.945345818908111e-19, -7.23839753964065e-19, -5.269710822990283e-19, -5.668082502171361e-19, -4.871021721467769e-19, -7.792005420373257e-19, -7.229344436527601e-19, -5.94337332141912e-19, -6.489069877460233e-19, -9.998684046618863e-19, -1.0673565234702633e-18, -9.01789592025636e-19, -6.623338198559111e-19, -7.000755248865984e-19, -1.031310699935027e-18, -3.516942689361093e-18, -1.3604693237209762e-18, -8.267994389026323e-19, -5.122017145280631e-19, -4.973646925212773e-19, -4.1168462343045317e-19, -2.9995029974693187e-19, -3.420220033549956e-19, -3.0717496443032405e-19, -4.852848035497851e-19, -4.928508687926609e-19, -8.932629626744759e-19, -4.1056175902559383e-19, -8.033184023529566e-19, -7.350551588632759e-19, -1.2326048692173593e-18, -1.2387356026960221e-18, -1.0747311592155976e-18, -2.3747022021237572e-18, -2.1216096251164025e-18, -2.2125480913639207e-18, -3.350291472234033e-19, -3.365133733297981e-19, -3.6225587101309136e-19, -8.390041745762908e-19, -1.1579416709011228e-18, -1.5702706417547232e-18, -6.393472130016282e-19, -7.572206504868401e-19, -6.928028699190452e-19, -1.3626401175687922e-18, -1.5816493102376338e-18, -1.9987741293524956e-18]\n",
      "Charges from averaged Velocites:\n",
      "Amount of charge's = 22\n",
      "[-6.873913239021479e-19, -1.0502577113866359e-18, -5.917009420970877e-19, -8.414070911392774e-19, -7.710689727941578e-19, -7.0826466821773415e-19, -7.1617935150894535e-19, -6.06574346864484e-19, -6.554385125346094e-19, -9.867428681003286e-19, -7.987241399909189e-19, -1.9031431109323504e-18, -4.729554146957238e-19, -3.1682046724509355e-19, -6.232886079637077e-19, -6.512722701665833e-19, -1.182139447494966e-18, -2.244065870443179e-18, -3.4478238698467394e-19, -1.1916365264452025e-18, -6.980276276107423e-19, -1.6504041429965768e-18]\n"
     ]
    }
   ],
   "source": [
    "# print to see list \n",
    "print(\"Charges from velocites, not averaged velocites:\")\n",
    "print(f\"Amount of charge's = {len(q_vel_notav)}\")\n",
    "print(q_vel_notav) # this values is defined later and it is a reshaping\n",
    "\n",
    "print(\"Charges from averaged Velocites:\")\n",
    "print(f\"Amount of charge's = {len(q_velav)}\")\n",
    "print(q_velav)\n",
    "\n",
    "# there are several values I feel should be removed \n"
   ]
  },
  {
   "cell_type": "markdown",
   "metadata": {},
   "source": [
    "# Sample Variance Function\n",
    "$$ \n",
    "s^2 = \\frac{1}{n-1}\\Sigma(x_i - \\mu)^2\n",
    "$$\n",
    "\n",
    "> $s^2$ : Sample (finite) Variance<br>\n",
    "$x_i$ : sample value<br>\n",
    "$\\mu$ : mean value of samples<br>\n",
    "n : number of \"bounces\"<br>\n",
    ">> e.g.: D1_ionization1 = [1(vf,vr), 2(vf,vr), 3(vf,vr)], n =  3 for 3 \"bounce recordings\" \n",
    "\n",
    "# Simple Average Vs Weighted Average \n",
    "> `Simple` is used if the uncertianty is consistent for each measure<br>\n",
    "`Weighted` is used to incerase our uncertianty and would be due to each measurement having different uncertainies \n",
    "\n",
    "## Simple Average and it's Uncertianty \n",
    "$$\n",
    "\\bar{X} = \\frac{1}{n}\\Sigma x_i \\\\\n",
    "$$\n",
    "$$\n",
    "\\sigma_{\\bar{X}} = \\frac{\\sigma_x}{\\sqrt{n}}\n",
    "$$\n",
    "> where `$\\sigma_x$` is the assigned uncertainty not a calculated one (?)\n",
    "\n",
    "\n",
    "## Weighted \n",
    "$$\n",
    "\\bar{X} = \\Sigma \\left(\\frac{x_i}{\\sigma_{x_i}^2} \\cdot \\frac{1}{\\Sigma \\frac{1}{\\sigma_{x_i}^2}} \\right)\n",
    "$$\n",
    "\n",
    ">>> Q: is the uncertainty $\\sigma_{\\bar{X}}$ the same for both simple an weighted?<br>\n",
    ">>> Q: major issue I see is each uncertainty per droplet would be assumed to be identical - I cannot remember if we can do that"
   ]
  },
  {
   "cell_type": "markdown",
   "metadata": {},
   "source": [
    "# Convert - NonAveraged values to Simple Averaged values \n",
    "> Still only working with droplets -not ionized"
   ]
  },
  {
   "cell_type": "code",
   "execution_count": 20,
   "metadata": {},
   "outputs": [],
   "source": [
    "# Take list change it into an array, reshape it, compute .mean\n",
    "# radius values \n",
    "r_vel_notav_array = np.array(r_vel_notav)\n",
    "r_vel_notav_reshape = r_vel_notav_array.reshape(-1,3)\n",
    "\n",
    "#Averaged radius values \n",
    "rAV_vel_notav = r_vel_notav_reshape.mean(axis=1)\n",
    "\n",
    "\n",
    "# charge values\n",
    "q_vel_notav_array = np.array(q_vel_notav)\n",
    "q_vel_notav_reshape = q_vel_notav_array.reshape(-1,3)\n",
    "\n",
    "\n",
    "#Averaged charge values that require thier velocity's STD's to \n",
    "#   propagate and obtain correct charge STD values- OR see next block\n",
    "qAV_vel_notav = q_vel_notav_reshape.mean(axis =1)\n"
   ]
  },
  {
   "cell_type": "code",
   "execution_count": 21,
   "metadata": {},
   "outputs": [],
   "source": [
    "# Take the 3 charges per droplet and take their STD and VAR\n",
    "\n",
    "qSTD_vel_notav = q_vel_notav_reshape.std(axis =1)\n",
    "qVAR_vel_notav = q_vel_notav_reshape.var(axis =1)\n"
   ]
  },
  {
   "cell_type": "markdown",
   "metadata": {},
   "source": [
    "# Assinged lists "
   ]
  },
  {
   "cell_type": "code",
   "execution_count": 22,
   "metadata": {},
   "outputs": [],
   "source": [
    "#       qAV_vel_notav  - Charges are averaged \n",
    "#       q_velav        - Velocities are averaged, some drops are questionable \n",
    "#       q_velav_update - from 3 measurements 2 were kept and averages 3rd one most likely was very bad"
   ]
  },
  {
   "cell_type": "code",
   "execution_count": 23,
   "metadata": {},
   "outputs": [],
   "source": [
    "# pull new list of charegs with new averages \n",
    "\n",
    "all_drops_update = CreateDropsDatabase(\"AveragedVel.csv\")\n",
    "drops_no_ionization_update = [\n",
    "    all_drops_update[0],all_drops_update[1],all_drops_update[5],\n",
    "    all_drops_update[6],all_drops_update[7],all_drops_update[8],\n",
    "    all_drops_update[9],all_drops_update[10],all_drops_update[11],\n",
    "    all_drops_update[12],all_drops_update[13],all_drops_update[14],\n",
    "    all_drops_update[17],all_drops_update[20],all_drops_update[21],\n",
    "    all_drops_update[23],all_drops_update[26],all_drops_update[27],\n",
    "    all_drops_update[32],all_drops_update[33],all_drops_update[34],\n",
    "    all_drops_update[35]\n",
    "]\n",
    "\n",
    "#Assign lists \n",
    "r_velav_up, q_velav_update = Radii_Charge_VelAVERAGED(drops_no_ionization_update)\n",
    "\n"
   ]
  },
  {
   "cell_type": "code",
   "execution_count": 24,
   "metadata": {},
   "outputs": [
    {
     "name": "stdout",
     "output_type": "stream",
     "text": [
      "<class 'list'>\n",
      "[-6.873913239021479e-19, -1.0502577113866359e-18, -5.917009420970877e-19, -7.600013317957956e-19, -7.710689727941578e-19, -4.4794492318881485e-19, -7.1617935150894535e-19, -6.06574346864484e-19, -6.554385125346094e-19, -9.490060825149854e-19, -6.825221497236575e-19, -2.451659808055388e-18, -4.729554146957238e-19, -3.1682046724509355e-19, -4.892701309584936e-19, -6.512722701665833e-19, -1.182139447494966e-18, -2.244065870443179e-18, -3.4478238698467394e-19, -1.3561271708704943e-18, -6.980276276107423e-19, -1.6504041429965768e-18]\n",
      "22\n",
      "16\n",
      "[-6.873913239021479e-19, -5.917009420970877e-19, -7.600013317957956e-19, -7.710689727941578e-19, -4.4794492318881485e-19, -7.1617935150894535e-19, -6.06574346864484e-19, -6.554385125346094e-19, -9.490060825149854e-19, -6.825221497236575e-19, -4.729554146957238e-19, -3.1682046724509355e-19, -4.892701309584936e-19, -6.512722701665833e-19, -3.4478238698467394e-19, -6.980276276107423e-19]\n"
     ]
    }
   ],
   "source": [
    "qup2 = list.copy(q_velav_update)\n",
    "print(type(qup2))\n",
    "print(qup2)\n",
    "print(len(qup2))\n",
    "qup2.remove(-1.6504041429965768e-18)\n",
    "qup2.remove(-1.182139447494966e-18)\n",
    "qup2.remove(-2.244065870443179e-18)\n",
    "qup2.remove(-1.3561271708704943e-18)\n",
    "qup2.remove(-2.451659808055388e-18)\n",
    "qup2.remove(-1.0502577113866359e-18)\n",
    "print(len(qup2))\n",
    "print(qup2)"
   ]
  },
  {
   "cell_type": "code",
   "execution_count": 25,
   "metadata": {},
   "outputs": [
    {
     "name": "stdout",
     "output_type": "stream",
     "text": [
      "[-6.873913239021479e-19, -1.0502577113866359e-18, -5.917009420970877e-19, -7.600013317957956e-19, -7.710689727941578e-19, -4.4794492318881485e-19, -7.1617935150894535e-19, -6.06574346864484e-19, -6.554385125346094e-19, -9.490060825149854e-19, -6.825221497236575e-19, -2.451659808055388e-18, -4.729554146957238e-19, -3.1682046724509355e-19, -4.892701309584936e-19, -6.512722701665833e-19, -1.182139447494966e-18, -2.244065870443179e-18, -3.4478238698467394e-19, -1.3561271708704943e-18, -6.980276276107423e-19, -1.6504041429965768e-18]\n"
     ]
    }
   ],
   "source": [
    "print(q_velav_update)"
   ]
  },
  {
   "cell_type": "code",
   "execution_count": 27,
   "metadata": {},
   "outputs": [
    {
     "data": {
      "image/png": "[encoded data removed]",
      "text/plain": [
       "<Figure size 432x288 with 1 Axes>"
      ]
     },
     "metadata": {},
     "output_type": "display_data"
    }
   ],
   "source": [
    "plt.style.use('fivethirtyeight')\n",
    "# n_bins = [-4E-19,-3E-19,-2E-19,-1E-19]\n",
    "n_bins = [-7.5,-6.5,-5.5,-4.5,-3.5,-2.5,-1.5,0]\n",
    "# n_bins = [-9,-8,-7,-6,-5,-4,-3,-2,-1,0]\n",
    "qup = np.array(qup2)\n",
    "eup = qup/(1.60217*10**(-19))\n",
    "plt.hist(eup, n_bins, edgecolor ='black') # log =True give more but... not needed\n",
    "plt.tight_layout()\n",
    "plt.xlabel(\"Charge Value\")\n",
    "plt.ylabel(\"Droplets\")\n",
    "plt.show()\n",
    "\n"
   ]
  },
  {
   "cell_type": "code",
   "execution_count": 34,
   "metadata": {},
   "outputs": [
    {
     "name": "stdout",
     "output_type": "stream",
     "text": [
      "40\n",
      "[-6.873913239021479e-19, -1.0502577113866359e-18, -1.6100843228252119e-18, -3.2965306763208157e-18, -4.5412230944822054e-18, -5.917009420970877e-19, -8.414070911392774e-19, -7.710689727941578e-19, -7.0826466821773415e-19, -7.1617935150894535e-19, -6.06574346864484e-19, -6.554385125346094e-19, -9.867428681003286e-19, -7.987241399909189e-19, -1.9031431109323504e-18, -4.2518633164376473e-19, -4.1689166236000004e-19, -4.729554146957238e-19, -4.393184663521943e-19, -3.208544102977535e-19, -3.1682046724509355e-19, -6.232886079637077e-19, -1.3016689609102282e-18, -6.512722701665833e-19, -9.99345009449734e-19, -2.8444065947069186e-19, -1.182139447494966e-18, -2.244065870443179e-18, -3.2538691437659932e-18, -2.996633986436194e-18, -2.0107999209894437e-18, -1.3260060156977516e-18, -3.4478238698467394e-19, -1.1916365264452025e-18, -6.980276276107423e-19, -1.6504041429965768e-18, -2.2750321635402673e-18, -1.3999290642103187e-18, -1.1745579083313988e-18, -1.0875918057351023e-18]\n",
      "22\n",
      "[-6.873913239021479e-19, -5.917009420970877e-19, -8.414070911392774e-19, -7.710689727941578e-19, -7.0826466821773415e-19, -7.1617935150894535e-19, -6.06574346864484e-19, -6.554385125346094e-19, -9.867428681003286e-19, -7.987241399909189e-19, -4.2518633164376473e-19, -4.1689166236000004e-19, -4.729554146957238e-19, -4.393184663521943e-19, -3.208544102977535e-19, -3.1682046724509355e-19, -6.232886079637077e-19, -6.512722701665833e-19, -9.99345009449734e-19, -2.8444065947069186e-19, -3.4478238698467394e-19, -6.980276276107423e-19]\n"
     ]
    }
   ],
   "source": [
    "r_velav_up2, q_velav_update2 = Radii_Charge_VelAVERAGED(all_drops)\n",
    "print(len(q_velav_update2))\n",
    "print(q_velav_update2)\n",
    "q = list.copy(q_velav_update2)\n",
    "q.remove(-1.0502577113866359e-18)\n",
    "q.remove(-1.6100843228252119e-18)\n",
    "q.remove(-3.2965306763208157e-18)\n",
    "q.remove(-4.5412230944822054e-18)\n",
    "q.remove(-1.9031431109323504e-18)\n",
    "q.remove(-1.3016689609102282e-18)\n",
    "q.remove(-1.182139447494966e-18)\n",
    "q.remove(-2.244065870443179e-18)\n",
    "q.remove(-3.2538691437659932e-18)\n",
    "q.remove(-2.996633986436194e-18)\n",
    "q.remove(-2.0107999209894437e-18)\n",
    "q.remove(-1.3260060156977516e-18)\n",
    "q.remove(-1.1916365264452025e-18)\n",
    "q.remove(-1.6504041429965768e-18)\n",
    "q.remove(-2.2750321635402673e-18)\n",
    "q.remove(-1.3999290642103187e-18)\n",
    "q.remove(-1.1745579083313988e-18)\n",
    "q.remove(-1.0875918057351023e-18)\n",
    "print(len(q))\n",
    "print(q)"
   ]
  },
  {
   "cell_type": "code",
   "execution_count": 35,
   "metadata": {},
   "outputs": [
    {
     "data": {
      "image/png": "[encoded data removed]",
      "text/plain": [
       "<Figure size 432x288 with 1 Axes>"
      ]
     },
     "metadata": {},
     "output_type": "display_data"
    }
   ],
   "source": [
    "plt.style.use('fivethirtyeight')\n",
    "# n_bins = [-4E-19,-3E-19,-2E-19,-1E-19]\n",
    "n_bins = [-7.5,-6.5,-5.5,-4.5,-3.5,-2.5,-1.5,0]\n",
    "# n_bins = [-9,-8,-7,-6,-5,-4,-3,-2,-1,0]\n",
    "qup22 = np.array(q)\n",
    "eup = qup22/(1.60217*10**(-19))\n",
    "plt.hist(eup, n_bins, edgecolor ='black') # log =True give more but... not needed\n",
    "plt.tight_layout()\n",
    "plt.xlabel(\"Charge Value\")\n",
    "plt.ylabel(\"Droplets\")\n",
    "plt.show()"
   ]
  },
  {
   "cell_type": "markdown",
   "metadata": {},
   "source": [
    "Topic: Fluid injection and freq of seismic activity \n",
    "i : rigor required, model mentioned\n",
    "ii: bigger picture mentioned- application/importance\n",
    "rigor: \n",
    "i:past models/theories mentioned \n",
    "ii: Current method -description, parameters,ect\n",
    "narrow the topic about fluids\n",
    "i : key features about fluids relation major topic\n",
    "Future... community? ... relation to scientists? Questions"
   ]
  }
 ],
 "metadata": {
  "interpreter": {
   "hash": "7d3258cfacded4785c99b420370e2115023612e47f2b7fc1bb6ca140f7e09403"
  },
  "kernelspec": {
   "display_name": "Python 3.9.0 ('.venv': poetry)",
   "language": "python",
   "name": "python3"
  },
  "language_info": {
   "codemirror_mode": {
    "name": "ipython",
    "version": 3
   },
   "file_extension": ".py",
   "mimetype": "text/x-python",
   "name": "python",
   "nbconvert_exporter": "python",
   "pygments_lexer": "ipython3",
   "version": "3.9.0"
  },
  "orig_nbformat": 4
 },
 "nbformat": 4,
 "nbformat_minor": 2
}
