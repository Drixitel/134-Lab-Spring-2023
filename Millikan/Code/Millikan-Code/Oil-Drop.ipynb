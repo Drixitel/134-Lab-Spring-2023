{
 "cells": [
  {
   "cell_type": "code",
   "execution_count": 1,
   "metadata": {},
   "outputs": [],
   "source": [
    "import math as m\n",
    "import numpy as np\n",
    "import pandas as pd\n",
    "import gspread as gs"
   ]
  },
  {
   "cell_type": "markdown",
   "metadata": {},
   "source": [
    "# Test Code -  Hopefully works out\n",
    "1. Need list or Database to take in Measured & Calculated values per droplet ionization\n",
    "> Droplet Database: \n",
    ">> Idetifier: Droplet(i) for $i \\in (1,2,3...)$ for a specific ionization<br>\n",
    "\n",
    ">> Set:<br>\n",
    ">> - V, b, g, p, $\\eta_0$, $\\rho$, d<br>\n",
    "\n",
    ">> Measured/Computed:<br>\n",
    ">> - $v_{y0i}$ = $\\frac{ x_{i0}}{ t_{i0}}$<br>\n",
    ">> - $a$<br>\n",
    ">> - $\\eta_{eff}$<br>\n",
    ">> - $v_{yEi}$= $\\frac{ x_{iE}}{ t_{iE}}$<br>\n",
    ">> - $q$<br>\n",
    "\n",
    "\n",
    "2. Need equation/function for radius (simplified for coding)\n",
    "> $$a = \\sqrt{\\left(\\frac{b}{2p}\\right)^2 + \\frac{9v_{y0}\\eta_0}{2 \\rho g}} -\\left(\\frac{b}{2p}\\right)$$\n",
    "> > $$a = \\sqrt{\\left(\\alpha\\right)^2 + \\beta} -\\left(\\alpha\\right)$$\n",
    "\n",
    "\n",
    "3. Need equation/function for charge (simplified for coding)\n",
    "> $$ q = \\frac{4}{3}\\pi \\rho g \\frac{d}{V}\\left(\n",
    "\\sqrt{\\left(\\frac{b}{2p}\\right)^2 + \\frac{9v_{y0}\\eta_0}{2 \\rho g}} -\\left(\\frac{b}{2p}\\right)\n",
    "\\right)^3 \\cdot \\frac{v_{yE}-v_{y0}}{v_{y0}}$$\n",
    "> > $$ q = \\frac{4}{3}\\pi \\rho g \\frac{d}{V}a^3 \\cdot \\frac{v_{yE}-v_{y0}}{v_{y0}}$$\n",
    "\n",
    "4. Need equations for Error propagation \n",
    "5. Need Graphs see images saved from speaking with the professor "
   ]
  },
  {
   "cell_type": "markdown",
   "metadata": {},
   "source": [
    "# Set constants provided in Manual "
   ]
  },
  {
   "cell_type": "code",
   "execution_count": 2,
   "metadata": {},
   "outputs": [
    {
     "name": "stdout",
     "output_type": "stream",
     "text": [
      "GIVEN CONSTANTS:\n",
      "Viscostiy Correction Factor:\t\t\t b \t= 8.20e-03 N/m\n",
      "Gravity:\t\t\t\t\t g \t= 9.80e+00 m/s^2\n",
      "Atmospheric Pressure:\t\t\t\t p \t= 1.013e+05 N/m^2\n",
      "Viscocity of air(ucorrected for radius):\t n_o \t= 1.824e-05 N-s/m^2\n",
      "Densidty of Oil Droplet:\t\t\t rho \t= 8.86e+02 kg/m^m\n"
     ]
    }
   ],
   "source": [
    "# Constants \n",
    "\n",
    "b   = 8.20E-3         # Viscostiy Correction Factor (given)\n",
    "g   = 9.80            # Gravity (given)\n",
    "p   = 1.013E5         # Atmospheric Pressure (at room temp? - given in docs)\n",
    "n_o = 1.824E-5        # Tabulated Viscosity/ Viscocity of air (given)\n",
    "rho1 = 8.86E2         # Density of oil droplet (given)\n",
    "rho2 = 0              # To be determined for accuracy   \n",
    "\n",
    "#Stored List \n",
    "Constants = [b,g,p,n_o,rho1,rho2]\n",
    "\n",
    "# format string with f\"{variable:.ne}\" where n is the number of decimal values \n",
    "# e calls scientific notation\n",
    "\n",
    "print(\"Given Constants:\".upper())\n",
    "print(f\"Viscostiy Correction Factor:\\t\\t\\t b \\t= {b:.2e} N/m\")\n",
    "print(f\"Gravity:\\t\\t\\t\\t\\t g \\t= {g:.2e} m/s^2\")\n",
    "print(f\"Atmospheric Pressure:\\t\\t\\t\\t p \\t= {p:.3e} N/m^2\")\n",
    "print(f\"Viscocity of air(ucorrected for radius):\\t n_o \\t= {n_o:.3e} N-s/m^2\")\n",
    "print(f\"Densidty of Oil Droplet:\\t\\t\\t rho \\t= {rho1:.2e} kg/m^m\")\n"
   ]
  },
  {
   "cell_type": "markdown",
   "metadata": {},
   "source": [
    "# Measured/ Calculated Values and their associated Error \n",
    "- Voltage across plates (V): --------------------------------------- V\n",
    "- Separation of Plates (m):--------------------------------------- d \n",
    "- Droplet downward velocity with no Field (\\frac{m}{s}):--------$v_{y0}$\n",
    "- Droplet radius (m):--------------------------------------------- a \n",
    "- Viscosity of air, corrected for radius ($\\frac{N-s}{m^2}$):------------------$\\eta_{eff}(a)$\n",
    "- Droplet downward velocity with E Field (\\frac{m}{s}):---------$v_{yE}$\n",
    "- Droplet Total charge (C):--------------------------------------- q \n",
    "\n",
    "\n",
    "\n",
    "\n"
   ]
  },
  {
   "cell_type": "markdown",
   "metadata": {},
   "source": [
    "### Separation (d) and it's error: (?)\n"
   ]
  },
  {
   "cell_type": "code",
   "execution_count": 3,
   "metadata": {},
   "outputs": [],
   "source": [
    "# Separation of plates (d) \n",
    "d   = 7.752E-3      # meters\n",
    "\n",
    "# Error in Separation (?)"
   ]
  },
  {
   "cell_type": "markdown",
   "metadata": {},
   "source": [
    "# Data Frame "
   ]
  },
  {
   "cell_type": "code",
   "execution_count": 4,
   "metadata": {},
   "outputs": [],
   "source": [
    "# Constants \n",
    "droplet_constants = pd.read_csv('Droplet-Data-Constants.csv')\n",
    "#droplet_constants"
   ]
  },
  {
   "cell_type": "code",
   "execution_count": 5,
   "metadata": {},
   "outputs": [],
   "source": [
    "# TestValues\n",
    "droplets_testvalues = pd.read_csv('Droplet-Data-Test.csv')\n",
    "#droplets_testvalues"
   ]
  },
  {
   "cell_type": "markdown",
   "metadata": {},
   "source": [
    "## Functions for $a$ (might need to adjust for array)\n",
    "\n",
    "> $$a = \\sqrt{\\left(\\frac{b}{2p}\\right)^2 + \\frac{9v_{y0}\\eta_0}{2 \\rho g}} -\\left(\\frac{b}{2p}\\right)$$\n",
    "> > $$a = \\sqrt{\\left(\\alpha\\right)^2 + \\beta} -\\left(\\alpha\\right)$$\n"
   ]
  },
  {
   "cell_type": "code",
   "execution_count": 6,
   "metadata": {},
   "outputs": [],
   "source": [
    "# Fuction for radius a \n",
    "# assuming b, p, n_o, g are all set \n",
    "# inputs (x,t) for E = 0 \n",
    "\n",
    "def radius(x,t):     \n",
    "    # Components of a \n",
    "    # terminal velocity with E = 0 \n",
    "    v_y0 = (x/t)\n",
    "\n",
    "    # alpha \n",
    "    alpha = b/(2*p)\n",
    "\n",
    "    #beta\n",
    "    beta = (9*v_y0*n_o)/(2*rho1*g)\n",
    "    \n",
    "    #radius a \n",
    "    a = np.sqrt((alpha**2)+beta) - alpha\n",
    "   \n",
    "    return a\n"
   ]
  },
  {
   "cell_type": "markdown",
   "metadata": {},
   "source": [
    "## Function for charge $q$\n",
    "\n",
    "- $q_1 = q_2=  q$ They are just expressed differently \n",
    "\n",
    "> $$ q = \\frac{4}{3}\\pi \\rho g \\frac{d}{V}\\left(\n",
    "\\sqrt{\\left(\\frac{b}{2p}\\right)^2 + \\frac{9v_{y0}\\eta_0}{2 \\rho g}} -\\left(\\frac{b}{2p}\\right)\n",
    "\\right)^3 \\cdot \\frac{v_{yE}-v_{y0}}{v_{y0}}$$\n",
    "> > $$ q_1 = \\frac{4}{3}\\pi \\rho g \\frac{d}{V}a^3 \\cdot \\frac{v_{yE}-v_{y0}}{v_{y0}}$$\n",
    "\n",
    ">>$$ q_2 = 18 \\pi d \\left( \\frac{\\eta_0^3}{2g\\rho}\\right)^{\\frac{1}{2}}\\cdot \n",
    "\\left( \\frac{1}{(1+\\frac{b}{pa})}\\right)^{\\frac{3}{2}} \\sqrt{v_{y0}}\\cdot\n",
    "\\frac{(v_{yE}-v_{y0})}{V}\n",
    "$$"
   ]
  },
  {
   "cell_type": "code",
   "execution_count": 7,
   "metadata": {},
   "outputs": [],
   "source": [
    "# q1 \n",
    "\n",
    "def q1(a, V, x_0, t_0, x_E, t_E):\n",
    "    #velocity E=0 \n",
    "    v_y0 = x_0/t_0\n",
    "\n",
    "    #velocity E != 0\n",
    "    v_yE = x_E/t_E\n",
    "\n",
    "    #left term (lt) \n",
    "    lt = (4/3)*np.pi*rho1*g*(d/V)*a**3\n",
    "\n",
    "    #right term (rt)\n",
    "    rt = (v_yE - v_y0)/ v_y0\n",
    "\n",
    "    q1 = lt*rt\n",
    "    \n",
    "    return q1\n",
    "\n",
    "\n",
    "# q2\n",
    "\n",
    "def q2(a, V, x_0, t_0, x_E, t_E):\n",
    "    #velocity E=0 \n",
    "    v_y0 = x_0/t_0\n",
    "\n",
    "    #velocity E != 0\n",
    "    v_yE = x_E/t_E\n",
    "    \n",
    "    #term1\n",
    "    t1 = 18*np.pi*d*np.sqrt(n_o**3/(2*g*rho1))\n",
    "\n",
    "    #term2\n",
    "    t2 =(1/(1+(b/(p*a))))**(3/2)\n",
    "\n",
    "    #term3\n",
    "    t3 = np.sqrt(v_y0)* ((v_yE-v_y0)/V)\n",
    "\n",
    "    q2 = t1*t2*t3\n",
    "\n",
    "    return q2"
   ]
  },
  {
   "cell_type": "markdown",
   "metadata": {},
   "source": [
    "## Function for Effective Viscosity $\\eta_{eff}(a)$\n",
    "\n",
    "$$\\eta_{eff}(a) = \\frac{\\eta_0}{1 + \\frac{b}{pa}}\n",
    "$$"
   ]
  },
  {
   "cell_type": "code",
   "execution_count": 8,
   "metadata": {},
   "outputs": [],
   "source": [
    "# effective viscosity \n",
    "\n",
    "def neff(a): \n",
    "    n_effa = n_o/(1 + (b/(p*a)))\n",
    "\n",
    "    return n_effa\n",
    "    "
   ]
  },
  {
   "cell_type": "markdown",
   "metadata": {},
   "source": [
    "# Test Charge Values \n",
    "- Manual inputs (very very approximate, needs error analysis)\n",
    "> Voltage V = 501V\n",
    "\n",
    "> Falling $E=0$ (xf,tf) = (.5E-3m,5s)\n",
    "\n",
    "> Rising $E\\neq 0$ (xr,tr) = (.5E-3, 4s)\n"
   ]
  },
  {
   "cell_type": "code",
   "execution_count": 12,
   "metadata": {},
   "outputs": [
    {
     "name": "stdout",
     "output_type": "stream",
     "text": [
      "Radius of Droplet = 9.326e-07\n",
      "\n",
      "Charge on droplet= 1.141e-19\n",
      "\n",
      "Fundamental Charge q_0= 1.60217e-19 \n"
     ]
    }
   ],
   "source": [
    "# Inputs \n",
    "# Fall \n",
    "x = .5E-3      # mm\n",
    "t = 52-47   #s\n",
    "\n",
    "# Rise\n",
    "xr = .5E-3\n",
    "tr= 4\n",
    "\n",
    "#Calculate Radius\n",
    "a1 =radius(x,t)\n",
    "print(f\"Radius of Droplet = {a1:.3e}\\n\")\n",
    "\n",
    "#Calculate Charge\n",
    "q = q2(a1,501,x,t, xr,tr,)\n",
    "print(f\"Charge on droplet= {q:.3e}\\n\")\n",
    "\n",
    "#Compare to known charge \n",
    "q0 = 1.60217E-19\n",
    "\n",
    "print(f\"Fundamental Charge q_0= {q0:.5e} \" )\n",
    "\n"
   ]
  }
 ],
 "metadata": {
  "interpreter": {
   "hash": "7d3258cfacded4785c99b420370e2115023612e47f2b7fc1bb6ca140f7e09403"
  },
  "kernelspec": {
   "display_name": "Python 3.9.0 ('.venv': poetry)",
   "language": "python",
   "name": "python3"
  },
  "language_info": {
   "codemirror_mode": {
    "name": "ipython",
    "version": 3
   },
   "file_extension": ".py",
   "mimetype": "text/x-python",
   "name": "python",
   "nbconvert_exporter": "python",
   "pygments_lexer": "ipython3",
   "version": "3.9.0"
  },
  "orig_nbformat": 4
 },
 "nbformat": 4,
 "nbformat_minor": 2
}
