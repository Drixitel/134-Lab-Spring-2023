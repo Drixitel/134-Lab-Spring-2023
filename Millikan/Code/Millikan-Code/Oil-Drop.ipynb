{
 "cells": [
  {
   "cell_type": "code",
   "execution_count": 1,
   "metadata": {},
   "outputs": [],
   "source": [
    "import numpy as np\n",
    "import pandas as pd"
   ]
  },
  {
   "cell_type": "markdown",
   "metadata": {},
   "source": [
    "# Test Code -  Hopefully works out\n",
    "1. Need list or Database to take in Measured & Calculated values per droplet ionization\n",
    "> Droplet Database: \n",
    ">> Idetifier: Droplet(i) for $i \\in (1,2,3...)$ for a specific ionization<br>\n",
    "\n",
    ">> Set:<br>\n",
    ">> - V, b, g, p, $\\eta_0$, $\\rho$, d<br>\n",
    "\n",
    ">> Measured/Computed:<br>\n",
    ">> - $v_{y0i}$ = $\\frac{ x_{i0}}{ t_{i0}}$<br>\n",
    ">> - $a$<br>\n",
    ">> - $\\eta_{eff}$<br>\n",
    ">> - $v_{yEi}$= $\\frac{ x_{iE}}{ t_{iE}}$<br>\n",
    ">> - $q$<br>\n",
    "\n",
    "\n",
    "2. Need equation/function for radius (simplified for coding)\n",
    "> $$a = \\sqrt{\\left(\\frac{b}{2p}\\right)^2 + \\frac{9v_{y0}\\eta_0}{2 \\rho g}} -\\left(\\frac{b}{2p}\\right)$$\n",
    "> > $$a = \\sqrt{\\left(\\alpha\\right)^2 + \\beta} -\\left(\\alpha\\right)$$\n",
    "\n",
    "\n",
    "3. Need equation/function for charge (simplified for coding)\n",
    "> $$ q = \\frac{4}{3}\\pi \\rho g \\frac{d}{V}\\left(\n",
    "\\sqrt{\\left(\\frac{b}{2p}\\right)^2 + \\frac{9v_{y0}\\eta_0}{2 \\rho g}} -\\left(\\frac{b}{2p}\\right)\n",
    "\\right)^3 \\cdot \\frac{v_{yE}-v_{y0}}{v_{y0}}$$\n",
    "> > $$ q = \\frac{4}{3}\\pi \\rho g \\frac{d}{V}a^3 \\cdot \\frac{v_{yE}-v_{y0}}{v_{y0}}$$\n",
    "\n",
    "4. Need equations for Error propagation \n",
    "5. Need Graphs see images saved from speaking with the professor "
   ]
  },
  {
   "cell_type": "markdown",
   "metadata": {},
   "source": [
    "# Set constants provided in Manual "
   ]
  },
  {
   "cell_type": "code",
   "execution_count": 2,
   "metadata": {},
   "outputs": [],
   "source": [
    "# Constants \n",
    "\n",
    "b   = 8.20E-3         # Viscostiy Correction Factor (given)\n",
    "g   = 9.80            # Gravity (given)\n",
    "p   = 1.013E5         # Atmospheric Pressure (at room temp? - given in docs)\n",
    "n_o = 1.824E-5        # Tabulated Viscosity/ Viscocity of air (given)\n",
    "rho1 = 8.86E2         # Density of oil droplet (given)\n",
    "rho2 = 0              # To be determined for accuracy   \n",
    "\n",
    "#Stored List \n",
    "Constants = [b, g, p, n_o,rho1 ,rho2]"
   ]
  },
  {
   "cell_type": "code",
   "execution_count": 3,
   "metadata": {},
   "outputs": [
    {
     "name": "stdout",
     "output_type": "stream",
     "text": [
      "GIVEN CONSTANTS:\n",
      "Viscostiy Correction Factor:\t\t\t b \t= 8.20e-03 N/m\n",
      "Gravity:\t\t\t\t\t g \t= 9.80e+00 m/s^2\n",
      "Atmospheric Pressure:\t\t\t\t p \t= 1.013e+05 N/m^2\n",
      "Viscocity of air(ucorrected for radius):\t n_o \t= 1.824e-05 N-s/m^2\n",
      "Densidty of Oil Droplet:\t\t\t rho \t= 8.86e+02 kg/m^m\n"
     ]
    }
   ],
   "source": [
    "# format string with f\"{vriable:.ne}\" where n is the number of decimal values \n",
    "# e calls scientific notation\n",
    "\n",
    "print(\"Given Constants:\".upper())\n",
    "print(f\"Viscostiy Correction Factor:\\t\\t\\t b \\t= {b:.2e} N/m\")\n",
    "print(f\"Gravity:\\t\\t\\t\\t\\t g \\t= {g:.2e} m/s^2\")\n",
    "print(f\"Atmospheric Pressure:\\t\\t\\t\\t p \\t= {p:.3e} N/m^2\")\n",
    "print(f\"Viscocity of air(ucorrected for radius):\\t n_o \\t= {n_o:.3e} N-s/m^2\")\n",
    "print(f\"Densidty of Oil Droplet:\\t\\t\\t rho \\t= {rho1:.2e} kg/m^m\")"
   ]
  },
  {
   "cell_type": "markdown",
   "metadata": {},
   "source": [
    "# Measured/ Calculated Values and their associated Error \n",
    "- Voltage across plates (V): --------------------------------------- V\n",
    "- Separation of Plates (m):--------------------------------------- d \n",
    "- Droplet downward velocity with no Field ($\\frac{m}{s}$):--------$v_{y0}$\n",
    "- Droplet radius (m):--------------------------------------------- a \n",
    "- Viscosity of air, corrected for radius ($\\frac{N-s}{m^2}$):------------------$\\eta_{eff}(a)$\n",
    "- Droplet downward velocity with E Field ($\\frac{m}{s}$):---------$v_{yE}$\n",
    "- Droplet Total charge (C):--------------------------------------- q \n",
    "\n",
    "\n",
    "\n",
    "\n"
   ]
  },
  {
   "cell_type": "markdown",
   "metadata": {},
   "source": [
    "### Separation (d) and it's error: (?)\n"
   ]
  },
  {
   "cell_type": "code",
   "execution_count": 4,
   "metadata": {},
   "outputs": [],
   "source": [
    "# Separation of plates (d) \n",
    "d   = 7.752E-3      # meters\n",
    "\n",
    "# Error in Separation (?)"
   ]
  },
  {
   "cell_type": "markdown",
   "metadata": {},
   "source": [
    "## Functions for $a$ \n",
    "\n",
    "> $$a = \\sqrt{\\left(\\frac{b}{2p}\\right)^2 + \\frac{9v_{y0}\\eta_0}{2 \\rho g}} -\\left(\\frac{b}{2p}\\right)$$\n",
    "> > $$a = \\sqrt{\\left(\\alpha\\right)^2 + \\beta} -\\left(\\alpha\\right)$$\n"
   ]
  },
  {
   "cell_type": "code",
   "execution_count": 5,
   "metadata": {},
   "outputs": [],
   "source": [
    "# Fuction for radius a \n",
    "# assuming b, p, n_o, g are all set \n",
    "# inputs (x,t) for E = 0 \n",
    "\n",
    "def radius(v_y0):     \n",
    "    # Function: Takes velocity returns radius\n",
    "    # Components of a \n",
    "    # terminal velocity with E = 0 \n",
    "    \n",
    "    # convert mm to m \n",
    "    v_y0 = v_y0*10**(-3)\n",
    "    \n",
    "    # alpha \n",
    "    alpha = b/(2*p)\n",
    "\n",
    "    #beta\n",
    "    beta = (9*v_y0*n_o)/(2*rho1*g)\n",
    "    \n",
    "    #radius a \n",
    "    a = np.sqrt((alpha**2)+beta) - alpha\n",
    "   \n",
    "    return a\n",
    "\n"
   ]
  },
  {
   "cell_type": "markdown",
   "metadata": {},
   "source": [
    "## Function for charge $q$\n",
    "\n",
    "- $q_1 = q_2=  q$ They are just expressed differently \n",
    "\n",
    "> $$ q = \\frac{4}{3}\\pi \\rho g \\frac{d}{V}\\left(\n",
    "\\sqrt{\\left(\\frac{b}{2p}\\right)^2 + \\frac{9v_{y0}\\eta_0}{2 \\rho g}} -\\left(\\frac{b}{2p}\\right)\n",
    "\\right)^3 \\cdot \\frac{v_{yE}-v_{y0}}{v_{y0}}$$\n",
    "> > $$ q_1 = \\frac{4}{3}\\pi \\rho g \\frac{d}{V}a^3 \\cdot \\frac{v_{yE}-v_{y0}}{v_{y0}}$$\n",
    "\n",
    ">>$$ q_2 = 18 \\pi d \\left( \\frac{\\eta_0^3}{2g\\rho}\\right)^{\\frac{1}{2}}\\cdot \n",
    "\\left( \\frac{1}{(1+\\frac{b}{pa})}\\right)^{\\frac{3}{2}} \\sqrt{v_{y0}}\\cdot\n",
    "\\frac{(v_{yE}-v_{y0})}{V}\n",
    "$$"
   ]
  },
  {
   "cell_type": "code",
   "execution_count": 6,
   "metadata": {},
   "outputs": [],
   "source": [
    "# q1 \n",
    "\n",
    "def q1(a,v_y0,v_yE,V):\n",
    "     # Funtion: Takes radius,Velocity E=0 and Velocity E != 0 \n",
    "    #velocity: v_y0 E=0 \n",
    "    #velocity: v_yE E != 0\n",
    "\n",
    "    # convert mm to m \n",
    "    v_y0 = (v_y0)*10**(-3)\n",
    "    v_yE = -(v_yE)*10**(-3) \n",
    "\n",
    "\n",
    "    #left term (lt) \n",
    "    lt = (4/3)*np.pi*rho1*g*(d/V)*a**3\n",
    "\n",
    "    #right term (rt)\n",
    "    rt = (v_yE - v_y0)/ v_y0\n",
    "\n",
    "    q1 = lt*rt\n",
    "    \n",
    "    return q1\n",
    "\n",
    "\n",
    "# q2\n",
    "\n",
    "def q2(a,v_y0, v_yE, V):\n",
    "    #velocity: v_y0 E=0 \n",
    "    #velocity: v_yE E != 0\n",
    "    \n",
    "    # convert mm to m \n",
    "    v_y0 = (v_y0)*10**(-3)\n",
    "    v_yE = -(v_yE)*10**(-3) \n",
    "    \n",
    "    #term1\n",
    "    t1 = 18*np.pi*d*np.sqrt(n_o**3/(2*g*rho1))\n",
    "\n",
    "    #term2\n",
    "    t2 =(1/(1+(b/(p*a))))**(3/2)\n",
    "\n",
    "    #term3\n",
    "    t3 = np.sqrt(v_y0)* ((v_yE-v_y0)/V)\n",
    "\n",
    "    q2 = t1*t2*t3\n",
    "\n",
    "    return q2"
   ]
  },
  {
   "cell_type": "markdown",
   "metadata": {},
   "source": [
    "## Function for Effective Viscosity $\\eta_{eff}(a)$\n",
    "\n",
    "$$\\eta_{eff}(a) = \\frac{\\eta_0}{1 + \\frac{b}{pa}}\n",
    "$$"
   ]
  },
  {
   "cell_type": "code",
   "execution_count": 7,
   "metadata": {},
   "outputs": [],
   "source": [
    "# effective viscosity \n",
    "\n",
    "def neff(a): \n",
    "    n_effa = n_o/(1 + (b/(p*a)))\n",
    "\n",
    "    return n_effa\n",
    "    "
   ]
  },
  {
   "cell_type": "markdown",
   "metadata": {},
   "source": [
    "# Test: Charge Values for one Droplet\n",
    "- Manual inputs (very very approximate, needs error analysis)\n",
    "> Voltage V = 501V\n",
    "\n",
    "> Falling $E=0$ (xf,tf) = (.5E-3m,5s)\n",
    "\n",
    "> Rising $E\\neq 0$ (xr,tr) = (.5E-3, 4s)\n"
   ]
  },
  {
   "cell_type": "code",
   "execution_count": 8,
   "metadata": {},
   "outputs": [],
   "source": [
    "# # Inputs \n",
    "# # Fall \n",
    "# x = .5E-3      # mm\n",
    "# t = 52-47   #s\n",
    "\n",
    "# # Rise\n",
    "# xr = .5E-3\n",
    "# tr= 4\n",
    "\n",
    "# #Calculate Radius\n",
    "# a1 =radius(x,t)\n",
    "# print(f\"Radius of Droplet = {a1:.3e}\\n\")\n",
    "\n",
    "# #Calculate Charge\n",
    "# q = q2(a1,501,x,t, xr,tr,)\n",
    "# print(f\"Charge on droplet= {q:.3e}\\n\")\n",
    "\n",
    "# #Compare to known charge \n",
    "# q0 = 1.60217E-19\n",
    "\n",
    "# print(f\"Fundamental Charge q_0= {q0:.5e}\\n\" )\n",
    "\n",
    "# #divide the two values \n",
    "# m = q/q0\n",
    "\n",
    "# print(f\"Ratio of droplet charge to Fundamental charge: q/q0 = {m:.3f}\")\n",
    "# print(\"uhh that's not really 1.... we will need to accuont for all this\")\n"
   ]
  },
  {
   "cell_type": "markdown",
   "metadata": {},
   "source": [
    "# Testing Data Frame Pull "
   ]
  },
  {
   "cell_type": "code",
   "execution_count": 9,
   "metadata": {},
   "outputs": [],
   "source": [
    "# # Convert to code Esc+Y Convert to markdown Esc + M \n",
    "# ### data pull \n",
    "# droplet_data = pd.read_csv('Velocities-4.6.csv')\n",
    "\n",
    "# ### assign values to selected columns/rows \n",
    "\n",
    "# ### test: \n",
    "# falling_times = droplet_data[\"1F(t) s\"]\n",
    "# ft = falling_times.dropna()\n",
    "# ft = ft.to_numpy()\n",
    "# ft_array = ft.astype(float)\n",
    "# print(ft_array)\n",
    "# print(type(ft_array[0]))\n",
    "# print(ft_array[0])\n",
    "# y = ft_array[0]*2\n",
    "# print(y)"
   ]
  },
  {
   "cell_type": "markdown",
   "metadata": {},
   "source": [
    "# Function to pull data and create a list/lib per droplet"
   ]
  },
  {
   "cell_type": "code",
   "execution_count": 10,
   "metadata": {},
   "outputs": [],
   "source": [
    "\n",
    "def Droplet_Values(n_drop, n_ionized, csv_name_as_string):\n",
    "    # Funtion: Choose Droplet, Choose ionization, Call \"file.csv\"\n",
    "    # Return a list of paramerters per droplet selected \n",
    "    # E.g.: droplet1_ionization2 = [velocities, Voltage]\n",
    "\n",
    "\n",
    "    # Call the CSV file\n",
    "    droplet = pd.read_csv(csv_name_as_string)\n",
    "\n",
    "    # Select the specified droplet by droplet # and Ionization\n",
    "    d1 = droplet[droplet['Droplet'].isin([n_drop]) & droplet['Ionized'].isin([n_ionized])]\n",
    "\n",
    "    # Select the specified parameters (Velocities and Volts)\n",
    "    d1 = d1[[\"Vf1\",\"Vr1\",\"Vf2\",\"Vr2\",\"Vf3\",\"Vr3\",\"Volts V\"]]\n",
    "\n",
    "    # Convert to array, already is a float\n",
    "    d1 = d1.to_numpy()\n",
    "\n",
    "    # Assign a list \n",
    "    d1_values = []\n",
    "\n",
    "    # use a for loop to unpack the 0th element into our desired list\n",
    "\n",
    "    for value in d1[0]:\n",
    "        d1_values.append(value)\n",
    "\n",
    "    return d1_values\n"
   ]
  },
  {
   "cell_type": "markdown",
   "metadata": {},
   "source": [
    "# Function to pull ALL droplets and place them in a list of lists \n",
    "> Important, Each Droplet and Ionizatoin requires an input no empty rows"
   ]
  },
  {
   "cell_type": "code",
   "execution_count": 11,
   "metadata": {},
   "outputs": [],
   "source": [
    "def CreateDropsDatabase(csv_file_name_as_string): # \"filename.csv\"\n",
    "    # Function: Takes \"file.csv\" Returns list of lists for our drops\n",
    "    # dependent on the function Droplet_Values()\n",
    "    # E.g.: Drops = [d1[velocities,Voltage],...dn[velocities,Voltage]]\n",
    "\n",
    "    # define list\n",
    "    drops = []\n",
    "\n",
    "    # define counter, starts at 1 (our table has droplets starting at 1)\n",
    "    droplet_number = 1 \n",
    "\n",
    "    # define while loop such it breaks if we define droplet_number = None\n",
    "    while droplet_number is not None: \n",
    "        # set ionization counter to 0 (our table has ionizations starting at 0)\n",
    "\n",
    "        ionization_number = 0\n",
    "\n",
    "        # define a while loop -same condition\n",
    "        while ionization_number is not None: \n",
    "            # preform: \"handling an exception(error)\" aka running code to check for error  \n",
    "            # we know we will get an index error meaning we are at the end of our spreadsheet or ionizations\n",
    "            # The Try-Except block\n",
    "            #       will try to pull a drops paramaters if it works we incriment through the ionizations \n",
    "            #       skipping the except block. \n",
    "            #       if an Index error occurs it will check if it broke due to ionization value or droplet value\n",
    "\n",
    "            try:\n",
    "                d = Droplet_Values(droplet_number, ionization_number, csv_file_name_as_string)\n",
    "                # prints used to check if something breaks\n",
    "                # print(f\"{droplet_number}, {ionization_number}\")\n",
    "                # print(d)\n",
    "\n",
    "                # add to list \n",
    "                drops.append(d)\n",
    "                # check next ionization add 1\n",
    "                ionization_number += 1\n",
    "            except IndexError:\n",
    "                # prints to see breaks\n",
    "                # print(f\"{droplet_number}, {ionization_number}\")\n",
    "\n",
    "                # Check if droplet_number or ionization_number gave error\n",
    "                # important: this means drops.append and the incriment on ionization did not occur\n",
    "                if ionization_number == 0: \n",
    "                    # if false (ionizations broke) this means all ionizations for this droplet were found\n",
    "                    #   continue to else \n",
    "                    # if true (droplet broke) this means we have no more droplets\n",
    "                    #   since ionization is still set to 0 this condition is True, Call None and break\n",
    "                    #   Note: Calling droplet_number =None will break whole loop and return list of lists \n",
    "                    droplet_number = None\n",
    "                    break\n",
    "                else:\n",
    "                    # break this check-block by calling None and continue to next droplet\n",
    "                    ionization_number = None\n",
    "        \n",
    "        # occurs after ionization = None (else block)\n",
    "        if droplet_number is not None:\n",
    "            droplet_number += 1\n",
    "    return drops "
   ]
  },
  {
   "cell_type": "markdown",
   "metadata": {},
   "source": [
    "# Drop Data "
   ]
  },
  {
   "cell_type": "code",
   "execution_count": 12,
   "metadata": {},
   "outputs": [
    {
     "name": "stdout",
     "output_type": "stream",
     "text": [
      "[0.0374, 0.266, 0.035, 0.1404, 0.0, 0.0, 501.0]\n",
      "[0.116, 0.0428, 0.1344, 0.0462, 0.0, 0.0, 501.0]\n",
      "[0.1111, 0.1767, 0.1131, 0.2646, 0.1193, 0.2646, 501.0]\n",
      "[0.1121, 0.6826, 0.126, 0.8969, 0.1179, 0.6289, 501.0]\n"
     ]
    }
   ],
   "source": [
    "drops = CreateDropsDatabase(\"Velocities.csv\")\n",
    "for x in drops:\n",
    "    print(x)"
   ]
  },
  {
   "cell_type": "markdown",
   "metadata": {},
   "source": [
    "# Function: Droplet Charges in a list "
   ]
  },
  {
   "cell_type": "code",
   "execution_count": 14,
   "metadata": {},
   "outputs": [],
   "source": [
    "\n",
    "\n",
    "def Radii_Charge(drops): \n",
    "    # droplet = to loop through\n",
    "    # drops a list of lists previously created\n",
    "\n",
    "    # function takes list to loop through\n",
    "    # returns two lists one for radius and one for charge \n",
    "    list_of_radius_values = []\n",
    "    list_of_charge_values =[]\n",
    "\n",
    "\n",
    "    for droplet in drops: \n",
    "        n = 0\n",
    "        # print('new droplet')\n",
    "        for i in range(3): \n",
    "            if n > 4: \n",
    "                break\n",
    "            else: \n",
    "                if droplet[n] ==0 or droplet[n+1] ==0: \n",
    "                    list_of_radius_values.append(0)\n",
    "                    list_of_charge_values.append(0)\n",
    "                    # print(\"no value vf.vr\")\n",
    "                    continue\n",
    "                else:\n",
    "                    # print(n)\n",
    "                    # print('new drop vf.vr')\n",
    "                    # print(droplet[n])\n",
    "                    # print(droplet[n+1])\n",
    "\n",
    "                    ri = radius(droplet[n])\n",
    "                    list_of_radius_values.append(ri)\n",
    "\n",
    "                    #calculate charge \n",
    "                    qi = q1(ri,droplet[n],droplet[n+1],droplet[6])\n",
    "                    list_of_charge_values.append(qi)\n",
    "                    n += 2\n",
    "    return list_of_radius_values, list_of_charge_values\n"
   ]
  },
  {
   "cell_type": "code",
   "execution_count": 18,
   "metadata": {},
   "outputs": [
    {
     "name": "stdout",
     "output_type": "stream",
     "text": [
      "Values taken directly from drops\n",
      "5.555016263609569e-07 -7.825722137413095e-19\n",
      "Values taken from new seperated list\n",
      "5.555016263609569e-07 -7.825722137413095e-19\n"
     ]
    }
   ],
   "source": [
    "#test directly from drops\n",
    "r1 = radius(drops[0][0])\n",
    "q01 = q1(r1,drops[0][0],drops[0][1],drops[0][6])\n",
    "print(\"Values taken directly from drops\")\n",
    "print(r1,q01)\n",
    "\n",
    "\n",
    "# define \n",
    "radii, charge = Radii_Charge(drops)\n",
    "print(\"Values taken from new seperated list\")\n",
    "print(radii[0],charge[0]) "
   ]
  },
  {
   "cell_type": "markdown",
   "metadata": {},
   "source": [
    "# Sample Variance Function\n",
    "$$ \n",
    "s^2 = \\frac{1}{n-1}\\Sigma(x_i - \\mu)^2\n",
    "$$\n",
    "\n",
    "> $s^2$ : Sample (finite) Variance<br>\n",
    "$x_i$ : sample value<br>\n",
    "$\\mu$ : mean value of samples<br>\n",
    "n : number of \"bounces\"<br>\n",
    ">> e.g.: D1_ionization1 = [1(vf,vr), 2(vf,vr), 3(vf,vr)], n =  3 for 3 \"bounce recordings\" "
   ]
  }
 ],
 "metadata": {
  "interpreter": {
   "hash": "7d3258cfacded4785c99b420370e2115023612e47f2b7fc1bb6ca140f7e09403"
  },
  "kernelspec": {
   "display_name": "Python 3.9.0 ('.venv': poetry)",
   "language": "python",
   "name": "python3"
  },
  "language_info": {
   "codemirror_mode": {
    "name": "ipython",
    "version": 3
   },
   "file_extension": ".py",
   "mimetype": "text/x-python",
   "name": "python",
   "nbconvert_exporter": "python",
   "pygments_lexer": "ipython3",
   "version": "3.9.0"
  },
  "orig_nbformat": 4
 },
 "nbformat": 4,
 "nbformat_minor": 2
}
