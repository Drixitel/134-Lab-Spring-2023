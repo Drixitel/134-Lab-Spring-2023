{
 "cells": [
  {
   "cell_type": "code",
   "execution_count": 18,
   "metadata": {},
   "outputs": [],
   "source": [
    "import numpy as np\n",
    "import pandas as pd\n",
    "import matplotlib.pyplot as plt\n",
    "import scipy as sc\n",
    "from scipy import stats \n",
    "import scipy.stats as stat\n",
    "import helpfunc as func\n",
    "from helpfunc import Droplet_Values\n",
    "from helpfunc import Radii_Charge_NotAveragedVel\n",
    "from helpfunc import Radii_Charge_VelAVERAGED"
   ]
  },
  {
   "cell_type": "markdown",
   "metadata": {},
   "source": [
    "# Skip down to Analysis "
   ]
  },
  {
   "cell_type": "code",
   "execution_count": 19,
   "metadata": {},
   "outputs": [],
   "source": [
    "# Plate Separation \n",
    "sigd = 0.0127E-3    # meters\n",
    "sigx = 0.01E-3      # meters\n",
    "sigt = 0.1          # fractional seconds"
   ]
  },
  {
   "cell_type": "code",
   "execution_count": 20,
   "metadata": {},
   "outputs": [],
   "source": [
    "def Droplet_Values(n_drop, n_ionized, csv_name_as_string):\n",
    "    # Funtion: Choose Droplet, Choose ionization, Call \"file.csv\"\n",
    "    # Return a list of paramerters per droplet selected \n",
    "    # E.g.: droplet1_ionization2 = [velocities, Voltage]\n",
    "\n",
    "\n",
    "    # Call the CSV file\n",
    "    droplet = pd.read_csv(csv_name_as_string)\n",
    "\n",
    "    # Select the specified droplet by droplet # and Ionization (rows)\n",
    "    d1 = droplet[droplet['Droplet'].isin([n_drop]) & droplet['Ionized'].isin([n_ionized])]\n",
    "\n",
    "    # Select the specified parameters (Velocities and Volts) (columns)\n",
    "    d1 = d1[[\"Vf1\",\"Vr1\",\"Vf2\",\"Vr2\",\"Vf3\",\"Vr3\",\"vf av\",\"vr av\",\"Volts V\",\"vf stdev\", \"vr stdev\"]]\n",
    "\n",
    "    # Convert to array, already is a float\n",
    "    d1 = d1.to_numpy()\n",
    "\n",
    "    # Assign a list \n",
    "    d1_values = []\n",
    "\n",
    "    # use a for loop to unpack the 0th element into our desired list\n",
    "\n",
    "    for value in d1[0]:\n",
    "        d1_values.append(value)\n",
    "\n",
    "    return d1_values"
   ]
  },
  {
   "cell_type": "code",
   "execution_count": 21,
   "metadata": {},
   "outputs": [],
   "source": [
    "def CreateDropsDatabase(csv_file_name_as_string): # \"filename.csv\"\n",
    "    # Function: Takes \"file.csv\" Returns list of lists for our drops\n",
    "    # dependent on the function Droplet_Values()\n",
    "    # E.g.: Drops = [d1[velocities,Voltage],...dn[velocities,Voltage]]\n",
    "    # Full detial of function found in Oil-Drop.ipynb\n",
    "\n",
    "    drops = []\n",
    "   \n",
    "    droplet_number = 1 \n",
    "   \n",
    "    while droplet_number is not None: \n",
    "\n",
    "        ionization_number = 0\n",
    "\n",
    "       \n",
    "        while ionization_number is not None: \n",
    "         \n",
    "\n",
    "            try:\n",
    "                d = Droplet_Values(droplet_number, ionization_number, csv_file_name_as_string)\n",
    "        \n",
    "                drops.append(d)\n",
    "                ionization_number += 1\n",
    "\n",
    "            except IndexError:\n",
    "               \n",
    "                if ionization_number == 0: \n",
    "                   \n",
    "                    droplet_number = None\n",
    "                    break\n",
    "                else:\n",
    "                    \n",
    "                    ionization_number = None\n",
    "        \n",
    "        if droplet_number is not None:\n",
    "            droplet_number += 1\n",
    "    return drops "
   ]
  },
  {
   "cell_type": "markdown",
   "metadata": {},
   "source": [
    "# Pull all drops "
   ]
  },
  {
   "cell_type": "code",
   "execution_count": 22,
   "metadata": {},
   "outputs": [
    {
     "name": "stdout",
     "output_type": "stream",
     "text": [
      "\n",
      "We have 40 drops to examine.\n",
      "Some have multiple ionizations, we will only examine 1 per set of ionizations.\n",
      "Each drop has 11 parameters.\n",
      "\n",
      "[3.65e-05, 0.00025, 4.72e-05, 0.000263, 3.7e-05, 0.000132, 4.02e-05, 0.000215, 501.0, 6.01e-06, 7.25e-05]\n",
      "[0.000119, 4.31e-05, 0.000116, 4.39e-05, 0.000114, 0.0002, 0.000116, 9.57e-05, 501.0, 2.71e-06, 9.04e-05]\n",
      "[0.000125, 0.000179, 0.000114, 0.000208, 0.000125, 0.0002, 0.000121, 0.000196, 501.0, 6.56e-06, 1.54e-05]\n",
      "[8.77e-05, 0.000556, 0.000125, 0.000625, 0.000114, 0.000556, 0.000109, 0.000579, 501.0, 1.91e-05, 4.01e-05]\n",
      "[0.000111, 0.000714, 0.000119, 0.000833, 0.000122, 0.000833, 0.000117, 0.000794, 501.0, 5.61e-06, 6.87e-05]\n",
      "[3.76e-05, 0.000185, 3.23e-05, 0.000217, 4.24e-05, 0.000172, 3.74e-05, 0.000192, 501.0, 5.06e-06, 2.32e-05]\n",
      "[3.01e-05, 0.000417, 2.7e-05, 0.000333, 2.44e-05, 0.000357, 2.72e-05, 0.000369, 501.0, 2.87e-06, 4.29e-05]\n",
      "[2.79e-05, 0.000357, 3.31e-05, 0.000263, 2.92e-05, 0.000313, 3.01e-05, 0.000311, 501.0, 2.69e-06, 4.7e-05]\n",
      "[4.55e-05, 0.000417, 2.98e-05, 0.000179, 2.53e-05, 0.000185, 3.35e-05, 0.00026, 501.0, 1.06e-05, 0.000136]\n",
      "[4.55e-05, 0.000263, 3.62e-05, 0.00025, 2.33e-05, 0.00025, 3.5e-05, 0.000254, 501.0, 1.12e-05, 7.6e-06]\n",
      "[2.58e-05, 0.00025, 2.36e-05, 0.000227, 3.03e-05, 0.000313, 2.66e-05, 0.000263, 501.0, 3.43e-06, 4.41e-05]\n",
      "[5.56e-05, 0.000166, 5.58e-05, 0.000126, 5.57e-05, 0.000143, 5.57e-05, 0.000145, 501.0, 9.48e-08, 2e-05]\n",
      "[4.31e-05, 0.000313, 4.72e-05, 0.000313, 4.03e-05, 0.000294, 4.35e-05, 0.000306, 501.0, 3.44e-06, 1.06e-05]\n",
      "[4.65e-05, 0.000179, 5.32e-05, 0.000167, 4.85e-05, 0.000294, 4.94e-05, 0.000213, 501.0, 3.42e-06, 7.04e-05]\n",
      "[3.95e-05, 0.00128, 4.09e-05, 0.000459, 3.91e-05, 0.000273, 3.98e-05, 0.000671, 501.0, 9.65e-07, 0.000537]\n",
      "[3.36e-05, 9.58e-05, 3.57e-05, 0.000155, 3.68e-05, 0.000155, 3.54e-05, 0.000135, 501.0, 1.59e-06, 3.43e-05]\n",
      "[3.67e-05, 0.000177, 3.76e-05, 0.000162, 2.85e-05, 6.97e-05, 3.43e-05, 0.000136, 501.0, 5e-06, 5.79e-05]\n",
      "[6.93e-05, 6.89e-05, 6.61e-05, 7.18e-05, 5.81e-05, 6.49e-05, 6.45e-05, 6.85e-05, 501.0, 5.76e-06, 3.46e-06]\n",
      "[6.54e-05, 3.08e-05, 6.25e-05, 2.91e-05, 5.25e-05, 0.000146, 6.01e-05, 6.86e-05, 501.0, 6.74e-06, 6.69e-05]\n",
      "[6.68e-05, 3.47e-05, 5.78e-05, 3.31e-05, 5.86e-05, 2.8e-05, 6.11e-05, 3.2e-05, 501.0, 5.01e-06, 3.5e-06]\n",
      "[5.11e-05, 4.55e-05, 6.02e-05, 3.99e-05, 5e-05, 5.02e-05, 5.38e-05, 4.52e-05, 501.0, 5.62e-06, 5.14e-06]\n",
      "[2.6e-05, 0.000209, 2.48e-05, 0.000221, 2.57e-05, 0.00041, 2.55e-05, 0.00028, 501.0, 6.21e-07, 0.000113]\n",
      "[3.1e-05, 0.000101, 2.55e-05, 0.000769, 3.36e-05, 0.000769, 3e-05, 0.000547, 501.0, 4.15e-06, 0.000386]\n",
      "[4.7e-05, 9.19e-05, 4.65e-05, 0.000227, 4.55e-05, 0.000208, 4.63e-05, 0.000176, 501.0, 7.82e-07, 7.33e-05]\n",
      "[4.55e-05, 0.000313, 3.99e-05, 0.000326, 4.17e-05, 0.000313, 4.24e-05, 0.000317, 501.0, 2.82e-06, 7.84e-06]\n",
      "[2.98e-05, 7.1e-05, 3.85e-05, 8.06e-05, 3.18e-05, 0.000103, 3.33e-05, 8.5e-05, 501.0, 4.55e-06, 1.66e-05]\n",
      "[5.75e-05, 0.000313, 5.81e-05, 0.000312, 5.81e-05, 0.000263, 5.79e-05, 0.000296, 501.0, 3.86e-07, 2.85e-05]\n",
      "[0.000185, 0.000185, 0.000172, 0.000172, 0.000179, 0.000172, 0.000179, 0.000177, 501.0, 6.39e-06, 7.37e-06]\n",
      "[0.000179, 0.000357, 0.000192, 0.000312, 0.000179, 0.000313, 0.000183, 0.000327, 501.0, 7.93e-06, 2.58e-05]\n",
      "[0.000167, 0.000333, 0.000172, 0.000313, 0.000172, 0.000312, 0.00017, 0.000319, 501.0, 3.32e-06, 1.2e-05]\n",
      "[0.000172, 0.000156, 0.000179, 0.000156, 0.000167, 0.000143, 0.000173, 0.000152, 501.0, 5.95e-06, 7.73e-06]\n",
      "[0.000172, 3.97e-05, 0.000172, 4.07e-05, 0.000172, 4.85e-05, 0.000172, 4.3e-05, 501.0, 3.9e-18, 4.86e-06]\n",
      "[4.76e-05, 6.49e-05, 5.1e-05, 5.75e-05, 5.1e-05, 6.58e-05, 4.99e-05, 6.27e-05, 501.0, 1.96e-06, 4.58e-06]\n",
      "[3.38e-05, 0.000312, 2.86e-05, 0.0005, 3.29e-05, 0.000625, 3.17e-05, 0.000479, 501.0, 2.79e-06, 0.000157]\n",
      "[3.79e-05, 0.000208, 3.85e-05, 0.00025, 3.82e-05, 0.000227, 3.82e-05, 0.000229, 501.0, 2.91e-07, 2.09e-05]\n",
      "[6.58e-05, 0.000313, 6.94e-05, 0.000357, 6.41e-05, 0.0005, 6.64e-05, 0.00039, 501.0, 2.73e-06, 9.79e-05]\n",
      "[7.46e-05, 0.000556, 7.94e-05, 0.000455, 7.58e-05, 0.0005, 7.66e-05, 0.000503, 501.0, 2.47e-06, 5.06e-05]\n",
      "[7.58e-05, 0.000278, 7.81e-05, 0.000278, 7.35e-05, 0.000294, 7.58e-05, 0.000283, 501.0, 2.3e-06, 9.43e-06]\n",
      "[6.76e-05, 0.00025, 6.58e-05, 0.000238, 6.85e-05, 0.000278, 6.73e-05, 0.000255, 501.0, 1.37e-06, 2.04e-05]\n",
      "[6.41e-05, 0.000238, 7.14e-05, 0.000227, 6.41e-05, 0.000238, 6.65e-05, 0.000234, 501.0, 4.23e-06, 6.25e-06]\n"
     ]
    }
   ],
   "source": [
    "all_drops = CreateDropsDatabase(\"Velocities.csv\")\n",
    "print(f\"\\nWe have {len(all_drops)} drops to examine.\")\n",
    "print(f\"Some have multiple ionizations, we will only examine 1 per set of ionizations.\")\n",
    "print(f\"Each drop has {len(all_drops[0])} parameters.\\n\")\n",
    "\n",
    "for x in all_drops: \n",
    "    print(x)"
   ]
  },
  {
   "cell_type": "markdown",
   "metadata": {},
   "source": [
    "# Calculate the charge values"
   ]
  },
  {
   "cell_type": "code",
   "execution_count": 23,
   "metadata": {},
   "outputs": [],
   "source": [
    "#Assign lists \n",
    "r_vel_notav, q_vel_notav = func.Radii_Charge_NotAveragedVel(all_drops)\n",
    "# r_velav, q_velav = func.Radii_Charge_VelAVERAGED(all_drops)"
   ]
  },
  {
   "cell_type": "code",
   "execution_count": 24,
   "metadata": {},
   "outputs": [
    {
     "name": "stdout",
     "output_type": "stream",
     "text": [
      "6.41e-05\n"
     ]
    }
   ],
   "source": [
    "#test pull paramater \n",
    "print(all_drops[-1][0])"
   ]
  },
  {
   "cell_type": "code",
   "execution_count": 25,
   "metadata": {},
   "outputs": [],
   "source": [
    "# # print to see list \n",
    "# print(\"Charges from velocites, not averaged velocites:\")\n",
    "# print(f\"Amount of charge's = {len(q_vel_notav)}\")\n",
    "# print(q_vel_notav) # this values is defined later and it is a reshaping"
   ]
  },
  {
   "cell_type": "code",
   "execution_count": 26,
   "metadata": {},
   "outputs": [],
   "source": [
    "def varq(ri, v_y0, v_yE, sigvf, sigvr):\n",
    "    phi1 = ((18*np.pi)/501)\n",
    "    insqrt = (n_o**3)/(2*g*p)\n",
    "    phi2 = np.sqrt(insqrt)\n",
    "\n",
    "    #radius input\n",
    "    c = 1 + (b/(p*ri))\n",
    "    incubrt = 1/c\n",
    "    phi3 = incubrt**(3/2)\n",
    "\n",
    "    phi = phi1*phi2*phi3\n",
    "\n",
    "    #term1 sigma v_y0\n",
    "    t1 = phi*d*(v_yE-3*v_y0)\n",
    "    t2 = 2*np.sqrt(v_y0)\n",
    "\n",
    "    term1 = ((t1/t2)**2)*sigvf**2\n",
    "\n",
    "    #term2 sigma v_yE\n",
    "    t3 = phi*d*np.sqrt(v_y0)\n",
    "\n",
    "    term2 = (t3**2)*sigvr**2\n",
    "\n",
    "    #term3 sigma d\n",
    "    t4 = phi*np.sqrt(v_y0)*(v_yE-v_y0)\n",
    "\n",
    "    term3 = (t4**2)*sigd**2\n",
    "\n",
    "    #variance\n",
    "    varq = term1+term2+term3 \n",
    "\n",
    "    return varq\n",
    "\n"
   ]
  },
  {
   "cell_type": "code",
   "execution_count": 27,
   "metadata": {},
   "outputs": [],
   "source": [
    "def sigmaCharge_NotAveragedVel(drops_list_of_lists): \n",
    "    # droplet = to loop through\n",
    "    # drops a list of lists previously created\n",
    "\n",
    "    # function takes list to loop through\n",
    "    # returns two lists one for radius and one for charge \n",
    "    list_of_radius_values = []\n",
    "    list_of_charge_values =[]\n",
    "\n",
    "\n",
    "    for droplet in drops_list_of_lists: \n",
    "        # n = index value of 1droplets parameters\n",
    "        # n = 0  \n",
    "        # print(droplet)\n",
    "        for i in range(3): \n",
    "            idx = i * 2\n",
    "\n",
    "            # if n > 4: \n",
    "            #     break\n",
    "            # else: \n",
    "            if droplet[idx] ==0 or droplet[idx+1] ==0: \n",
    "                list_of_radius_values.append(0)\n",
    "                list_of_charge_values.append(0)\n",
    "                print(\"no value vf.vr\")\n",
    "                continue\n",
    "            else:\n",
    "                # print(n)\n",
    "                # print('new drop vf.vr')\n",
    "                # print(droplet[n])\n",
    "                # print(droplet[n+1])\n",
    "\n",
    "                ri = radius(droplet[idx])\n",
    "                list_of_radius_values.append(ri)\n",
    "\n",
    "                #calculate charge \n",
    "                qi = q1(ri,droplet[idx],droplet[idx+1],droplet[8])\n",
    "                list_of_charge_values.append(qi)\n",
    "                # n += 2\n",
    "    return list_of_radius_values, list_of_charge_values"
   ]
  },
  {
   "cell_type": "code",
   "execution_count": 28,
   "metadata": {},
   "outputs": [
    {
     "name": "stdout",
     "output_type": "stream",
     "text": [
      "1.27e-05\n"
     ]
    }
   ],
   "source": [
    "print(sigd)"
   ]
  }
 ],
 "metadata": {
  "interpreter": {
   "hash": "7d3258cfacded4785c99b420370e2115023612e47f2b7fc1bb6ca140f7e09403"
  },
  "kernelspec": {
   "display_name": "Python 3.9.0 ('.venv': poetry)",
   "language": "python",
   "name": "python3"
  },
  "language_info": {
   "codemirror_mode": {
    "name": "ipython",
    "version": 3
   },
   "file_extension": ".py",
   "mimetype": "text/x-python",
   "name": "python",
   "nbconvert_exporter": "python",
   "pygments_lexer": "ipython3",
   "version": "3.9.0"
  },
  "orig_nbformat": 4
 },
 "nbformat": 4,
 "nbformat_minor": 2
}
