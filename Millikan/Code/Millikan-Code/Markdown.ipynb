{
 "cells": [
  {
   "cell_type": "markdown",
   "metadata": {},
   "source": [
    "# Required Functions\n",
    "1. Need list or Database to take in Measured & Calculated values per droplet ionization\n",
    "> Droplet Database: \n",
    ">> Idetifier: Droplet(i) for $i \\in (1,2,3...)$ for a specific ionization<br>\n",
    "\n",
    ">> Set:<br>\n",
    ">> - V, b, g, p, $\\eta_0$, $\\rho$, d<br>\n",
    "\n",
    ">> Measured/Computed:<br>\n",
    ">> - $v_{y0i}$ = $\\frac{ x_{i0}}{ t_{i0}}$<br>\n",
    ">> - $a$<br>\n",
    ">> - $\\eta_{eff}$<br>\n",
    ">> - $v_{yEi}$= $\\frac{ x_{iE}}{ t_{iE}}$<br>\n",
    ">> - $q$<br>\n",
    "\n",
    "\n",
    "2. Need equation/function for radius (simplified for coding)\n",
    "> $$a = \\sqrt{\\left(\\frac{b}{2p}\\right)^2 + \\frac{9v_{y0}\\eta_0}{2 \\rho g}} -\\left(\\frac{b}{2p}\\right)$$\n",
    "> > $$a = \\sqrt{\\left(\\alpha\\right)^2 + \\beta} -\\left(\\alpha\\right)$$\n",
    "\n",
    "\n",
    "3. Need equation/function for charge (simplified for coding)\n",
    "> $$ q = \\frac{4}{3}\\pi \\rho g \\frac{d}{V}\\left(\n",
    "\\sqrt{\\left(\\frac{b}{2p}\\right)^2 + \\frac{9v_{y0}\\eta_0}{2 \\rho g}} -\\left(\\frac{b}{2p}\\right)\n",
    "\\right)^3 \\cdot \\frac{v_{yE}-v_{y0}}{v_{y0}}$$\n",
    "> > $$ q = \\frac{4}{3}\\pi \\rho g \\frac{d}{V}a^3 \\cdot \\frac{v_{yE}-v_{y0}}{v_{y0}}$$\n",
    "\n",
    "4. Need equations for Error propagation \n",
    "5. Need Graphs see images saved from speaking with the professor "
   ]
  },
  {
   "cell_type": "markdown",
   "metadata": {},
   "source": [
    "# Velocity propagation \n",
    "> $$V_f = V_r = V = \\frac{x}{t}$$\n",
    "\n",
    "# Error prop for Velocities \n",
    "> $$\\sigma_V^2 = (\\frac{\\partial V }{\\partial x})^2\\cdot (\\sigma_x)^2 + (\\frac{\\partial V }{\\partial t})^2\\cdot (\\sigma_t)^2$$\n",
    "\n",
    ">> $$\\frac{\\partial V }{\\partial x} = \\frac{1}{t}$$\n",
    "\n",
    ">> $$\\frac{\\partial V }{\\partial t} = \\frac{-x}{t^2}$$\n",
    "\n",
    "$$\n",
    "\\sigma_{vf}^2 = \\sigma_{vr}^2=  (\\frac{1}{t})^2\\cdot (\\sigma_x)^2 + (\\frac{x}{t^2})^2\\cdot (\\sigma_t)^2\n",
    "$$"
   ]
  },
  {
   "cell_type": "markdown",
   "metadata": {},
   "source": [
    "# Radius Propagation\n",
    "> $$a = \\sqrt{\\left(\\frac{b}{2p}\\right)^2 + \\frac{9v_{y0}\\eta_0}{2 \\rho g}} -\\left(\\frac{b}{2p}\\right)$$\n",
    "> > $$a = \\sqrt{\\left(\\alpha\\right)^2 + \\beta} -\\left(\\alpha\\right)$$\n",
    "> > $$a = \\sqrt{\\left(\\alpha\\right)^2 + \\gamma \\cdot v_{y0}} -\\left(\\alpha\\right)$$\n",
    "\n",
    "\n",
    "\n"
   ]
  },
  {
   "cell_type": "markdown",
   "metadata": {},
   "source": [
    "> $$\\sigma_a^2 = (\\frac{\\partial a }{\\partial v_{y0}})^2\\cdot (\\sigma_{v_{y0}})^2 $$\n",
    "\n",
    "$$\n",
    "\\sigma_a^2 = \\left(\\frac{\\gamma}{2\\sqrt{\\alpha^2 - \\gamma \\cdot v_{y0}}}\\right)^2 \\cdot (\\sigma_{v_{y0}})^2 \n",
    "$$"
   ]
  },
  {
   "cell_type": "markdown",
   "metadata": {},
   "source": [
    "# Charge Propagation\n",
    "> $$q = \\frac{18\\pi}{V}\\cdot\\sqrt{\\frac{\\eta_0^3}{2gp}}\\cdot \\left( \\frac{1}{(1+\\frac{b}{p a})}\\right)^{\\frac{3}{2}}\\cdot d \\cdot \\sqrt{v_{y0}}\\cdot(v_{yE}-v_{y0}) $$\n",
    "\n",
    ">> $$q = \\phi\\cdot d \\cdot\\sqrt{v_{y0}}\\cdot(v_{yE}-v_{y0}) $$\n",
    "\n",
    ">> $$\\sigma_q^2 = (\\frac{\\partial q }{\\partial v_{y0}})^2\\cdot (\\sigma_{v_{y0}})^2 +(\\frac{\\partial q }{\\partial v_{yE}})^2\\cdot (\\sigma_{v_{yE}})^2 +(\\frac{\\partial q }{\\partial d})^2\\cdot (\\sigma_{d})^2 $$"
   ]
  },
  {
   "cell_type": "markdown",
   "metadata": {},
   "source": [
    "$$\n",
    "\\sigma_q^2 = \\left(\\frac{\\phi \\cdot d \\cdot ( v_{yE}-3v_{y0} )}{2\\sqrt{v_{y0}}}\\right)^2\\cdot (\\sigma_{v_{y0}})^2 +(\\phi \\cdot d \\cdot \\sqrt{v_{y0}})^2\\cdot (\\sigma_{v_{yE}})^2 +(\\phi \\cdot\\sqrt{v_{y0}}\\cdot(v_{yE}-v_{y0}))^2\\cdot (\\sigma_{d})^2 \n",
    "$$\n"
   ]
  },
  {
   "cell_type": "markdown",
   "metadata": {},
   "source": [
    "# Sample Variance Function\n",
    "$$ \n",
    "s^2 = \\frac{1}{n-1}\\Sigma(x_i - \\mu)^2\n",
    "$$\n",
    "\n",
    "> $s^2$ : Sample (finite) Variance<br>\n",
    "$x_i$ : sample value<br>\n",
    "$\\mu$ : mean value of samples<br>\n",
    "n : number of \"bounces\"<br>\n",
    ">> e.g.: D1_ionization1 = [1(vf,vr), 2(vf,vr), 3(vf,vr)], n =  3 for 3 \"bounce recordings\" \n",
    "\n",
    "# Simple Average Vs Weighted Average \n",
    "> `Simple` is used if the uncertianty is consistent for each measure<br>\n",
    "`Weighted` is used to incerase our uncertianty and would be due to each measurement having different uncertainies \n",
    "\n",
    "## Simple Average and it's Uncertianty \n",
    "$$\n",
    "\\bar{X} = \\frac{1}{n}\\Sigma x_i \\\\\n",
    "$$\n",
    "$$\n",
    "\\sigma_{\\bar{X}} = \\frac{\\sigma_x}{\\sqrt{n}}\n",
    "$$\n",
    "> where `$\\sigma_x$` is the assigned uncertainty not a calculated one (?)\n",
    "\n",
    "\n",
    "## Weighted \n",
    "$$\n",
    "\\bar{X} = \\Sigma \\left(\\frac{x_i}{\\sigma_{x_i}^2} \\cdot \\frac{1}{\\Sigma \\frac{1}{\\sigma_{x_i}^2}} \\right)\n",
    "$$\n",
    "\n",
    ">>> Q: is the uncertainty $\\sigma_{\\bar{X}}$ the same for both simple an weighted?<br>\n",
    ">>> Q: major issue I see is each uncertainty per droplet would be assumed to be identical - I cannot remember if we can do that"
   ]
  },
  {
   "cell_type": "markdown",
   "metadata": {},
   "source": [
    "# Compute new sigma per set of 3\n",
    "> $$\\sigma_q^2 = \\frac{1}{\\Sigma_i^3(\\frac{1}{\\sigma_{qi}^2})}$$"
   ]
  },
  {
   "cell_type": "markdown",
   "metadata": {},
   "source": [
    "# Compute new Charge per set of 3 \n",
    "> using weighted mean\n",
    ">> $$ \\bar{q} = \\frac{\\Sigma_i^3(\\frac{q_i}{\\sigma_i^2})}{\\Sigma_i^3(\\frac{1}{\\sigma_{qi}^2})}\n",
    "$$"
   ]
  }
 ],
 "metadata": {
  "interpreter": {
   "hash": "7d3258cfacded4785c99b420370e2115023612e47f2b7fc1bb6ca140f7e09403"
  },
  "kernelspec": {
   "display_name": "Python 3.9.0 ('.venv': poetry)",
   "language": "python",
   "name": "python3"
  },
  "language_info": {
   "codemirror_mode": {
    "name": "ipython",
    "version": 3
   },
   "file_extension": ".py",
   "mimetype": "text/x-python",
   "name": "python",
   "nbconvert_exporter": "python",
   "pygments_lexer": "ipython3",
   "version": "3.9.0"
  },
  "orig_nbformat": 4
 },
 "nbformat": 4,
 "nbformat_minor": 2
}
