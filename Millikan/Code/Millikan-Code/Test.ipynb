{
 "cells": [
  {
   "cell_type": "code",
   "execution_count": 20,
   "metadata": {},
   "outputs": [
    {
     "ename": "ImportError",
     "evalue": "cannot import name 'CreateDropsDatabase' from 'helper_functions' (c:\\Users\\mpmun\\OneDrive\\Documents\\1Pichardo\\UCSC\\Spring2022\\Phys134\\134code\\Millikan\\Code\\Millikan-Code\\helper_functions.py)",
     "output_type": "error",
     "traceback": [
      "\u001b[1;31m---------------------------------------------------------------------------\u001b[0m",
      "\u001b[1;31mImportError\u001b[0m                               Traceback (most recent call last)",
      "\u001b[1;32mc:\\Users\\mpmun\\OneDrive\\Documents\\1Pichardo\\UCSC\\Spring2022\\Phys134\\134code\\Millikan\\Code\\Millikan-Code\\Test.ipynb Cell 1'\u001b[0m in \u001b[0;36m<cell line: 7>\u001b[1;34m()\u001b[0m\n\u001b[0;32m      <a href='vscode-notebook-cell:/c%3A/Users/mpmun/OneDrive/Documents/1Pichardo/UCSC/Spring2022/Phys134/134code/Millikan/Code/Millikan-Code/Test.ipynb#ch0000000?line=1'>2</a>\u001b[0m \u001b[39mimport\u001b[39;00m \u001b[39mpandas\u001b[39;00m \u001b[39mas\u001b[39;00m \u001b[39mnp\u001b[39;00m\n\u001b[0;32m      <a href='vscode-notebook-cell:/c%3A/Users/mpmun/OneDrive/Documents/1Pichardo/UCSC/Spring2022/Phys134/134code/Millikan/Code/Millikan-Code/Test.ipynb#ch0000000?line=2'>3</a>\u001b[0m \u001b[39m# from helper_functions import radius\u001b[39;00m\n\u001b[0;32m      <a href='vscode-notebook-cell:/c%3A/Users/mpmun/OneDrive/Documents/1Pichardo/UCSC/Spring2022/Phys134/134code/Millikan/Code/Millikan-Code/Test.ipynb#ch0000000?line=3'>4</a>\u001b[0m \u001b[39m# from helper_functions import q1\u001b[39;00m\n\u001b[0;32m      <a href='vscode-notebook-cell:/c%3A/Users/mpmun/OneDrive/Documents/1Pichardo/UCSC/Spring2022/Phys134/134code/Millikan/Code/Millikan-Code/Test.ipynb#ch0000000?line=4'>5</a>\u001b[0m \u001b[39m# # from helper_functions import Droplet_Values\u001b[39;00m\n\u001b[0;32m      <a href='vscode-notebook-cell:/c%3A/Users/mpmun/OneDrive/Documents/1Pichardo/UCSC/Spring2022/Phys134/134code/Millikan/Code/Millikan-Code/Test.ipynb#ch0000000?line=5'>6</a>\u001b[0m \u001b[39m# from helper_functions import Radii_Charge\u001b[39;00m\n\u001b[1;32m----> <a href='vscode-notebook-cell:/c%3A/Users/mpmun/OneDrive/Documents/1Pichardo/UCSC/Spring2022/Phys134/134code/Millikan/Code/Millikan-Code/Test.ipynb#ch0000000?line=6'>7</a>\u001b[0m \u001b[39mfrom\u001b[39;00m \u001b[39mhelper_functions\u001b[39;00m \u001b[39mimport\u001b[39;00m CreateDropsDatabase\n\u001b[0;32m      <a href='vscode-notebook-cell:/c%3A/Users/mpmun/OneDrive/Documents/1Pichardo/UCSC/Spring2022/Phys134/134code/Millikan/Code/Millikan-Code/Test.ipynb#ch0000000?line=8'>9</a>\u001b[0m \u001b[39mimport\u001b[39;00m \u001b[39mhelper_functions\u001b[39;00m \u001b[39mas\u001b[39;00m \u001b[39mh\u001b[39;00m\n",
      "\u001b[1;31mImportError\u001b[0m: cannot import name 'CreateDropsDatabase' from 'helper_functions' (c:\\Users\\mpmun\\OneDrive\\Documents\\1Pichardo\\UCSC\\Spring2022\\Phys134\\134code\\Millikan\\Code\\Millikan-Code\\helper_functions.py)"
     ]
    }
   ],
   "source": [
    "import numpy as np\n",
    "import pandas as np\n",
    "# from helper_functions import CreateDropsDatabase\n",
    "\n",
    "import helper_functions as hfunc\n"
   ]
  },
  {
   "cell_type": "code",
   "execution_count": 19,
   "metadata": {},
   "outputs": [
    {
     "data": {
      "text/plain": [
       "6.10886151289543e-06"
      ]
     },
     "execution_count": 19,
     "metadata": {},
     "output_type": "execute_result"
    }
   ],
   "source": [
    "# h.CreateDropsDatabase(\"Velocities.csv\")\n",
    "# h.radius(4)"
   ]
  },
  {
   "cell_type": "code",
   "execution_count": null,
   "metadata": {},
   "outputs": [],
   "source": []
  }
 ],
 "metadata": {
  "interpreter": {
   "hash": "7d3258cfacded4785c99b420370e2115023612e47f2b7fc1bb6ca140f7e09403"
  },
  "kernelspec": {
   "display_name": "Python 3.9.0 ('.venv': poetry)",
   "language": "python",
   "name": "python3"
  },
  "language_info": {
   "codemirror_mode": {
    "name": "ipython",
    "version": 3
   },
   "file_extension": ".py",
   "mimetype": "text/x-python",
   "name": "python",
   "nbconvert_exporter": "python",
   "pygments_lexer": "ipython3",
   "version": "3.9.0"
  },
  "orig_nbformat": 4
 },
 "nbformat": 4,
 "nbformat_minor": 2
}
